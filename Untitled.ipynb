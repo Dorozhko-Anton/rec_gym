{
 "cells": [
  {
   "cell_type": "code",
   "execution_count": 1,
   "metadata": {},
   "outputs": [],
   "source": [
    "import pandas as pd\n",
    "import numpy as np\n",
    "\n"
   ]
  },
  {
   "cell_type": "code",
   "execution_count": 2,
   "metadata": {},
   "outputs": [
    {
     "name": "stdout",
     "output_type": "stream",
     "text": [
      "/home/anton/Datasets/MovieLens/ml-100k/u.genre\r\n"
     ]
    }
   ],
   "source": [
    "!ls /home/anton/Datasets/MovieLens/ml-100k/u.genre"
   ]
  },
  {
   "cell_type": "code",
   "execution_count": 3,
   "metadata": {},
   "outputs": [
    {
     "name": "stdout",
     "output_type": "stream",
     "text": [
      "unknown|0\r\n",
      "Action|1\r\n",
      "Adventure|2\r\n",
      "Animation|3\r\n",
      "Children's|4\r\n",
      "Comedy|5\r\n",
      "Crime|6\r\n",
      "Documentary|7\r\n",
      "Drama|8\r\n",
      "Fantasy|9\r\n",
      "Film-Noir|10\r\n",
      "Horror|11\r\n",
      "Musical|12\r\n",
      "Mystery|13\r\n",
      "Romance|14\r\n",
      "Sci-Fi|15\r\n",
      "Thriller|16\r\n",
      "War|17\r\n",
      "Western|18\r\n",
      "\r\n"
     ]
    }
   ],
   "source": [
    "!cat /home/anton/Datasets/MovieLens/ml-100k/u.genre"
   ]
  },
  {
   "cell_type": "code",
   "execution_count": 4,
   "metadata": {},
   "outputs": [
    {
     "name": "stdout",
     "output_type": "stream",
     "text": [
      "allbut.pl  u1.base  u2.test  u4.base  u5.test  ub.base\tu.genre  u.occupation\r\n",
      "mku.sh\t   u1.test  u3.base  u4.test  ua.base  ub.test\tu.info\t u.user\r\n",
      "README\t   u2.base  u3.test  u5.base  ua.test  u.data\tu.item\r\n"
     ]
    }
   ],
   "source": [
    "!ls /home/anton/Datasets/MovieLens/ml-100k/"
   ]
  },
  {
   "cell_type": "code",
   "execution_count": 5,
   "metadata": {},
   "outputs": [],
   "source": [
    "users = pd.read_csv('/home/anton/Datasets/MovieLens/ml-100k/u.user', sep='|', names=['age', 'gender', 'occupation', 'id'])"
   ]
  },
  {
   "cell_type": "code",
   "execution_count": 6,
   "metadata": {},
   "outputs": [],
   "source": [
    "from rec_gym.envs import MovieLensDRR, MovieLens100"
   ]
  },
  {
   "cell_type": "code",
   "execution_count": 7,
   "metadata": {},
   "outputs": [],
   "source": [
    "e = MovieLens100(\n",
    "                 n_items_to_recommend=1,\n",
    "                 env_seed=5,\n",
    "                 normalize_reward=False,\n",
    "                 session_time=None,\n",
    "                 session_size=20,\n",
    "                 shuffle_sessions=True,\n",
    "                 )"
   ]
  },
  {
   "cell_type": "code",
   "execution_count": 8,
   "metadata": {},
   "outputs": [],
   "source": [
    "from rec_gym.wrappers import BaselinesWrapper, DRR_BaselinesWrapper, StatsWrapper"
   ]
  },
  {
   "cell_type": "code",
   "execution_count": 9,
   "metadata": {},
   "outputs": [],
   "source": [
    "e = MovieLens100(\n",
    "                 n_items_to_recommend=1,\n",
    "                 env_seed=5,\n",
    "                 normalize_reward=False,\n",
    "                 session_time=None,\n",
    "                 session_size=20,\n",
    "                 shuffle_sessions=True,\n",
    "                 )\n",
    "\n",
    "e = StatsWrapper(e)\n",
    "e = DRR_BaselinesWrapper(e)\n"
   ]
  },
  {
   "cell_type": "code",
   "execution_count": 10,
   "metadata": {},
   "outputs": [
    {
     "name": "stdout",
     "output_type": "stream",
     "text": [
      "WARNING:tensorflow:From /home/anton/anaconda3/envs/datascience/lib/python3.7/site-packages/stable_baselines/ddpg/policies.py:136: flatten (from tensorflow.python.layers.core) is deprecated and will be removed in a future version.\n",
      "Instructions for updating:\n",
      "Use keras.layers.flatten instead.\n",
      "WARNING:tensorflow:From /home/anton/anaconda3/envs/datascience/lib/python3.7/site-packages/stable_baselines/ddpg/policies.py:138: dense (from tensorflow.python.layers.core) is deprecated and will be removed in a future version.\n",
      "Instructions for updating:\n",
      "Use keras.layers.dense instead.\n",
      "WARNING:tensorflow:From /home/anton/anaconda3/envs/datascience/lib/python3.7/site-packages/tensorflow/python/framework/op_def_library.py:263: colocate_with (from tensorflow.python.framework.ops) is deprecated and will be removed in a future version.\n",
      "Instructions for updating:\n",
      "Colocations handled automatically by placer.\n"
     ]
    }
   ],
   "source": [
    "import gym\n",
    "import numpy as np\n",
    "\n",
    "from stable_baselines.ddpg.policies import MlpPolicy\n",
    "from stable_baselines.common.vec_env import DummyVecEnv\n",
    "from stable_baselines.ddpg.noise import NormalActionNoise, OrnsteinUhlenbeckActionNoise, AdaptiveParamNoiseSpec\n",
    "from stable_baselines import DDPG\n",
    "\n",
    "env = e\n",
    "\n",
    "# the noise objects for DDPG\n",
    "n_actions = env.action_space.shape[-1]\n",
    "param_noise = None\n",
    "action_noise = OrnsteinUhlenbeckActionNoise(mean=np.zeros(n_actions), sigma=float(0.5) * np.ones(n_actions))\n",
    "\n",
    "model = DDPG(MlpPolicy, env, verbose=1, param_noise=param_noise, action_noise=action_noise, _init_setup_model=True)\n"
   ]
  },
  {
   "cell_type": "code",
   "execution_count": 11,
   "metadata": {},
   "outputs": [
    {
     "name": "stderr",
     "output_type": "stream",
     "text": [
      "/home/anton/anaconda3/envs/datascience/lib/python3.7/site-packages/gym/logger.py:30: UserWarning: \u001b[33mWARN: <class 'rec_gym.wrappers.baselines_wrapper.DRR_BaselinesWrapper'> doesn't implement 'reset' method, which is required for wrappers derived directly from Wrapper. Deprecated default implementation is used.\u001b[0m\n",
      "  warnings.warn(colorize('%s: %s'%('WARN', msg % args), 'yellow'))\n"
     ]
    },
    {
     "data": {
      "text/plain": [
       "array([[0, 0, 0, 0, 0, 0, 0, 0, 0, 0, 0, 0, 0, 0, 0, 0, 0, 0, 0, 0, 0, 0,\n",
       "        0, 0, 0, 0, 0, 0, 0, 0, 0, 0, 0, 0, 0, 0, 0, 0, 0, 0, 0, 0, 0, 0,\n",
       "        0, 0, 0, 0, 0, 0, 0, 0, 0, 0, 0, 0, 0, 0, 0, 0, 0, 0, 0, 0, 0, 0,\n",
       "        0, 0, 0, 0, 0, 0, 0, 0, 0, 0, 0, 0, 0, 0, 0, 0, 0, 0, 0, 0, 0, 0,\n",
       "        0, 0, 0, 0, 0, 0, 0]])"
      ]
     },
     "execution_count": 11,
     "metadata": {},
     "output_type": "execute_result"
    }
   ],
   "source": [
    "env.reset()"
   ]
  },
  {
   "cell_type": "code",
   "execution_count": 12,
   "metadata": {},
   "outputs": [],
   "source": [
    "import tqdm"
   ]
  },
  {
   "cell_type": "code",
   "execution_count": 13,
   "metadata": {},
   "outputs": [],
   "source": [
    "import math\n",
    "import random\n",
    "\n",
    "import gym\n",
    "import numpy as np\n",
    "\n",
    "import torch\n",
    "import torch.nn as nn\n",
    "import torch.optim as optim\n",
    "import torch.nn.functional as F\n",
    "from torch.distributions import Normal"
   ]
  },
  {
   "cell_type": "code",
   "execution_count": 14,
   "metadata": {},
   "outputs": [],
   "source": [
    "from IPython.display import clear_output\n",
    "import matplotlib.pyplot as plt\n",
    "%matplotlib inline"
   ]
  },
  {
   "cell_type": "code",
   "execution_count": 15,
   "metadata": {},
   "outputs": [],
   "source": [
    "use_cuda = torch.cuda.is_available()\n",
    "device   = torch.device(\"cuda\" if use_cuda else \"cpu\")"
   ]
  },
  {
   "cell_type": "code",
   "execution_count": 16,
   "metadata": {},
   "outputs": [
    {
     "data": {
      "text/plain": [
       "device(type='cuda')"
      ]
     },
     "execution_count": 16,
     "metadata": {},
     "output_type": "execute_result"
    }
   ],
   "source": [
    "device"
   ]
  },
  {
   "cell_type": "code",
   "execution_count": 17,
   "metadata": {},
   "outputs": [],
   "source": [
    "class ReplayBuffer:\n",
    "    def __init__(self, capacity):\n",
    "        self.capacity = capacity\n",
    "        self.buffer = []\n",
    "        self.position = 0\n",
    "    \n",
    "    def push(self, state, action, reward, next_state, done):\n",
    "        if len(self.buffer) < self.capacity:\n",
    "            self.buffer.append(None)\n",
    "        self.buffer[self.position] = (state, action, reward, next_state, done)\n",
    "        self.position = (self.position + 1) % self.capacity\n",
    "    \n",
    "    def sample(self, batch_size):\n",
    "        batch = random.sample(self.buffer, batch_size)\n",
    "        state, action, reward, next_state, done = map(np.stack, zip(*batch))\n",
    "        return state, action, reward, next_state, done\n",
    "    \n",
    "    def __len__(self):\n",
    "        return len(self.buffer)"
   ]
  },
  {
   "cell_type": "code",
   "execution_count": 18,
   "metadata": {},
   "outputs": [],
   "source": [
    "class NormalizedActions(gym.ActionWrapper):\n",
    "\n",
    "    def _action(self, action):\n",
    "        low_bound   = self.action_space.low\n",
    "        upper_bound = self.action_space.high\n",
    "        \n",
    "        action = low_bound + (action + 1.0) * 0.5 * (upper_bound - low_bound)\n",
    "        action = np.clip(action, low_bound, upper_bound)\n",
    "        \n",
    "        return action\n",
    "\n",
    "    def _reverse_action(self, action):\n",
    "        low_bound   = self.action_space.low\n",
    "        upper_bound = self.action_space.high\n",
    "        \n",
    "        action = 2 * (action - low_bound) / (upper_bound - low_bound) - 1\n",
    "        action = np.clip(action, low_bound, upper_bound)\n",
    "        \n",
    "        return actions"
   ]
  },
  {
   "cell_type": "code",
   "execution_count": 19,
   "metadata": {},
   "outputs": [],
   "source": [
    "class OUNoise(object):\n",
    "    def __init__(self, action_space, mu=0.0, theta=0.15, max_sigma=0.3, min_sigma=0.3, decay_period=100000):\n",
    "        self.mu           = mu\n",
    "        self.theta        = theta\n",
    "        self.sigma        = max_sigma\n",
    "        self.max_sigma    = max_sigma\n",
    "        self.min_sigma    = min_sigma\n",
    "        self.decay_period = decay_period\n",
    "        self.action_dim   = action_space.shape[0]\n",
    "        self.low          = action_space.low\n",
    "        self.high         = action_space.high\n",
    "        self.reset()\n",
    "        \n",
    "    def reset(self):\n",
    "        self.state = np.ones(self.action_dim) * self.mu\n",
    "        \n",
    "    def evolve_state(self):\n",
    "        x  = self.state\n",
    "        dx = self.theta * (self.mu - x) + self.sigma * np.random.randn(self.action_dim)\n",
    "        self.state = x + dx\n",
    "        return self.state\n",
    "    \n",
    "    def get_action(self, action, t=0):\n",
    "        ou_state = self.evolve_state()\n",
    "        self.sigma = self.max_sigma - (self.max_sigma - self.min_sigma) * min(1.0, t / self.decay_period)\n",
    "        return np.clip(action + ou_state, self.low, self.high)\n",
    "    \n",
    "#https://github.com/vitchyr/rlkit/blob/master/rlkit/exploration_strategies/ou_strategy.py"
   ]
  },
  {
   "cell_type": "code",
   "execution_count": 20,
   "metadata": {},
   "outputs": [],
   "source": [
    "def plot(frame_idx, rewards):\n",
    "    clear_output(True)\n",
    "    plt.figure(figsize=(20,5))\n",
    "    plt.subplot(131)\n",
    "    plt.title('frame %s. reward: %s' % (frame_idx, rewards[-1]))\n",
    "    plt.plot(rewards)\n",
    "    plt.show()"
   ]
  },
  {
   "cell_type": "code",
   "execution_count": 21,
   "metadata": {},
   "outputs": [],
   "source": [
    "class ValueNetwork(nn.Module):\n",
    "    def __init__(self, num_inputs, num_actions, hidden_size, init_w=3e-3):\n",
    "        super(ValueNetwork, self).__init__()\n",
    "        \n",
    "        self.linear1 = nn.Linear(num_inputs + num_actions, hidden_size)\n",
    "        self.linear2 = nn.Linear(hidden_size, hidden_size)\n",
    "        self.linear3 = nn.Linear(hidden_size, 1)\n",
    "        \n",
    "        self.linear3.weight.data.uniform_(-init_w, init_w)\n",
    "        self.linear3.bias.data.uniform_(-init_w, init_w)\n",
    "        \n",
    "    def forward(self, state, action):\n",
    "        x = torch.cat([state, action], 1)\n",
    "        x = F.relu(self.linear1(x))\n",
    "        x = F.relu(self.linear2(x))\n",
    "        x = self.linear3(x)\n",
    "        return x\n",
    "    \n",
    "\n",
    "class PolicyNetwork(nn.Module):\n",
    "    def __init__(self, num_inputs, num_actions, hidden_size, init_w=3e-3):\n",
    "        super(PolicyNetwork, self).__init__()\n",
    "        \n",
    "        self.linear1 = nn.Linear(num_inputs, hidden_size)\n",
    "        self.linear2 = nn.Linear(hidden_size, hidden_size)\n",
    "        self.linear3 = nn.Linear(hidden_size, num_actions)\n",
    "        \n",
    "        self.linear3.weight.data.uniform_(-init_w, init_w)\n",
    "        self.linear3.bias.data.uniform_(-init_w, init_w)\n",
    "        \n",
    "    def forward(self, state):\n",
    "        x = F.relu(self.linear1(state))\n",
    "        x = F.relu(self.linear2(x))\n",
    "        x = torch.tanh(self.linear3(x))\n",
    "        return x\n",
    "    \n",
    "    def get_action(self, state):\n",
    "        state  = torch.FloatTensor(state).unsqueeze(0).to(device)\n",
    "        action = self.forward(state)\n",
    "        return action.detach().cpu().numpy()[0, 0]"
   ]
  },
  {
   "cell_type": "code",
   "execution_count": 22,
   "metadata": {},
   "outputs": [],
   "source": [
    "def ddpg_update(batch_size, \n",
    "           gamma = 0.99,\n",
    "           min_value=-np.inf,\n",
    "           max_value=np.inf,\n",
    "           soft_tau=1e-2):\n",
    "    \n",
    "    state, action, reward, next_state, done = replay_buffer.sample(batch_size)\n",
    "    \n",
    "    state      = torch.FloatTensor(state).to(device)\n",
    "    next_state = torch.FloatTensor(next_state).to(device)\n",
    "    action     = torch.FloatTensor(action).to(device)\n",
    "    reward     = torch.FloatTensor(reward).unsqueeze(1).to(device)\n",
    "    done       = torch.FloatTensor(np.float32(done)).unsqueeze(1).to(device)\n",
    "\n",
    "    policy_loss = value_net(state, policy_net(state))\n",
    "    policy_loss = -policy_loss.mean()\n",
    "\n",
    "    next_action    = target_policy_net(next_state)\n",
    "    target_value   = target_value_net(next_state, next_action.detach())\n",
    "    expected_value = reward + (1.0 - done) * gamma * target_value\n",
    "    expected_value = torch.clamp(expected_value, min_value, max_value)\n",
    "\n",
    "    value = value_net(state, action)\n",
    "    value_loss = value_criterion(value, expected_value.detach())\n",
    "    \n",
    "#     print(value_loss, policy_loss)\n",
    "        \n",
    "    policy_optimizer.zero_grad()\n",
    "    policy_loss.backward()\n",
    "    policy_optimizer.step()\n",
    "\n",
    "    value_optimizer.zero_grad()\n",
    "    value_loss.backward()\n",
    "    value_optimizer.step()\n",
    "\n",
    "    for target_param, param in zip(target_value_net.parameters(), value_net.parameters()):\n",
    "            target_param.data.copy_(\n",
    "                target_param.data * (1.0 - soft_tau) + param.data * soft_tau\n",
    "            )\n",
    "\n",
    "    for target_param, param in zip(target_policy_net.parameters(), policy_net.parameters()):\n",
    "            target_param.data.copy_(\n",
    "                target_param.data * (1.0 - soft_tau) + param.data * soft_tau\n",
    "            )"
   ]
  },
  {
   "cell_type": "code",
   "execution_count": 23,
   "metadata": {},
   "outputs": [],
   "source": [
    "# e = MovieLens100(\n",
    "#                  n_items_to_recommend=1,\n",
    "#                  env_seed=5,\n",
    "#                  normalize_reward=False,\n",
    "#                  session_time=None,\n",
    "#                  session_size=20,\n",
    "#                  shuffle_sessions=True,\n",
    "#                  )\n",
    "\n",
    "# e = StatsWrapper(e)\n",
    "# e = DRR_BaselinesWrapper(e)\n",
    "\n",
    "def make_env(session_size=10, seed=123):\n",
    "#     env = MovieLens100(\n",
    "#                  n_items_to_recommend=1,\n",
    "#                  env_seed=seed,\n",
    "#                  normalize_reward=False,\n",
    "#                  session_time=None,\n",
    "#                  session_size=session_size,\n",
    "#                  shuffle_sessions=True,\n",
    "#                  )  \n",
    "    CACHE_DIR = \"/home/anton/cache\"\n",
    "    \n",
    "    \n",
    "    env = MovieLensDRR(embedding_dimension=20, \n",
    "             n_items_to_recommend=1, \n",
    "             env_seed=seed,\n",
    "             normalize_reward=True,\n",
    "#              filename=\"/home/anton/Datasets/MovieLens/ml-100k/u.data\",\n",
    "#              sep='\\t',\n",
    "             filename=\"/home/anton/Datasets/MovieLens/ml-1m/ratings.dat\",\\\n",
    "             sep='::',\\\n",
    "#              session_time = 20 * 60,\n",
    "             session_size = session_size,\n",
    "             cache_dir=CACHE_DIR,\n",
    "             shuffle_sessions=False)\n",
    "    \n",
    "#     env = MovieLensDRR(embedding_dimension=40, \n",
    "#              n_items_to_recommend=1, \n",
    "#              env_seed=seed,\n",
    "#              normalize_reward=True,\n",
    "#              filename=\"/home/anton/Datasets/MovieLens/ml-100k/u.data\",\n",
    "#              sep='\\t',\n",
    "#     #              session_time = 20 * 60,\n",
    "#              session_size = session_size,\n",
    "#              cache_dir=CACHE_DIR,\n",
    "#              shuffle_sessions=True\n",
    "#                       )\n",
    "    \n",
    "    env = StatsWrapper(env)\n",
    "    env = DRR_BaselinesWrapper(env)\n",
    "    return env\n",
    "\n",
    "envs_kv = { 'ml_100k_s20_seed{}'.format(x) : lambda: make_env(20, x) \n",
    "             for x in [100] }\n",
    "\n",
    "import tqdm\n",
    "from collections import defaultdict"
   ]
  },
  {
   "cell_type": "code",
   "execution_count": 24,
   "metadata": {},
   "outputs": [
    {
     "data": {
      "application/vnd.jupyter.widget-view+json": {
       "model_id": "f8ab6833286740958935326a9821e6a1",
       "version_major": 2,
       "version_minor": 0
      },
      "text/plain": [
       "HBox(children=(IntProgress(value=0, max=1), HTML(value='')))"
      ]
     },
     "metadata": {},
     "output_type": "display_data"
    },
    {
     "name": "stderr",
     "output_type": "stream",
     "text": [
      "/mnt/0b9d5a44-bb63-4de1-9cfe-0da47b81e88a/TPT/3A/PRIM Vente Privee/WORK_DIR/rec_gym/rec_gym/envs/MovieLensDRR.py:61: ParserWarning: Falling back to the 'python' engine because the 'c' engine does not support regex separators (separators > 1 char and different from '\\s+' are interpreted as regex); you can avoid this warning by specifying engine='python'.\n",
      "  data = pd.read_csv(self.filename, sep=sep, names=data_columns)\n"
     ]
    },
    {
     "data": {
      "application/vnd.jupyter.widget-view+json": {
       "model_id": "add83cb3709b40d0a0fdc52a4fdfc618",
       "version_major": 2,
       "version_minor": 0
      },
      "text/plain": [
       "HBox(children=(IntProgress(value=0, max=800000), HTML(value='')))"
      ]
     },
     "metadata": {},
     "output_type": "display_data"
    },
    {
     "data": {
      "application/vnd.jupyter.widget-view+json": {
       "model_id": "165fe18755e34d7fb4057812bc4d1b62",
       "version_major": 2,
       "version_minor": 0
      },
      "text/plain": [
       "HBox(children=(IntProgress(value=0, max=190000), HTML(value='')))"
      ]
     },
     "metadata": {},
     "output_type": "display_data"
    },
    {
     "name": "stdout",
     "output_type": "stream",
     "text": [
      "\n"
     ]
    }
   ],
   "source": [
    "results = defaultdict(defaultdict)\n",
    "\n",
    "for name, env_fn in tqdm.tqdm_notebook(envs_kv.items()):\n",
    "    \n",
    "    env = env_fn()\n",
    "    \n",
    "    ou_noise = OUNoise(env.action_space)\n",
    "\n",
    "    state_dim  = env.observation_space.shape[0]\n",
    "    action_dim = env.action_space.shape[0]\n",
    "    hidden_dim = 32\n",
    "\n",
    "    value_net  = ValueNetwork(state_dim, action_dim, hidden_dim).to(device)\n",
    "    policy_net = PolicyNetwork(state_dim, action_dim, hidden_dim).to(device)\n",
    "\n",
    "    target_value_net  = ValueNetwork(state_dim, action_dim, hidden_dim).to(device)\n",
    "    target_policy_net = PolicyNetwork(state_dim, action_dim, hidden_dim).to(device)\n",
    "\n",
    "    for target_param, param in zip(target_value_net.parameters(), value_net.parameters()):\n",
    "        target_param.data.copy_(param.data)\n",
    "\n",
    "    for target_param, param in zip(target_policy_net.parameters(), policy_net.parameters()):\n",
    "        target_param.data.copy_(param.data)\n",
    "\n",
    "\n",
    "    value_lr  = 1e-3\n",
    "    policy_lr = 1e-4\n",
    "\n",
    "    value_optimizer  = optim.Adam(value_net.parameters(),  lr=value_lr)\n",
    "    policy_optimizer = optim.Adam(policy_net.parameters(), lr=policy_lr)\n",
    "\n",
    "    value_criterion = nn.MSELoss()\n",
    "\n",
    "    replay_buffer_size = 1000\n",
    "    replay_buffer = ReplayBuffer(replay_buffer_size)\n",
    "\n",
    "\n",
    "    obs0 = env.reset()\n",
    "\n",
    "    for i in tqdm.tqdm_notebook(range(800000)):\n",
    "\n",
    "        action = env.unwrapped.get_ground_truth_action(emb=True).embedding\n",
    "        obs1, reward, terminal1, info = env.step(action)\n",
    "\n",
    "    #     model._store_transition(obs0, action, reward, obs1, terminal1)\n",
    "\n",
    "        replay_buffer.push(state=obs0[0], action=action, \n",
    "                           reward=reward, next_state=obs1[0], done=terminal1)\n",
    "        \n",
    "        batch_size = 64\n",
    "        if i % 50 == 0:\n",
    "            if len(replay_buffer) > batch_size:\n",
    "                ddpg_update(batch_size)\n",
    "        \n",
    "        if terminal1:\n",
    "            obs0 = env.reset()\n",
    "        else:\n",
    "            obs0 = obs1\n",
    "\n",
    "\n",
    "#     for i in tqdm.tqdm_notebook(range(100)):\n",
    "#         ddpg_update(batch_size=64)\n",
    "\n",
    "    for i in tqdm.tqdm_notebook(range(190000)):\n",
    "        a = policy_net.get_action(obs0)\n",
    "        obs1, reward, terminal1, info = env.step(action)\n",
    "\n",
    "        if terminal1:\n",
    "            obs0 = env.reset()\n",
    "        else:\n",
    "            obs0 = obs1\n",
    "            \n",
    "    results[name]['ddpg'] = env.env.interactions\n"
   ]
  },
  {
   "cell_type": "code",
   "execution_count": 25,
   "metadata": {},
   "outputs": [],
   "source": [
    "def precision_at_k(recs, gt, k):\n",
    "    relevant_items = set(gt[:k])\n",
    "    \n",
    "    rec_rel = [item in relevant_items for item in recs[:k]]\n",
    "    return np.mean(rec_rel)\n",
    "    \n",
    "    \n",
    "def precision_at_k_thresh(rewards, k, threshold=0.):\n",
    "    rec_rel = [r >= threshold for r in rewards[:k]]\n",
    "    return np.mean(rec_rel)\n",
    "\n",
    "def dcg_at_k(rewards, k):\n",
    "    dcg = 0\n",
    "    for i, r in enumerate(rewards[:k]):\n",
    "        if i == 0:\n",
    "            dcg += r\n",
    "        else:\n",
    "            dcg += 2**r - 1 / np.log2(i+1)\n",
    "    return dcg\n",
    "\n",
    "def ndcg_at_k(rewards, k):\n",
    "    maxdcg = dcg_at_k(np.sort(rewards)[::-1], k)\n",
    "    if maxdcg == 0: return 0\n",
    "    return dcg_at_k(rewards, k) / maxdcg"
   ]
  },
  {
   "cell_type": "code",
   "execution_count": 26,
   "metadata": {},
   "outputs": [],
   "source": [
    "from collections import defaultdict\n",
    "TRAIN_STEPS = 800000\n",
    "EVAL_STEPS = 190000\n",
    "THRESH = 0.5"
   ]
  },
  {
   "cell_type": "code",
   "execution_count": 27,
   "metadata": {},
   "outputs": [
    {
     "name": "stdout",
     "output_type": "stream",
     "text": [
      "            |Precision@5 |Precision@10|Precision@15|Precision@20|NDCG@5      |NDCG@10     |NDCG@15     |NDCG@20     \n",
      "ddpg        |0.75 +-0.000|0.73 +-0.000|0.70 +-0.000|0.65 +-0.000|0.80 +-0.000|0.82 +-0.000|0.82 +-0.000|0.80 +-0.000\n",
      "            |Precision@5 |Precision@10|Precision@15|Precision@20|NDCG@5      |NDCG@10     |NDCG@15     |NDCG@20     \n",
      "ddpg        |0.41 +-0.000|0.39 +-0.000|0.36 +-0.000|0.31 +-0.000|0.55 +-0.000|0.62 +-0.000|0.66 +-0.000|0.67 +-0.000\n"
     ]
    }
   ],
   "source": [
    "all_metrics = defaultdict(lambda: defaultdict(dict))\n",
    "\n",
    "for THRESH in [0.5, 0.6]:\n",
    "\n",
    "    for dataset_name in results:\n",
    "        for algorithm in results[dataset_name]:\n",
    "            metrics = {}\n",
    "\n",
    "            interactions = results[dataset_name][algorithm]\n",
    "            session_recs_by_user = defaultdict(lambda : defaultdict(list))\n",
    "            session_gt_by_user = defaultdict(lambda : defaultdict(list))\n",
    "            session_rewards_by_user = defaultdict(lambda : defaultdict(list))\n",
    "\n",
    "            prev_user = None\n",
    "\n",
    "            for i in interactions[TRAIN_STEPS:]:\n",
    "                u = i.uid \n",
    "                recs = i.recs\n",
    "                gt = i.raw_info['ground_truth_items']\n",
    "                rewards = i.rewards\n",
    "\n",
    "                if prev_user is None or u != prev_user:\n",
    "                    prev_user = u\n",
    "                    user_session = len(session_recs_by_user[prev_user])\n",
    "\n",
    "                session_recs_by_user[prev_user][user_session].extend(recs)\n",
    "                session_gt_by_user[prev_user][user_session].extend(gt)\n",
    "                session_rewards_by_user[prev_user][user_session].extend(rewards)\n",
    "\n",
    "\n",
    "            for K in [5, 10, 15, 20]:\n",
    "\n",
    "                precisions = []\n",
    "                precisions_thresh = []\n",
    "                ndcgs = []\n",
    "\n",
    "                for k, v in session_recs_by_user.items():\n",
    "                    for session_number in v:\n",
    "\n",
    "                        recs = session_recs_by_user[k][session_number]\n",
    "                        gt = session_gt_by_user[k][session_number]\n",
    "                        rew = session_rewards_by_user[k][session_number]\n",
    "\n",
    "                        p_at_k = precision_at_k(recs, gt, K)\n",
    "                        precisions.append(p_at_k)\n",
    "\n",
    "                        precisions_thresh.append(precision_at_k_thresh(rew, K, THRESH))\n",
    "\n",
    "                        ndcgs.append(ndcg_at_k(np.array(rew)>=THRESH, K))\n",
    "\n",
    "\n",
    "                metrics['NDCG@{}'.format(K)] = np.mean(ndcgs)\n",
    "                metrics['Precision@{}'.format(K)] = np.mean(precisions_thresh)\n",
    "\n",
    "\n",
    "            all_metrics[dataset_name][algorithm] = metrics\n",
    "\n",
    "    metrics_by_algorithm = defaultdict(lambda: defaultdict(list))\n",
    "\n",
    "    for dataset in all_metrics:\n",
    "        for algorithm in all_metrics[dataset]:\n",
    "\n",
    "            for k, v in all_metrics[dataset][algorithm].items():\n",
    "\n",
    "                metrics_by_algorithm[algorithm][k].append(v)\n",
    "\n",
    "    metrics_names = []\n",
    "    for n in [5, 10, 15, 20]:\n",
    "        metrics_names.append('Precision@{}'.format(n))\n",
    "    for n in [5, 10, 15, 20]:\n",
    "        metrics_names.append('NDCG@{}'.format(n))\n",
    "\n",
    "\n",
    "    s = ['{:12s}'.format('')] + [ \"{:12s}\".format(m) for m in metrics_names]\n",
    "    print('|'.join(s))\n",
    "\n",
    "    for k in metrics_by_algorithm:\n",
    "        s = ['{:12s}'.format(k)]\n",
    "        for m in metrics_names:\n",
    "            s.append(\"{:1.2f} +-{:1.3f}\".format(np.mean(metrics_by_algorithm[k][m]), \n",
    "                                                 np.std(metrics_by_algorithm[k][m])))\n",
    "\n",
    "        print('|'.join(s))\n"
   ]
  },
  {
   "cell_type": "code",
   "execution_count": 28,
   "metadata": {},
   "outputs": [
    {
     "ename": "KeyError",
     "evalue": "'ddpg'",
     "output_type": "error",
     "traceback": [
      "\u001b[0;31m---------------------------------------------------------------------------\u001b[0m",
      "\u001b[0;31mKeyError\u001b[0m                                  Traceback (most recent call last)",
      "\u001b[0;32m<ipython-input-28-95e4f51e452f>\u001b[0m in \u001b[0;36m<module>\u001b[0;34m\u001b[0m\n\u001b[1;32m      1\u001b[0m \u001b[0;32mimport\u001b[0m \u001b[0msys\u001b[0m\u001b[0;34m\u001b[0m\u001b[0;34m\u001b[0m\u001b[0m\n\u001b[0;32m----> 2\u001b[0;31m \u001b[0mresults\u001b[0m\u001b[0;34m[\u001b[0m\u001b[0;34m'ml_100k_s30_seed100'\u001b[0m\u001b[0;34m]\u001b[0m\u001b[0;34m[\u001b[0m\u001b[0;34m'ddpg'\u001b[0m\u001b[0;34m]\u001b[0m\u001b[0;34m[\u001b[0m\u001b[0;36m0\u001b[0m\u001b[0;34m]\u001b[0m\u001b[0;34m\u001b[0m\u001b[0;34m\u001b[0m\u001b[0m\n\u001b[0m",
      "\u001b[0;31mKeyError\u001b[0m: 'ddpg'"
     ]
    }
   ],
   "source": [
    "import sys\n",
    "results['ml_100k_s30_seed100']['ddpg'][0]"
   ]
  },
  {
   "cell_type": "code",
   "execution_count": null,
   "metadata": {},
   "outputs": [],
   "source": []
  },
  {
   "cell_type": "code",
   "execution_count": 29,
   "metadata": {},
   "outputs": [],
   "source": [
    "import matplotlib.pylab as plt\n",
    "import seaborn as sns\n",
    "sns.set()\n",
    "sns.set(font_scale=1.5) \n"
   ]
  },
  {
   "cell_type": "code",
   "execution_count": 30,
   "metadata": {},
   "outputs": [
    {
     "data": {
      "text/plain": [
       "dict_keys(['ml_100k_s20_seed100', 'ml_100k_s30_seed100'])"
      ]
     },
     "execution_count": 30,
     "metadata": {},
     "output_type": "execute_result"
    }
   ],
   "source": [
    "results.keys()"
   ]
  },
  {
   "cell_type": "code",
   "execution_count": 31,
   "metadata": {},
   "outputs": [],
   "source": [
    "counts = defaultdict(lambda: defaultdict(int))\n",
    "\n",
    "for name, interactions in results['ml_100k_s20_seed100'].items():\n",
    "    session_recs_by_user = defaultdict(lambda : defaultdict(list))\n",
    "    session_gt_by_user = defaultdict(lambda : defaultdict(list))\n",
    "    session_rewards_by_user = defaultdict(lambda : defaultdict(list))\n",
    "\n",
    "    prev_user = None\n",
    "\n",
    "    for i in interactions[TRAIN_STEPS:]:\n",
    "        u = i.uid \n",
    "        recs = i.recs\n",
    "        gt = i.raw_info['ground_truth_items']\n",
    "        rewards = i.rewards\n",
    "\n",
    "        if prev_user is None or u != prev_user:\n",
    "            prev_user = u\n",
    "            user_session = len(session_recs_by_user[prev_user])\n",
    "\n",
    "        session_recs_by_user[prev_user][user_session].extend(recs)\n",
    "        session_gt_by_user[prev_user][user_session].extend(gt)\n",
    "        session_rewards_by_user[prev_user][user_session].extend(rewards)\n",
    "\n",
    "    precisions = []\n",
    "    precisions_thresh = []\n",
    "    ndcgs = []\n",
    "\n",
    "    for k, v in session_recs_by_user.items():\n",
    "        for session_number in v:\n",
    "\n",
    "            recs = session_recs_by_user[k][session_number][:20]\n",
    "\n",
    "            for item in recs:\n",
    "                counts[name][item] += 1"
   ]
  },
  {
   "cell_type": "code",
   "execution_count": 32,
   "metadata": {},
   "outputs": [],
   "source": [
    "import cloudpickle"
   ]
  },
  {
   "cell_type": "code",
   "execution_count": 33,
   "metadata": {},
   "outputs": [],
   "source": [
    "with open('ddpg_1m_counts_s20', 'wb') as f:\n",
    "    cloudpickle.dump(counts, f)"
   ]
  },
  {
   "cell_type": "code",
   "execution_count": 34,
   "metadata": {},
   "outputs": [
    {
     "data": {
      "image/png": "[encoded data removed]",
      "text/plain": [
       "<Figure size 432x288 with 1 Axes>"
      ]
     },
     "metadata": {},
     "output_type": "display_data"
    }
   ],
   "source": [
    "fig = plt.figure()\n",
    "for name, c in counts.items():\n",
    "    plt.plot(np.cumsum(np.sort(list(c.values()))[::-1])/np.sum(list(c.values())), label=name)\n",
    "plt.legend()\n",
    "plt.show();\n",
    "\n",
    "fig.savefig('ddpg_impressions_s20.eps', format='eps')"
   ]
  },
  {
   "cell_type": "code",
   "execution_count": null,
   "metadata": {},
   "outputs": [],
   "source": [
    "state      = torch.FloatTensor(obs0).to(device)\n",
    "action =     torch.FloatTensor(policy_net.get_action(state)).unsqueeze(dim=0).to(device)"
   ]
  },
  {
   "cell_type": "code",
   "execution_count": null,
   "metadata": {},
   "outputs": [],
   "source": [
    "value_net(state, action)"
   ]
  },
  {
   "cell_type": "code",
   "execution_count": null,
   "metadata": {},
   "outputs": [],
   "source": [
    "action"
   ]
  },
  {
   "cell_type": "code",
   "execution_count": null,
   "metadata": {},
   "outputs": [],
   "source": []
  }
 ],
 "metadata": {
  "kernelspec": {
   "display_name": "datascience",
   "language": "python",
   "name": "datascience"
  },
  "language_info": {
   "codemirror_mode": {
    "name": "ipython",
    "version": 3
   },
   "file_extension": ".py",
   "mimetype": "text/x-python",
   "name": "python",
   "nbconvert_exporter": "python",
   "pygments_lexer": "ipython3",
   "version": "3.7.2"
  }
 },
 "nbformat": 4,
 "nbformat_minor": 2
}
