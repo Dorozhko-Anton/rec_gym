{
 "cells": [
  {
   "cell_type": "code",
   "execution_count": 1,
   "metadata": {},
   "outputs": [
    {
     "name": "stderr",
     "output_type": "stream",
     "text": [
      "/home/anton/anaconda3/lib/python3.6/site-packages/h5py/__init__.py:36: FutureWarning: Conversion of the second argument of issubdtype from `float` to `np.floating` is deprecated. In future, it will be treated as `np.float64 == np.dtype(float).type`.\n",
      "  from ._conv import register_converters as _register_converters\n"
     ]
    }
   ],
   "source": [
    "import gym, rec_gym\n",
    "import numpy as np\n",
    "import tensorflow as tf\n",
    "import gin\n",
    "\n",
    "from rec_gym.runner import run_experiment\n",
    "import rec_gym.envs.prim_env_v2\n",
    "\n",
    "import pickle"
   ]
  },
  {
   "cell_type": "code",
   "execution_count": 2,
   "metadata": {
    "collapsed": true
   },
   "outputs": [],
   "source": [
    "gin.parse_config(\"\"\"\n",
    "PrimEnv.n_items = 100\n",
    "PrimEnv.n_users = 1000\n",
    "PrimEnv.n_rec   = 1\n",
    "PrimEnv.embedding_dimension = 2\n",
    "PrimEnv.cluster_var = 16\n",
    "PrimEnv.in_cluster_var = 4\n",
    "PrimEnv.user_change_prob = 0.05\n",
    "PrimEnv.reward_noise = 0\n",
    "PrimEnv.user_init_sigma = 4\n",
    "PrimEnv.user_ar_coef = 1\n",
    "PrimEnv.user_drift_sigma = 0\n",
    "PrimEnv.seed = 53\n",
    "PrimEnv.user_type = 'drifting'\n",
    "PrimEnv.new_items_interval = 10000000\n",
    "PrimEnv.new_items_size = 0\n",
    "PrimEnv.return_items_objects = True\n",
    "\"\"\")\n",
    "\n",
    "\n",
    "def make_env():\n",
    "    env = gym.make('prim-gym-v2')\n",
    "    return env"
   ]
  },
  {
   "cell_type": "code",
   "execution_count": 3,
   "metadata": {},
   "outputs": [
    {
     "name": "stderr",
     "output_type": "stream",
     "text": [
      "Using TensorFlow backend.\n"
     ]
    }
   ],
   "source": [
    "from agents.baselines import DeepMF"
   ]
  },
  {
   "cell_type": "code",
   "execution_count": 4,
   "metadata": {
    "collapsed": true
   },
   "outputs": [],
   "source": [
    "env = make_env()\n",
    "\n",
    "state_dim = env.embedding_dimension\n",
    "action_dim = env.embedding_dimension\n",
    "action_size = env.n_rec"
   ]
  },
  {
   "cell_type": "code",
   "execution_count": 5,
   "metadata": {
    "collapsed": true
   },
   "outputs": [],
   "source": [
    "agent = DeepMF(item_embedding_size=action_dim, user_embedding_size=state_dim, train_steps=20)"
   ]
  },
  {
   "cell_type": "code",
   "execution_count": 6,
   "metadata": {},
   "outputs": [
    {
     "name": "stderr",
     "output_type": "stream",
     "text": [
      "100%|██████████| 10000/10000 [08:13<00:00, 20.25it/s]\n",
      "100%|██████████| 2000/2000 [01:49<00:00, 18.23it/s]\n"
     ]
    }
   ],
   "source": [
    "run_experiment(env, agent, t_train=10000, t_test=2000)"
   ]
  },
  {
   "cell_type": "code",
   "execution_count": 7,
   "metadata": {},
   "outputs": [
    {
     "data": {
      "application/vnd.jupyter.widget-view+json": {
       "model_id": "d00720e2f55e4ef993ecf1730aeb84aa",
       "version_major": 2,
       "version_minor": 0
      },
      "text/plain": [
       "interactive(children=(IntSlider(value=0, continuous_update=False, description='Time:', max=12000), Output()), …"
      ]
     },
     "metadata": {},
     "output_type": "display_data"
    }
   ],
   "source": [
    "from agents.utils import data_exploring_widget\n",
    "data_exploring_widget(env)"
   ]
  },
  {
   "cell_type": "code",
   "execution_count": null,
   "metadata": {
    "collapsed": true
   },
   "outputs": [],
   "source": []
  }
 ],
 "metadata": {
  "kernelspec": {
   "display_name": "Python 3",
   "language": "python",
   "name": "python3"
  },
  "language_info": {
   "codemirror_mode": {
    "name": "ipython",
    "version": 3
   },
   "file_extension": ".py",
   "mimetype": "text/x-python",
   "name": "python",
   "nbconvert_exporter": "python",
   "pygments_lexer": "ipython3",
   "version": "3.6.3"
  }
 },
 "nbformat": 4,
 "nbformat_minor": 2
}
