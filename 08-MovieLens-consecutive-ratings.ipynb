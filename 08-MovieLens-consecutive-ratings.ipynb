{
 "cells": [
  {
   "cell_type": "code",
   "execution_count": 1,
   "metadata": {},
   "outputs": [],
   "source": [
    "import pandas as pd\n",
    "import numpy as np"
   ]
  },
  {
   "cell_type": "code",
   "execution_count": 2,
   "metadata": {},
   "outputs": [],
   "source": [
    "df = pd.read_csv('../data/u.data', sep='\\t', names=['user_id', 'item_id', 'rating', 'timestamp'])\n",
    "movie_titles = pd.read_csv(\"../data/Movie_Id_Titles.txt\")"
   ]
  },
  {
   "cell_type": "code",
   "execution_count": 3,
   "metadata": {},
   "outputs": [],
   "source": [
    "df['date'] = pd.to_datetime(df['timestamp'], unit=\"s\")"
   ]
  },
  {
   "cell_type": "code",
   "execution_count": 4,
   "metadata": {},
   "outputs": [],
   "source": [
    "#df.groupby(by=['user_id'])\n",
    "a = df.sort_values(by=['user_id', 'date'])"
   ]
  },
  {
   "cell_type": "code",
   "execution_count": 5,
   "metadata": {},
   "outputs": [],
   "source": [
    "u1 = a[a['user_id'] == 1]"
   ]
  },
  {
   "cell_type": "code",
   "execution_count": 6,
   "metadata": {},
   "outputs": [
    {
     "name": "stderr",
     "output_type": "stream",
     "text": [
      "/home/anton/anaconda3/envs/datascience/lib/python3.6/site-packages/ipykernel_launcher.py:1: SettingWithCopyWarning: \n",
      "A value is trying to be set on a copy of a slice from a DataFrame.\n",
      "Try using .loc[row_indexer,col_indexer] = value instead\n",
      "\n",
      "See the caveats in the documentation: http://pandas.pydata.org/pandas-docs/stable/indexing.html#indexing-view-versus-copy\n",
      "  \"\"\"Entry point for launching an IPython kernel.\n"
     ]
    }
   ],
   "source": [
    "u1['session'] = (u1['timestamp'] - u1['timestamp'].shift(1) > 60*20).fillna(0).cumsum(skipna=False)"
   ]
  },
  {
   "cell_type": "code",
   "execution_count": 7,
   "metadata": {},
   "outputs": [
    {
     "name": "stderr",
     "output_type": "stream",
     "text": [
      "/home/anton/anaconda3/envs/datascience/lib/python3.6/site-packages/ipykernel_launcher.py:1: SettingWithCopyWarning: \n",
      "A value is trying to be set on a copy of a slice from a DataFrame.\n",
      "Try using .loc[row_indexer,col_indexer] = value instead\n",
      "\n",
      "See the caveats in the documentation: http://pandas.pydata.org/pandas-docs/stable/indexing.html#indexing-view-versus-copy\n",
      "  \"\"\"Entry point for launching an IPython kernel.\n"
     ]
    }
   ],
   "source": [
    "u1['rating'] = 0.5*(u1['rating'] - 3)"
   ]
  },
  {
   "cell_type": "code",
   "execution_count": 8,
   "metadata": {},
   "outputs": [
    {
     "name": "stdout",
     "output_type": "stream",
     "text": [
      "ml-100k  ml-100k.zip  Movie_Id_Titles.txt  u.data  u.item\r\n"
     ]
    }
   ],
   "source": [
    "!ls ../data"
   ]
  },
  {
   "cell_type": "code",
   "execution_count": 10,
   "metadata": {},
   "outputs": [],
   "source": [
    "#movie_info = pd.read_csv('../data/u.item', sep='|', encoding=\"ISO-8859-1\", names=['idx', 'title', 'date', 'x', 'link', *range(19)])"
   ]
  },
  {
   "cell_type": "code",
   "execution_count": 11,
   "metadata": {},
   "outputs": [],
   "source": [
    "df['rating_bin'] = df['rating'] > 3"
   ]
  },
  {
   "cell_type": "code",
   "execution_count": 12,
   "metadata": {},
   "outputs": [],
   "source": [
    "from collections import defaultdict\n",
    "#  current_consecutive = { user : { 'pos' : , 'neg' : } }\n",
    "#  ratings_pos = { 'n_pos' : [ratings] }\n",
    "#  ratings_neg = { 'n_neg' : [ratings] }\n",
    "current_consecutive = {}\n",
    "rating_pos = defaultdict(list)\n",
    "rating_neg = defaultdict(list)\n",
    "\n",
    "for i, row in df.sort_values('timestamp').iterrows():\n",
    "    user_id = row['user_id']\n",
    "    item_id = row['item_id']\n",
    "    rating  = row['rating']\n",
    "    ispositive = row['rating'] > 3\n",
    "    \n",
    "    if user_id not in current_consecutive:\n",
    "        current_consecutive[user_id] = {\n",
    "            'pos' : 0,\n",
    "            'neg' : 0,\n",
    "        }\n",
    "    \n",
    "    user = current_consecutive[user_id]\n",
    "    \n",
    "    if user['pos'] > 0:\n",
    "        rating_pos[user['pos']].append(rating)\n",
    "    if user['neg'] > 0:\n",
    "        rating_neg[user['neg']].append(rating)\n",
    "    \n",
    "    if ispositive:\n",
    "        if user['pos'] > 0:\n",
    "            user['pos'] += 1\n",
    "        else:\n",
    "            user['pos'] = 1\n",
    "            user['neg'] = 0        \n",
    "    else:\n",
    "        if user['neg'] > 0:\n",
    "            user['neg'] += 1\n",
    "        else:\n",
    "            user['neg'] = 1\n",
    "            user['pos'] = 0"
   ]
  },
  {
   "cell_type": "code",
   "execution_count": 13,
   "metadata": {},
   "outputs": [],
   "source": [
    "import matplotlib.pylab as plt\n",
    "import seaborn as sns\n",
    "%matplotlib inline"
   ]
  },
  {
   "cell_type": "code",
   "execution_count": 14,
   "metadata": {},
   "outputs": [
    {
     "data": {
      "image/png": "[encoded data removed]",
      "text/plain": [
       "<matplotlib.figure.Figure at 0x7ff79a103da0>"
      ]
     },
     "metadata": {
      "needs_background": "light"
     },
     "output_type": "display_data"
    }
   ],
   "source": [
    "n = 15\n",
    "plt.plot([ np.mean(v) for k, v in rating_pos.items()][:n], label='positive', color='green')\n",
    "plt.plot([ np.mean(v) for k, v in rating_neg.items()][:n], label='negative', color='red')\n",
    "plt.ylabel('average rating')\n",
    "plt.xlabel('consecutive count before recommendation')\n",
    "plt.title('MovieLens-100k ')\n",
    "plt.legend();"
   ]
  },
  {
   "cell_type": "code",
   "execution_count": null,
   "metadata": {},
   "outputs": [],
   "source": []
  }
 ],
 "metadata": {
  "kernelspec": {
   "display_name": "datascience",
   "language": "python",
   "name": "datascience"
  },
  "language_info": {
   "codemirror_mode": {
    "name": "ipython",
    "version": 3
   },
   "file_extension": ".py",
   "mimetype": "text/x-python",
   "name": "python",
   "nbconvert_exporter": "python",
   "pygments_lexer": "ipython3",
   "version": "3.7.2"
  }
 },
 "nbformat": 4,
 "nbformat_minor": 2
}
