{
 "cells": [
  {
   "cell_type": "code",
   "execution_count": 12,
   "metadata": {},
   "outputs": [
    {
     "name": "stdout",
     "output_type": "stream",
     "text": [
      "The autoreload extension is already loaded. To reload it, use:\n",
      "  %reload_ext autoreload\n"
     ]
    }
   ],
   "source": [
    "%load_ext autoreload\n",
    "%autoreload 2"
   ]
  },
  {
   "cell_type": "code",
   "execution_count": 13,
   "metadata": {
    "collapsed": true
   },
   "outputs": [],
   "source": [
    "import gym, rec_gym\n",
    "import numpy as np\n",
    "import tensorflow as tf\n",
    "\n",
    "from rec_gym.runner import run_experiment\n",
    "import gin\n",
    "import rec_gym.envs.prim_env_v1\n",
    "\n",
    "import pickle"
   ]
  },
  {
   "cell_type": "code",
   "execution_count": 14,
   "metadata": {},
   "outputs": [
    {
     "name": "stderr",
     "output_type": "stream",
     "text": [
      "/home/anton/anaconda3/lib/python3.6/site-packages/tensorflow/python/client/session.py:1702: UserWarning: An interactive session is already active. This can cause out-of-memory errors in some cases. You must explicitly call `InteractiveSession.close()` to release resources held by the other session(s).\n",
      "  warnings.warn('An interactive session is already active. This can '\n"
     ]
    }
   ],
   "source": [
    "gin.parse_config(\"\"\"\n",
    "PrimEnv1.n_items = 100\n",
    "PrimEnv1.n_users = 10\n",
    "PrimEnv1.n_rec   = 4\n",
    "PrimEnv1.embedding_dimension = 2\n",
    "PrimEnv1.cluster_var = 16\n",
    "PrimEnv1.in_cluster_var = 4\n",
    "PrimEnv1.user_change_prob = 0.05\n",
    "PrimEnv1.reward_noise = 0\n",
    "PrimEnv1.user_init_sigma = 4\n",
    "PrimEnv1.user_ar_coef = 1\n",
    "PrimEnv1.user_drift_sigma = 0\n",
    "PrimEnv1.seed = 53\n",
    "PrimEnv1.user_type = 'drifting'\n",
    "\"\"\")\n",
    "\n",
    "tf.reset_default_graph()\n",
    "sess = tf.InteractiveSession()\n",
    "\n",
    "def make_env():\n",
    "    env = gym.make('prim-gym-v1')\n",
    "    return env"
   ]
  },
  {
   "cell_type": "code",
   "execution_count": null,
   "metadata": {
    "collapsed": true
   },
   "outputs": [],
   "source": [
    "from agents.ddpg import DDPGAgent "
   ]
  },
  {
   "cell_type": "code",
   "execution_count": null,
   "metadata": {
    "collapsed": true
   },
   "outputs": [],
   "source": [
    "env = make_env()\n",
    "\n",
    "state_dim = env.embedding_dimension\n",
    "action_dim = env.embedding_dimension\n",
    "action_size = env.n_rec\n",
    "\n",
    "agent = DDPGAgent(action_size = action_size,\n",
    "                 state_dim = state_dim,\n",
    "                 action_dim = action_dim,\n",
    "                 gamma = .9,\n",
    "                 sess = sess,\n",
    "                 optimizer = tf.train.AdamOptimizer(\n",
    "                     learning_rate=0.001\n",
    "                 ),\n",
    "                 max_tf_checkpoints_to_keep = 3,\n",
    "                 experience_size = 1000,\n",
    "                 batch_size = 64)"
   ]
  },
  {
   "cell_type": "code",
   "execution_count": null,
   "metadata": {
    "collapsed": true
   },
   "outputs": [],
   "source": [
    "sess.run(tf.global_variables_initializer())\n",
    "run_experiment(env, agent, t_train=10000, t_test=2000)"
   ]
  },
  {
   "cell_type": "code",
   "execution_count": null,
   "metadata": {
    "collapsed": true
   },
   "outputs": [],
   "source": [
    "with open('./logs/ddpg_no_random_init_env_finished.npy', 'wb') as f:\n",
    "    pickle.dump(file=f, obj=env)"
   ]
  },
  {
   "cell_type": "code",
   "execution_count": null,
   "metadata": {
    "collapsed": true
   },
   "outputs": [],
   "source": [
    "from agents.utils import data_exploring_widget\n",
    "data_exploring_widget(env)"
   ]
  },
  {
   "cell_type": "code",
   "execution_count": 18,
   "metadata": {
    "collapsed": true
   },
   "outputs": [],
   "source": [
    "from agents.random_agent import RandomAgent\n",
    "\n",
    "env = make_env()\n",
    "\n",
    "state_dim = env.embedding_dimension\n",
    "action_dim = env.embedding_dimension\n",
    "action_size = env.n_rec\n",
    "\n",
    "agent = RandomAgent(action_size = action_size)"
   ]
  },
  {
   "cell_type": "code",
   "execution_count": 19,
   "metadata": {},
   "outputs": [
    {
     "name": "stderr",
     "output_type": "stream",
     "text": [
      "100%|██████████| 10000/10000 [00:04<00:00, 2485.93it/s]\n",
      "100%|██████████| 2000/2000 [00:00<00:00, 2628.93it/s]\n"
     ]
    }
   ],
   "source": [
    "sess.run(tf.global_variables_initializer())\n",
    "run_experiment(env, agent, t_train=10000, t_test=2000)"
   ]
  },
  {
   "cell_type": "code",
   "execution_count": 20,
   "metadata": {},
   "outputs": [
    {
     "data": {
      "application/vnd.jupyter.widget-view+json": {
       "model_id": "348b516c50f440b68066ab426c6e59cc",
       "version_major": 2,
       "version_minor": 0
      },
      "text/plain": [
       "interactive(children=(IntSlider(value=0, continuous_update=False, description='Time:', max=12000), Output()), …"
      ]
     },
     "metadata": {},
     "output_type": "display_data"
    }
   ],
   "source": [
    "from agents.utils import data_exploring_widget\n",
    "data_exploring_widget(env)"
   ]
  },
  {
   "cell_type": "code",
   "execution_count": 15,
   "metadata": {
    "collapsed": true
   },
   "outputs": [],
   "source": [
    "from agents.dqn import Qagent\n",
    "\n",
    "env = make_env()\n",
    "\n",
    "state_dim = env.embedding_dimension\n",
    "action_dim = env.embedding_dimension\n",
    "action_size = env.n_rec\n",
    "\n",
    "agent = Qagent(sess=sess,\n",
    "                 state_dim=(state_dim,),\n",
    "                 action_dim=(action_dim,),\n",
    "                 epsilon=0.4,\n",
    "                 action_size=action_size,\n",
    "                 logdir='./logs/',\n",
    "                 replay_size=1000,\n",
    "                 batch_size=2)"
   ]
  },
  {
   "cell_type": "code",
   "execution_count": 16,
   "metadata": {},
   "outputs": [
    {
     "name": "stderr",
     "output_type": "stream",
     "text": [
      "100%|██████████| 10000/10000 [00:45<00:00, 219.36it/s]\n",
      "100%|██████████| 2000/2000 [00:08<00:00, 229.96it/s]\n"
     ]
    }
   ],
   "source": [
    "sess.run(tf.global_variables_initializer())\n",
    "run_experiment(env, agent, t_train=10000, t_test=2000)"
   ]
  },
  {
   "cell_type": "code",
   "execution_count": 17,
   "metadata": {},
   "outputs": [
    {
     "data": {
      "application/vnd.jupyter.widget-view+json": {
       "model_id": "d3ff980fc3be4532809bda1901d678ab",
       "version_major": 2,
       "version_minor": 0
      },
      "text/plain": [
       "interactive(children=(IntSlider(value=0, continuous_update=False, description='Time:', max=12000), Output()), …"
      ]
     },
     "metadata": {},
     "output_type": "display_data"
    }
   ],
   "source": [
    "from agents.utils import data_exploring_widget\n",
    "data_exploring_widget(env)"
   ]
  }
 ],
 "metadata": {
  "kernelspec": {
   "display_name": "Python 3",
   "language": "python",
   "name": "python3"
  },
  "language_info": {
   "codemirror_mode": {
    "name": "ipython",
    "version": 3
   },
   "file_extension": ".py",
   "mimetype": "text/x-python",
   "name": "python",
   "nbconvert_exporter": "python",
   "pygments_lexer": "ipython3",
   "version": "3.6.3"
  }
 },
 "nbformat": 4,
 "nbformat_minor": 2
}
