{
 "cells": [
  {
   "cell_type": "code",
   "execution_count": 1,
   "metadata": {},
   "outputs": [],
   "source": [
    "import tensorflow as tf\n",
    "import gym\n",
    "import rec_gym\n",
    "import numpy as np\n",
    "from rec_gym.runner import run_experiment"
   ]
  },
  {
   "cell_type": "code",
   "execution_count": 2,
   "metadata": {},
   "outputs": [],
   "source": [
    "tf.enable_eager_execution()\n",
    "# tf.disable_eager_execution()"
   ]
  },
  {
   "cell_type": "code",
   "execution_count": 3,
   "metadata": {},
   "outputs": [
    {
     "data": {
      "text/plain": [
       "<tf.Tensor: id=1, shape=(1,), dtype=int32, numpy=array([2], dtype=int32)>"
      ]
     },
     "execution_count": 3,
     "metadata": {},
     "output_type": "execute_result"
    }
   ],
   "source": [
    "tf.shape([1, 2])"
   ]
  },
  {
   "cell_type": "code",
   "execution_count": 4,
   "metadata": {},
   "outputs": [
    {
     "data": {
      "text/plain": [
       "'0.12.0'"
      ]
     },
     "execution_count": 4,
     "metadata": {},
     "output_type": "execute_result"
    }
   ],
   "source": [
    "gym.__version__"
   ]
  },
  {
   "cell_type": "code",
   "execution_count": 5,
   "metadata": {},
   "outputs": [],
   "source": [
    "specs = list(gym.envs.registry.all())[-9:]"
   ]
  },
  {
   "cell_type": "code",
   "execution_count": 6,
   "metadata": {},
   "outputs": [
    {
     "data": {
      "text/plain": [
       "[EnvSpec(MovieLens-v1),\n",
       " EnvSpec(MovieLens-v2),\n",
       " EnvSpec(MovieLens-v3),\n",
       " EnvSpec(MovieLens-v4),\n",
       " EnvSpec(GenRecEnv-v1),\n",
       " EnvSpec(GenRecEnv-v2),\n",
       " EnvSpec(GenRecEnv-v3),\n",
       " EnvSpec(JDSimulatedEnv-v1),\n",
       " EnvSpec(JDSimulatedEnv-v2)]"
      ]
     },
     "execution_count": 6,
     "metadata": {},
     "output_type": "execute_result"
    }
   ],
   "source": [
    "specs"
   ]
  },
  {
   "cell_type": "code",
   "execution_count": 7,
   "metadata": {},
   "outputs": [],
   "source": [
    "# DRR-p\n",
    "# w = tf.Variable(np.ones((n, k)), name='state_repr_weights')\n",
    "\n",
    "# tiled = tf.tile(w*H, multiples=[1, n, 1])\n",
    "# repeated = tf.reshape(tf.tile(w*H, multiples=[1, 1, n]), [tf.shape(H)[0], tf.shape(H)[1]*n, -1])\n",
    "# ones = tf.ones([n, n])\n",
    "# mask_a = tf.matrix_band_part(ones, 0, -1) # upper\n",
    "# mask_b = tf.matrix_band_part(ones, 0, 0) # diag\n",
    "# mask = tf.cast(mask_a - mask_b, dtype=tf.int64)\n",
    "\n",
    "# s = tf.boolean_mask(tiled * repeated, tf.reshape(mask, [-1]), axis=1)\n",
    "# s = tf.reshape(s, shape=(tf.shape(s)[0], -1))\n",
    "\n",
    "# tf.concat([tf.reshape(H, shape=(tf.shape(H)[0], -1)), s], axis=1)\n",
    "# size (n*(n-1)/2 +n)*k\n",
    "\n",
    "# DRR-u\n",
    "# w = tf.Variable(np.ones((n, embedding_size)), name='state_repr_weights')\n",
    "\n",
    "# flat_hist = tf.reshape(H, shape=(tf.shape(H)[0], -1))\n",
    "\n",
    "# user_item = tf.tile(u, multiples=[1, n, 1]) * H\n",
    "# user_item = tf.reshape(user_item, shape=(tf.shape(user_item)[0], -1))\n",
    "\n",
    "# tf.concat([user_item, flat_hist], axis=1)\n",
    "# size (n*(n-1)/2 +n)*k\n",
    "\n",
    "# DRR-ave\n",
    "# avg = tf.reduce_mean(w*H, axis=1, keepdims=True)\n",
    "# tf.squeeze(tf.concat([u, u * avg, avg], axis=-1))\n",
    "# size 3*k"
   ]
  },
  {
   "cell_type": "code",
   "execution_count": 8,
   "metadata": {},
   "outputs": [],
   "source": [
    "class DRRpLayer(tf.keras.layers.Layer):\n",
    "    def __init__(self):\n",
    "        super(DRRpLayer, self).__init__()\n",
    "        \n",
    "    def build(self, input_shape):\n",
    "        hist_shape, user_shape = input_shape\n",
    "        n, k = hist_shape[1:]\n",
    "        print(n, k)\n",
    "        self.w = self.add_variable(\"state_repr_weights\", [int(n), int(k)])\n",
    "        \n",
    "    def call(self, hist_user):\n",
    "        H, u = hist_user\n",
    "        \n",
    "        n = int(tf.shape(H)[1])\n",
    "        k = int(tf.shape(H)[2])\n",
    "        \n",
    "        tiled = tf.tile(self.w*H, multiples=[1, n, 1])\n",
    "        repeated = tf.reshape(tf.tile(self.w*H, multiples=[1, 1, n]), [tf.shape(H)[0], tf.shape(H)[1]*n, -1])\n",
    "        ones = tf.ones([n, n])\n",
    "        mask_a = tf.matrix_band_part(ones, 0, -1) # upper\n",
    "        mask_b = tf.matrix_band_part(ones, 0, 0) # diag\n",
    "        mask = tf.cast(mask_a - mask_b, dtype=tf.int64)\n",
    "\n",
    "        s = tf.boolean_mask(tiled * repeated, tf.reshape(mask, [-1]), axis=1)\n",
    "        s = tf.reshape(s, shape=(tf.shape(s)[0], -1))\n",
    "        s = tf.concat([tf.reshape(H, shape=(tf.shape(H)[0], -1)), s], axis=1)\n",
    "        assert int(tf.shape(s)[-1]) == (n*(n-1)/2 +n)*k\n",
    "        return s\n",
    "    \n",
    "class DRRuLayer(tf.keras.layers.Layer):\n",
    "    def __init__(self):\n",
    "        super(DRRuLayer, self).__init__()\n",
    "        \n",
    "    def build(self, input_shape):\n",
    "        print(input_shape)\n",
    "        hist_shape, user_shape = input_shape\n",
    "        n, k = hist_shape[1:]\n",
    "        print(n, k)\n",
    "        self.w = self.add_variable(\"state_repr_weights\", [int(n), int(k)])\n",
    "        \n",
    "    def call(self, hist_user):\n",
    "        H, u = hist_user\n",
    "        \n",
    "        n = int(tf.shape(H)[1])\n",
    "        k = int(tf.shape(H)[2])\n",
    "        \n",
    "        flat_hist = tf.reshape(H, shape=(tf.shape(H)[0], -1))\n",
    "\n",
    "#         user_item = tf.tile(u, multiples=[1, n, 1]) * H\n",
    "#         user_item = tf.reshape(user_item, shape=(tf.shape(user_item)[0], -1))\n",
    "        tiled = tf.tile(self.w*H, multiples=[1, n, 1])\n",
    "        repeated = tf.reshape(tf.tile(self.w*H, multiples=[1, 1, n]), [tf.shape(H)[0], tf.shape(H)[1]*n, -1])\n",
    "        ones = tf.ones([n, n])\n",
    "        mask_a = tf.matrix_band_part(ones, 0, -1) # upper\n",
    "        mask_b = tf.matrix_band_part(ones, 0, 0) # diag\n",
    "        mask = tf.cast(mask_a - mask_b, dtype=tf.int64)\n",
    "\n",
    "        s = tf.boolean_mask(tiled * repeated, tf.reshape(mask, [-1]), axis=1)\n",
    "        s = tf.reshape(s, shape=(tf.shape(s)[0], -1))\n",
    "\n",
    "        s = tf.concat([s, flat_hist], axis=1)\n",
    "        \n",
    "        assert int(tf.shape(s)[-1]) == (n*(n-1)/2 +n)*k\n",
    "        return s\n",
    "    \n",
    "class DRRaveLayer(tf.keras.layers.Layer):\n",
    "    def __init__(self):\n",
    "        super(DRRaveLayer, self).__init__()\n",
    "        \n",
    "    def build(self, input_shape):\n",
    "        print(input_shape)\n",
    "        hist_shape, user_shape = input_shape\n",
    "        n, k = hist_shape[1:]\n",
    "        print(n, k)\n",
    "        self.w = self.add_variable(\"state_repr_weights\", [int(n), int(k)])\n",
    "        \n",
    "    def call(self, hist_user):\n",
    "        H, u = hist_user\n",
    "        \n",
    "        n = int(tf.shape(H)[1])\n",
    "        k = int(tf.shape(H)[2])\n",
    "        \n",
    "        avg = tf.reduce_mean(self.w*H, axis=1, keepdims=True)\n",
    "        s = tf.concat([u, u * avg, avg], axis=-1)\n",
    "        assert int(tf.shape(s)[-1]) == 3*k\n",
    "        return s"
   ]
  },
  {
   "cell_type": "code",
   "execution_count": 9,
   "metadata": {},
   "outputs": [],
   "source": [
    "class Actor(tf.keras.Model):\n",
    "    def __init__(self, hidden_layers1, hidden_layers2, output_size):\n",
    "        super(Actor, self).__init__()\n",
    "        self.fc1 = tf.keras.layers.Dense(hidden_layers1, activation=tf.nn.tanh)\n",
    "        self.fc2 = tf.keras.layers.Dense(hidden_layers2, activation=tf.nn.tanh)\n",
    "        self.fc3 = tf.keras.layers.Dense(output_size, activation=tf.nn.tanh)\n",
    "    \n",
    "    def call(self, x):\n",
    "        x = self.fc1(x)\n",
    "        x = self.fc2(x)\n",
    "        x = self.fc3(x)\n",
    "        return x\n",
    "    \n",
    "    "
   ]
  },
  {
   "cell_type": "code",
   "execution_count": 10,
   "metadata": {},
   "outputs": [],
   "source": [
    "class Critic(tf.keras.Model):\n",
    "    def __init__(self, hidden_layer1):\n",
    "        super(Critic, self).__init__()\n",
    "        self.fc1 = tf.keras.layers.Dense(hidden_layer1, activation=tf.nn.tanh)\n",
    "        self.fc2 = tf.keras.layers.Dense(1, activation=tf.nn.tanh)\n",
    "        \n",
    "    def call(self, state, action):\n",
    "        x = tf.concat([state, action], axis=-1)\n",
    "        x = self.fc1(x)\n",
    "        x = self.fc2(x)\n",
    "        return tf.squeeze(x)"
   ]
  },
  {
   "cell_type": "code",
   "execution_count": 11,
   "metadata": {},
   "outputs": [],
   "source": [
    "def reduce_std(tensor, axis=None, keepdims=False):\n",
    "    \"\"\"\n",
    "    get the standard deviation of a Tensor\n",
    "    :param tensor: (TensorFlow Tensor) the input tensor\n",
    "    :param axis: (int or [int]) the axis to itterate the std over\n",
    "    :param keepdims: (bool) keep the other dimensions the same\n",
    "    :return: (TensorFlow Tensor) the std of the tensor\n",
    "    \"\"\"\n",
    "    return tf.sqrt(reduce_var(tensor, axis=axis, keepdims=keepdims))\n",
    "\n",
    "\n",
    "def reduce_var(tensor, axis=None, keepdims=False):\n",
    "    \"\"\"\n",
    "    get the variance of a Tensor\n",
    "    :param tensor: (TensorFlow Tensor) the input tensor\n",
    "    :param axis: (int or [int]) the axis to itterate the variance over\n",
    "    :param keepdims: (bool) keep the other dimensions the same\n",
    "    :return: (TensorFlow Tensor) the variance of the tensor\n",
    "    \"\"\"\n",
    "    tensor_mean = tf.reduce_mean(tensor, axis=axis, keepdims=True)\n",
    "    devs_squared = tf.square(tensor - tensor_mean)\n",
    "    return tf.reduce_mean(devs_squared, axis=axis, keepdims=keepdims)"
   ]
  },
  {
   "cell_type": "code",
   "execution_count": 12,
   "metadata": {},
   "outputs": [],
   "source": [
    "from agents.utils import Agent\n",
    "import numpy as np\n",
    "\n",
    "class DDPGAgent(Agent):\n",
    "    def __init__(self, \n",
    "                 drp,\n",
    "                 actor, \n",
    "                 critic, \n",
    "                 target_actor,\n",
    "                 target_critic,\n",
    "                 replay,\n",
    "                 actor_lr=1e-3, \n",
    "                 critic_lr=1e-3, \n",
    "                 gamma=0.9,\n",
    "                 batch_size=25,\n",
    "                 logdir=None,\n",
    "                 ):\n",
    "        self.drp = drp\n",
    "        self.actor = actor\n",
    "        self.critic = critic\n",
    "        \n",
    "        \n",
    "        self.target_actor = target_actor\n",
    "        self.target_critic = target_critic\n",
    "        \n",
    "        self.replay = replay\n",
    "        \n",
    "        self.last_action = None\n",
    "        self.last_u = None\n",
    "        self.last_H = None\n",
    "        self.last_reward = None\n",
    "        \n",
    "        self._train_step = 0\n",
    "        self._step = 0\n",
    "        \n",
    "        self.gamma = gamma\n",
    "        self.actor_optimizer = tf.train.AdamOptimizer(actor_lr)\n",
    "        self.critic_optimizer = tf.train.AdamOptimizer(critic_lr)\n",
    "        self.batch_size = batch_size\n",
    "        \n",
    "        self.global_step = tf.train.get_or_create_global_step()\n",
    "        self.logdir = logdir\n",
    "        self.writer = tf.contrib.summary.create_file_writer(logdir, flush_millis=500)\n",
    "        self.writer.set_as_default()\n",
    "       \n",
    "\n",
    "    def begin_episode(self, observation):\n",
    "        return self._select_action(observation) \n",
    "\n",
    "    def step(self, reward, observation):\n",
    "        self.last_reward = reward\n",
    "        if len(self.replay) > self.batch_size:\n",
    "            self._train()\n",
    "        return self._select_action(observation)\n",
    "    \n",
    "    def _select_action(self, observation):\n",
    "        u, H = observation\n",
    "        u = u[np.newaxis]\n",
    "        \n",
    "        s = [H[np.newaxis], u[np.newaxis]]\n",
    "        \n",
    "        state_repr = self.drp(s)\n",
    "        a = self.actor(state_repr)\n",
    "        \n",
    "        if self.last_reward:\n",
    "            data = [self.last_u, self.last_H, self.last_action, u, H, self.last_reward, False]\n",
    "            #print(data)\n",
    "            self.replay.add(data)\n",
    "            \n",
    "        self.last_action = tf.squeeze(a, axis=0)\n",
    "        self.last_u = u\n",
    "        self.last_H = H\n",
    "        return tf.squeeze(a)\n",
    "\n",
    "    def _sync_targets(self):\n",
    "        self.target_actor.set_weights(self.actor.get_weights())\n",
    "        self.target_critic.set_weights(self.critic.get_weights())\n",
    "\n",
    "        \n",
    "    \n",
    "    def _train(self):\n",
    "        self._train_step += 1\n",
    "        self.global_step.assign_add(1)\n",
    "        if (self._train_step % 100): self._sync_targets()\n",
    "#         print(self.global_step)\n",
    "        \n",
    "        batch = self.replay.sample(self.batch_size)\n",
    "        batch_u, batch_H, batch_a, batch_next_u, batch_next_H, batch_r, batch_done = [np.array(x) \n",
    "                                                                                      for x in zip(*[elem for elem in batch])]\n",
    "                                                                                              \n",
    "        batch_s = [batch_H, batch_u]\n",
    "        batch_snext = [batch_next_H, batch_next_u]\n",
    "    \n",
    "        \n",
    "    \n",
    "        # compute gradients\n",
    "        with tf.GradientTape(persistent=True) as t:   \n",
    "            batch_s_repr = self.drp(batch_s)\n",
    "            batch_snext_repr = self.drp(batch_snext)\n",
    "            \n",
    "            with t.stop_recording():\n",
    "                #print(batch_snext)\n",
    "                #print(self.target_actor(batch_snext))\n",
    "                next_q = self.target_critic(batch_snext_repr, self.target_actor(batch_snext_repr))\n",
    "                target = batch_r + self.gamma * (1-batch_done) * next_q\n",
    "            \n",
    "            q = self.critic(batch_s_repr, batch_a)\n",
    "            #loss = tf.losses.mean_squared_error(target, q)\n",
    "            loss = tf.reduce_mean((target - q)**2)\n",
    "            \n",
    "            a = self.actor(batch_s_repr)\n",
    "            qa = self.critic(batch_s_repr, a)\n",
    "            p_loss = -tf.reduce_mean(qa)\n",
    "            \n",
    "        #dq_da = t.gradient(-qa, a)\n",
    "        \n",
    "        actor_grads = t.gradient(p_loss, self.actor.trainable_variables)#, output_gradients=dq_da)\n",
    "        critic_grads = t.gradient(loss, self.critic.trainable_variables)\n",
    "        drp_grads = t.gradient(loss, self.drp.trainable_variables)\n",
    "        del t\n",
    "            \n",
    "        # apply gradients\n",
    "        self.actor_optimizer.apply_gradients(zip(drp_grads, self.drp.trainable_variables))\n",
    "        self.actor_optimizer.apply_gradients(zip(actor_grads, self.actor.trainable_variables))\n",
    "        self.critic_optimizer.apply_gradients(zip(critic_grads, self.critic.trainable_variables))\n",
    "                \n",
    "        with tf.contrib.summary.record_summaries_every_n_global_steps(100):\n",
    "            tf.contrib.summary.scalar('global_step', self.global_step)\n",
    "            tf.contrib.summary.scalar(\"loss\", loss)\n",
    "            tf.contrib.summary.scalar(\"q\", tf.reduce_mean(q))\n",
    "            tf.contrib.summary.scalar(\"std_q\", reduce_std(q))\n",
    "            tf.contrib.summary.scalar(\"target\", tf.reduce_mean(target))\n",
    "            tf.contrib.summary.scalar(\"std_target\", reduce_std(target))\n",
    "            tf.contrib.summary.scalar(\"qa\", tf.reduce_mean(qa))\n",
    "        \n",
    "        \n",
    "#     def bundle_and_checkpoint(self, directory, iteration):\n",
    "#         pass\n",
    "\n",
    "#     def unbundle(self, directory, iteration, dictionary):\n",
    "#         pass\n",
    "    \n",
    "#     def end_episode(self, reward):\n",
    "#         pass\n",
    "\n",
    "class ReplayBuffer(object):\n",
    "    def __init__(self, size):\n",
    "        self._storage = []\n",
    "        self._maxsize = size\n",
    "\n",
    "    def __len__(self):\n",
    "        return len(self._storage)\n",
    "\n",
    "    def add(self, data):\n",
    "        # add data to storage\n",
    "        self._storage.append(data)\n",
    "        if len(self._storage) > self._maxsize:\n",
    "            self._storage.pop(0)\n",
    "\n",
    "    def sample(self, batch_size):\n",
    "        # <randomly generate batch_size integers to be used as indexes of samples>\n",
    "        indexes = np.random.choice(range(len(self._storage)), size=batch_size)\n",
    "        # collect <s,a,r,s',done> for each index\n",
    "        return [self._storage[i] for i in indexes]"
   ]
  },
  {
   "cell_type": "code",
   "execution_count": 14,
   "metadata": {},
   "outputs": [],
   "source": [
    "from agents.utils import Agent\n",
    "import numpy as np\n",
    "\n",
    "class RandomAgent(Agent):\n",
    "    def __init__(self, action_size: int):\n",
    "        self.action_size = action_size\n",
    "\n",
    "    def begin_episode(self, observation):\n",
    "        return self._select_action(observation)\n",
    "\n",
    "    def step(self, reward, observation):\n",
    "        return self._select_action(observation)\n",
    "\n",
    "    def end_episode(self, reward):\n",
    "        pass\n",
    "\n",
    "    def bundle_and_checkpoint(self, directory, iteration):\n",
    "        pass\n",
    "\n",
    "    def unbundle(self, directory, iteration, dictionary):\n",
    "        pass\n",
    "\n",
    "    def _select_action(self, observation):\n",
    "        state, items = observation\n",
    "        n_items = len(items)\n",
    "        return np.random.choice(list(range(n_items)), self.action_size)\n"
   ]
  },
  {
   "cell_type": "code",
   "execution_count": 15,
   "metadata": {},
   "outputs": [],
   "source": [
    "from rec_gym.wrappers import StatsWrapper, FlattenObservationsWrapper, BaselinesWrapper, ExplicitUserItemWrapper"
   ]
  },
  {
   "cell_type": "code",
   "execution_count": 16,
   "metadata": {},
   "outputs": [],
   "source": [
    "envs_ids = [ spec.__dict__['id'] for spec in specs]\n",
    "envs_ids\n",
    "env = gym.make('MovieLens-v4')\n",
    "compatwrap = ExplicitUserItemWrapper(StatsWrapper(env))"
   ]
  },
  {
   "cell_type": "code",
   "execution_count": 17,
   "metadata": {},
   "outputs": [
    {
     "name": "stdout",
     "output_type": "stream",
     "text": [
      "\n",
      "WARNING: The TensorFlow contrib module will not be included in TensorFlow 2.0.\n",
      "For more information, please see:\n",
      "  * https://github.com/tensorflow/community/blob/master/rfcs/20180907-contrib-sunset.md\n",
      "  * https://github.com/tensorflow/addons\n",
      "If you depend on functionality not listed there, please file an issue.\n",
      "\n"
     ]
    }
   ],
   "source": [
    "replay = ReplayBuffer(1000)\n",
    "drp = DRRaveLayer()\n",
    "actor = Actor(hidden_layers1=20, \n",
    "              hidden_layers2=10, \n",
    "              output_size=compatwrap.unwrapped.embedding_dimension)\n",
    "target_actor = Actor(hidden_layers1=20, \n",
    "                     hidden_layers2=10, \n",
    "                     output_size=compatwrap.unwrapped.embedding_dimension)\n",
    "critic = Critic(hidden_layer1=20)\n",
    "target_critic = Critic(hidden_layer1=20)\n",
    "\n",
    "agent = DDPGAgent(drp,\n",
    "                  actor, \n",
    "                  critic, \n",
    "                  target_actor, \n",
    "                  target_critic, replay, logdir='./logs/DDPG_own_mse_3')"
   ]
  },
  {
   "cell_type": "code",
   "execution_count": 18,
   "metadata": {
    "scrolled": true
   },
   "outputs": [
    {
     "name": "stdout",
     "output_type": "stream",
     "text": [
      "[TensorShape([Dimension(1), Dimension(5), Dimension(20)]), TensorShape([Dimension(1), Dimension(1), Dimension(20)])]\n",
      "5 20\n"
     ]
    },
    {
     "name": "stderr",
     "output_type": "stream",
     "text": [
      "/home/anton/anaconda3/envs/datascience/lib/python3.7/site-packages/gym/logger.py:30: UserWarning: \u001b[33mWARN: <class 'rec_gym.wrappers.explicit_user_item_wrapper.ExplicitUserItemWrapper'> doesn't implement 'reset' method, which is required for wrappers derived directly from Wrapper. Deprecated default implementation is used.\u001b[0m\n",
      "  warnings.warn(colorize('%s: %s'%('WARN', msg % args), 'yellow'))\n"
     ]
    },
    {
     "name": "stdout",
     "output_type": "stream",
     "text": [
      "WARNING:tensorflow:From /home/anton/anaconda3/envs/datascience/lib/python3.7/site-packages/tensorflow/python/ops/resource_variable_ops.py:642: colocate_with (from tensorflow.python.framework.ops) is deprecated and will be removed in a future version.\n",
      "Instructions for updating:\n",
      "Colocations handled automatically by placer.\n"
     ]
    },
    {
     "name": "stderr",
     "output_type": "stream",
     "text": [
      "  0%|          | 39/8000 [00:06<40:21,  3.29it/s]\n"
     ]
    },
    {
     "ename": "ValueError",
     "evalue": "setting an array element with a sequence.",
     "output_type": "error",
     "traceback": [
      "\u001b[0;31m---------------------------------------------------------------------------\u001b[0m",
      "\u001b[0;31mValueError\u001b[0m                                Traceback (most recent call last)",
      "\u001b[0;32m<ipython-input-18-e7c6dbe26226>\u001b[0m in \u001b[0;36m<module>\u001b[0;34m\u001b[0m\n\u001b[0;32m----> 1\u001b[0;31m \u001b[0mrun_experiment\u001b[0m\u001b[0;34m(\u001b[0m\u001b[0mcompatwrap\u001b[0m\u001b[0;34m,\u001b[0m \u001b[0magent\u001b[0m\u001b[0;34m,\u001b[0m \u001b[0mt_train\u001b[0m\u001b[0;34m=\u001b[0m\u001b[0;36m8000\u001b[0m\u001b[0;34m,\u001b[0m \u001b[0mt_test\u001b[0m\u001b[0;34m=\u001b[0m\u001b[0;36m20\u001b[0m\u001b[0;34m)\u001b[0m\u001b[0;34m\u001b[0m\u001b[0;34m\u001b[0m\u001b[0m\n\u001b[0m",
      "\u001b[0;32m/media/anton/0b9d5a44-bb63-4de1-9cfe-0da47b81e88a/TPT/3A/PRIM Vente Privee/WORK_DIR/rec_gym/rec_gym/runner.py\u001b[0m in \u001b[0;36mrun_experiment\u001b[0;34m(env, agent, t_train, t_test)\u001b[0m\n\u001b[1;32m     67\u001b[0m     \u001b[0;32mfor\u001b[0m \u001b[0mi\u001b[0m \u001b[0;32min\u001b[0m \u001b[0mtqdm\u001b[0m\u001b[0;34m(\u001b[0m\u001b[0mrange\u001b[0m\u001b[0;34m(\u001b[0m\u001b[0mt_train\u001b[0m\u001b[0;34m)\u001b[0m\u001b[0;34m)\u001b[0m\u001b[0;34m:\u001b[0m\u001b[0;34m\u001b[0m\u001b[0;34m\u001b[0m\u001b[0m\n\u001b[1;32m     68\u001b[0m         \u001b[0mobservation\u001b[0m\u001b[0;34m,\u001b[0m \u001b[0mreward\u001b[0m\u001b[0;34m,\u001b[0m \u001b[0mdone\u001b[0m\u001b[0;34m,\u001b[0m \u001b[0minfo\u001b[0m \u001b[0;34m=\u001b[0m \u001b[0menv\u001b[0m\u001b[0;34m.\u001b[0m\u001b[0mstep\u001b[0m\u001b[0;34m(\u001b[0m\u001b[0maction\u001b[0m\u001b[0;34m)\u001b[0m\u001b[0;34m\u001b[0m\u001b[0;34m\u001b[0m\u001b[0m\n\u001b[0;32m---> 69\u001b[0;31m         \u001b[0maction\u001b[0m \u001b[0;34m=\u001b[0m \u001b[0magent\u001b[0m\u001b[0;34m.\u001b[0m\u001b[0mstep\u001b[0m\u001b[0;34m(\u001b[0m\u001b[0mreward\u001b[0m\u001b[0;34m,\u001b[0m \u001b[0mobservation\u001b[0m\u001b[0;34m)\u001b[0m\u001b[0;34m\u001b[0m\u001b[0;34m\u001b[0m\u001b[0m\n\u001b[0m\u001b[1;32m     70\u001b[0m \u001b[0;34m\u001b[0m\u001b[0m\n\u001b[1;32m     71\u001b[0m     \u001b[0;32mfor\u001b[0m \u001b[0mi\u001b[0m \u001b[0;32min\u001b[0m \u001b[0mtqdm\u001b[0m\u001b[0;34m(\u001b[0m\u001b[0mrange\u001b[0m\u001b[0;34m(\u001b[0m\u001b[0mt_test\u001b[0m\u001b[0;34m)\u001b[0m\u001b[0;34m)\u001b[0m\u001b[0;34m:\u001b[0m\u001b[0;34m\u001b[0m\u001b[0;34m\u001b[0m\u001b[0m\n",
      "\u001b[0;32m<ipython-input-12-6f019a74ac11>\u001b[0m in \u001b[0;36mstep\u001b[0;34m(self, reward, observation)\u001b[0m\n\u001b[1;32m     51\u001b[0m         \u001b[0mself\u001b[0m\u001b[0;34m.\u001b[0m\u001b[0mlast_reward\u001b[0m \u001b[0;34m=\u001b[0m \u001b[0mreward\u001b[0m\u001b[0;34m\u001b[0m\u001b[0;34m\u001b[0m\u001b[0m\n\u001b[1;32m     52\u001b[0m         \u001b[0;32mif\u001b[0m \u001b[0mlen\u001b[0m\u001b[0;34m(\u001b[0m\u001b[0mself\u001b[0m\u001b[0;34m.\u001b[0m\u001b[0mreplay\u001b[0m\u001b[0;34m)\u001b[0m \u001b[0;34m>\u001b[0m \u001b[0mself\u001b[0m\u001b[0;34m.\u001b[0m\u001b[0mbatch_size\u001b[0m\u001b[0;34m:\u001b[0m\u001b[0;34m\u001b[0m\u001b[0;34m\u001b[0m\u001b[0m\n\u001b[0;32m---> 53\u001b[0;31m             \u001b[0mself\u001b[0m\u001b[0;34m.\u001b[0m\u001b[0m_train\u001b[0m\u001b[0;34m(\u001b[0m\u001b[0;34m)\u001b[0m\u001b[0;34m\u001b[0m\u001b[0;34m\u001b[0m\u001b[0m\n\u001b[0m\u001b[1;32m     54\u001b[0m         \u001b[0;32mreturn\u001b[0m \u001b[0mself\u001b[0m\u001b[0;34m.\u001b[0m\u001b[0m_select_action\u001b[0m\u001b[0;34m(\u001b[0m\u001b[0mobservation\u001b[0m\u001b[0;34m)\u001b[0m\u001b[0;34m\u001b[0m\u001b[0;34m\u001b[0m\u001b[0m\n\u001b[1;32m     55\u001b[0m \u001b[0;34m\u001b[0m\u001b[0m\n",
      "\u001b[0;32m<ipython-input-12-6f019a74ac11>\u001b[0m in \u001b[0;36m_train\u001b[0;34m(self)\u001b[0m\n\u001b[1;32m     87\u001b[0m         \u001b[0mbatch\u001b[0m \u001b[0;34m=\u001b[0m \u001b[0mself\u001b[0m\u001b[0;34m.\u001b[0m\u001b[0mreplay\u001b[0m\u001b[0;34m.\u001b[0m\u001b[0msample\u001b[0m\u001b[0;34m(\u001b[0m\u001b[0mself\u001b[0m\u001b[0;34m.\u001b[0m\u001b[0mbatch_size\u001b[0m\u001b[0;34m)\u001b[0m\u001b[0;34m\u001b[0m\u001b[0;34m\u001b[0m\u001b[0m\n\u001b[1;32m     88\u001b[0m         batch_u, batch_H, batch_a, batch_next_u, batch_next_H, batch_r, batch_done = [np.array(x) \n\u001b[0;32m---> 89\u001b[0;31m                                                                                       for x in zip(*[elem for elem in batch])]\n\u001b[0m\u001b[1;32m     90\u001b[0m \u001b[0;34m\u001b[0m\u001b[0m\n\u001b[1;32m     91\u001b[0m         \u001b[0mbatch_s\u001b[0m \u001b[0;34m=\u001b[0m \u001b[0;34m[\u001b[0m\u001b[0mbatch_H\u001b[0m\u001b[0;34m,\u001b[0m \u001b[0mbatch_u\u001b[0m\u001b[0;34m]\u001b[0m\u001b[0;34m\u001b[0m\u001b[0;34m\u001b[0m\u001b[0m\n",
      "\u001b[0;32m<ipython-input-12-6f019a74ac11>\u001b[0m in \u001b[0;36m<listcomp>\u001b[0;34m(.0)\u001b[0m\n\u001b[1;32m     87\u001b[0m         \u001b[0mbatch\u001b[0m \u001b[0;34m=\u001b[0m \u001b[0mself\u001b[0m\u001b[0;34m.\u001b[0m\u001b[0mreplay\u001b[0m\u001b[0;34m.\u001b[0m\u001b[0msample\u001b[0m\u001b[0;34m(\u001b[0m\u001b[0mself\u001b[0m\u001b[0;34m.\u001b[0m\u001b[0mbatch_size\u001b[0m\u001b[0;34m)\u001b[0m\u001b[0;34m\u001b[0m\u001b[0;34m\u001b[0m\u001b[0m\n\u001b[1;32m     88\u001b[0m         batch_u, batch_H, batch_a, batch_next_u, batch_next_H, batch_r, batch_done = [np.array(x) \n\u001b[0;32m---> 89\u001b[0;31m                                                                                       for x in zip(*[elem for elem in batch])]\n\u001b[0m\u001b[1;32m     90\u001b[0m \u001b[0;34m\u001b[0m\u001b[0m\n\u001b[1;32m     91\u001b[0m         \u001b[0mbatch_s\u001b[0m \u001b[0;34m=\u001b[0m \u001b[0;34m[\u001b[0m\u001b[0mbatch_H\u001b[0m\u001b[0;34m,\u001b[0m \u001b[0mbatch_u\u001b[0m\u001b[0;34m]\u001b[0m\u001b[0;34m\u001b[0m\u001b[0;34m\u001b[0m\u001b[0m\n",
      "\u001b[0;31mValueError\u001b[0m: setting an array element with a sequence."
     ]
    }
   ],
   "source": [
    "run_experiment(compatwrap, agent, t_train=8000, t_test=20)"
   ]
  },
  {
   "cell_type": "code",
   "execution_count": 20,
   "metadata": {},
   "outputs": [
    {
     "name": "stderr",
     "output_type": "stream",
     "text": [
      "\n",
      "  0%|          | 0/8000 [00:00<?, ?it/s]\u001b[A\n",
      "  2%|▏         | 183/8000 [00:00<00:04, 1829.92it/s]\u001b[A\n",
      "  5%|▍         | 371/8000 [00:00<00:04, 1843.91it/s]\u001b[A\n",
      "  7%|▋         | 570/8000 [00:00<00:03, 1885.30it/s]\u001b[A\n",
      " 10%|▉         | 769/8000 [00:00<00:03, 1915.46it/s]\u001b[A\n",
      " 12%|█▏        | 967/8000 [00:00<00:03, 1932.30it/s]\u001b[A\n",
      " 15%|█▍        | 1163/8000 [00:00<00:03, 1939.21it/s]\u001b[A\n",
      " 17%|█▋        | 1364/8000 [00:00<00:03, 1959.59it/s]\u001b[A\n",
      " 20%|█▉        | 1577/8000 [00:00<00:03, 2006.97it/s]\u001b[A\n",
      " 22%|██▏       | 1787/8000 [00:00<00:03, 2033.75it/s]\u001b[A\n",
      " 25%|██▍       | 1984/8000 [00:01<00:03, 1958.21it/s]\u001b[A\n",
      " 27%|██▋       | 2176/8000 [00:01<00:03, 1850.51it/s]\u001b[A\n",
      " 30%|██▉       | 2360/8000 [00:01<00:03, 1784.10it/s]\u001b[A\n",
      " 32%|███▏      | 2538/8000 [00:01<00:03, 1679.79it/s]\u001b[A\n",
      " 34%|███▍      | 2712/8000 [00:01<00:03, 1697.04it/s]\u001b[A\n",
      " 36%|███▌      | 2884/8000 [00:01<00:03, 1700.90it/s]\u001b[A\n",
      " 38%|███▊      | 3055/8000 [00:01<00:02, 1677.39it/s]\u001b[A\n",
      " 40%|████      | 3236/8000 [00:01<00:02, 1712.72it/s]\u001b[A\n",
      " 43%|████▎     | 3408/8000 [00:01<00:02, 1691.54it/s]\u001b[A\n",
      " 45%|████▍     | 3578/8000 [00:01<00:02, 1681.03it/s]\u001b[A\n",
      " 47%|████▋     | 3747/8000 [00:02<00:02, 1644.28it/s]\u001b[A\n",
      " 49%|████▉     | 3912/8000 [00:02<00:02, 1645.00it/s]\u001b[A\n",
      " 51%|█████     | 4095/8000 [00:02<00:02, 1695.50it/s]\u001b[A\n",
      " 53%|█████▎    | 4278/8000 [00:02<00:02, 1732.74it/s]\u001b[A\n",
      " 56%|█████▌    | 4462/8000 [00:02<00:02, 1761.09it/s]\u001b[A\n",
      " 58%|█████▊    | 4648/8000 [00:02<00:01, 1789.18it/s]\u001b[A\n",
      " 60%|██████    | 4834/8000 [00:02<00:01, 1808.81it/s]\u001b[A\n",
      " 63%|██████▎   | 5019/8000 [00:02<00:01, 1819.34it/s]\u001b[A\n",
      " 65%|██████▌   | 5202/8000 [00:02<00:01, 1808.63it/s]\u001b[A\n",
      " 67%|██████▋   | 5384/8000 [00:03<00:01, 1728.13it/s]\u001b[A\n",
      " 69%|██████▉   | 5558/8000 [00:03<00:01, 1724.01it/s]\u001b[A\n",
      " 72%|███████▏  | 5732/8000 [00:03<00:01, 1686.61it/s]\u001b[A\n",
      " 74%|███████▍  | 5925/8000 [00:03<00:01, 1751.16it/s]\u001b[A\n",
      " 76%|███████▋  | 6119/8000 [00:03<00:01, 1802.93it/s]\u001b[A\n",
      " 79%|███████▉  | 6315/8000 [00:03<00:00, 1847.03it/s]\u001b[A\n",
      " 81%|████████▏ | 6509/8000 [00:03<00:00, 1871.68it/s]\u001b[A\n",
      " 84%|████████▎ | 6699/8000 [00:03<00:00, 1878.89it/s]\u001b[A\n",
      " 86%|████████▌ | 6892/8000 [00:03<00:00, 1887.02it/s]\u001b[A\n",
      " 89%|████████▊ | 7082/8000 [00:03<00:00, 1856.46it/s]\u001b[A\n",
      " 91%|█████████ | 7269/8000 [00:04<00:00, 1435.41it/s]\u001b[A\n",
      " 93%|█████████▎| 7465/8000 [00:04<00:00, 1560.38it/s]\u001b[A\n",
      " 96%|█████████▌| 7669/8000 [00:04<00:00, 1677.90it/s]\u001b[A\n",
      " 98%|█████████▊| 7871/8000 [00:04<00:00, 1766.44it/s]\u001b[A\n",
      "100%|██████████| 8000/8000 [00:04<00:00, 1782.45it/s]\u001b[A\n",
      "  0%|          | 0/20 [00:00<?, ?it/s]\u001b[A\n",
      "100%|██████████| 20/20 [00:00<00:00, 1320.62it/s]\u001b[A"
     ]
    }
   ],
   "source": [
    "env = gym.make('MovieLens-v4')\n",
    "env_random = StatsWrapper(env)\n",
    "random_agent = RandomAgent(env.n_rec)\n",
    "\n",
    "run_experiment(env_random, random_agent, t_train=8000, t_test=20)"
   ]
  },
  {
   "cell_type": "code",
   "execution_count": null,
   "metadata": {},
   "outputs": [],
   "source": []
  },
  {
   "cell_type": "code",
   "execution_count": 76,
   "metadata": {},
   "outputs": [],
   "source": [
    "results = {}\n",
    "results['MovieLens-v4'] = {\n",
    "    '1' : compatwrap.env.interactions,\n",
    "    'random' : env_random.interactions,\n",
    "    '2_mse' : compatwrap2.env.interactions,\n",
    "    '3_mse' : compatwrap3.env.interactions,\n",
    "}"
   ]
  },
  {
   "cell_type": "code",
   "execution_count": 77,
   "metadata": {},
   "outputs": [
    {
     "data": {
      "image/png": "[encoded data removed]",
      "text/plain": [
       "<Figure size 720x576 with 1 Axes>"
      ]
     },
     "metadata": {
      "needs_background": "light"
     },
     "output_type": "display_data"
    }
   ],
   "source": [
    "import numpy as np\n",
    "import matplotlib.pylab as plt\n",
    "%matplotlib inline\n",
    "\n",
    "for envid, res in results.items():\n",
    "    \n",
    "    plt.figure(figsize=(10, 8))\n",
    "    \n",
    "    for agent_name, interactions in res.items():\n",
    "        rewards = []\n",
    "        for i in interactions:\n",
    "            rewards.extend(i.rewards)\n",
    "        \n",
    "        plt.plot(np.cumsum(rewards), label=agent_name)\n",
    "    \n",
    "    plt.legend()\n",
    "    plt.title(envid)"
   ]
  },
  {
   "cell_type": "code",
   "execution_count": null,
   "metadata": {},
   "outputs": [],
   "source": []
  },
  {
   "cell_type": "code",
   "execution_count": null,
   "metadata": {},
   "outputs": [],
   "source": []
  }
 ],
 "metadata": {
  "kernelspec": {
   "display_name": "datascience",
   "language": "python",
   "name": "datascience"
  },
  "language_info": {
   "codemirror_mode": {
    "name": "ipython",
    "version": 3
   },
   "file_extension": ".py",
   "mimetype": "text/x-python",
   "name": "python",
   "nbconvert_exporter": "python",
   "pygments_lexer": "ipython3",
   "version": "3.7.2"
  }
 },
 "nbformat": 4,
 "nbformat_minor": 2
}
