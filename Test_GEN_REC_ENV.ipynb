{
 "cells": [
  {
   "cell_type": "code",
   "execution_count": 1,
   "metadata": {
    "collapsed": true
   },
   "outputs": [],
   "source": [
    "%load_ext autoreload\n",
    "%autoreload 2"
   ]
  },
  {
   "cell_type": "code",
   "execution_count": 2,
   "metadata": {},
   "outputs": [],
   "source": [
    "import gym\n",
    "import rec_gym\n",
    "from rec_gym.wrappers import StatsWrapper, FlattenObservationsWrapper\n",
    "from copy import deepcopy\n",
    "from rec_gym.runner import run_experiment"
   ]
  },
  {
   "cell_type": "code",
   "execution_count": null,
   "metadata": {
    "collapsed": true
   },
   "outputs": [],
   "source": []
  },
  {
   "cell_type": "code",
   "execution_count": 3,
   "metadata": {},
   "outputs": [
    {
     "data": {
      "text/plain": [
       "<matplotlib.image.AxesImage at 0x7fad8b22b0f0>"
      ]
     },
     "execution_count": 3,
     "metadata": {},
     "output_type": "execute_result"
    },
    {
     "data": {
      "image/png": "[encoded data removed]",
      "text/plain": [
       "<Figure size 720x720 with 1 Axes>"
      ]
     },
     "metadata": {},
     "output_type": "display_data"
    }
   ],
   "source": [
    "import gym\n",
    "import rec_gym\n",
    "from rec_gym.wrappers import StatsWrapper, FlattenObservationsWrapper\n",
    "from rec_gym.envs import GeneratedRecEnv\n",
    "\n",
    "env = StatsWrapper(GeneratedRecEnv(\n",
    "    n_items = 400,\n",
    "    n_users = 5,\n",
    "    n_rec = 4,\n",
    "    embedding_dimension = 2,\n",
    "    user_change_prob = 0.05,\n",
    "    reward_noise = 0.05,\n",
    "    user_initial_n_clusters = 4,\n",
    "    user_init_sigma  = 2,\n",
    "    user_cluster_sigma = 4,\n",
    "    user_ar_coef = 0.9,\n",
    "    user_drift_sigma = 0.3,\n",
    "    initial_n_clusters = 5,\n",
    "    cluster_var = 4,\n",
    "    in_cluster_var = 1,\n",
    "    new_items_interval = 100,\n",
    "    new_items_size = 0.2,\n",
    "    click_prob_type = 'normal',\n",
    "    user_preference_type = 'static'\n",
    "))\n",
    "\n",
    "import matplotlib.pylab as plt\n",
    "%matplotlib inline\n",
    "plt.figure(figsize=(10, 10))\n",
    "plt.imshow(env.render(mode='rgb_array'))"
   ]
  },
  {
   "cell_type": "code",
   "execution_count": 3,
   "metadata": {},
   "outputs": [],
   "source": []
  },
  {
   "cell_type": "code",
   "execution_count": 4,
   "metadata": {},
   "outputs": [
    {
     "name": "stdout",
     "output_type": "stream",
     "text": [
      "\u001b[33mWARN: <class 'rec_gym.wrappers.stats_wrapper.StatsWrapper'> doesn't implement 'reset' method, which is required for wrappers derived directly from Wrapper. Deprecated default implementation is used.\u001b[0m\n"
     ]
    }
   ],
   "source": [
    "obs = env.reset()"
   ]
  },
  {
   "cell_type": "code",
   "execution_count": 5,
   "metadata": {},
   "outputs": [
    {
     "data": {
      "text/plain": [
       "NDiscreteTuple(Discrete(400), Discrete(400), Discrete(400), Discrete(400))"
      ]
     },
     "execution_count": 5,
     "metadata": {},
     "output_type": "execute_result"
    }
   ],
   "source": [
    "env.action_space"
   ]
  },
  {
   "cell_type": "code",
   "execution_count": 7,
   "metadata": {
    "collapsed": true
   },
   "outputs": [],
   "source": [
    "a = env.action_space.sample()"
   ]
  },
  {
   "cell_type": "code",
   "execution_count": 8,
   "metadata": {
    "collapsed": true
   },
   "outputs": [],
   "source": [
    "obs, reward, done, info = env.step(a)"
   ]
  },
  {
   "cell_type": "code",
   "execution_count": 9,
   "metadata": {},
   "outputs": [
    {
     "data": {
      "text/plain": [
       "{'rewards': [0, 0, 0, 0],\n",
       " 'recs': [70, 43, 52, 68],\n",
       " 'probs': [0.0, 0.0, 0.003521918207098402, 0.009632973490254167],\n",
       " 'best_ps': [0.024736618144550387,\n",
       "  0.024495944963471093,\n",
       "  0.024194837019405876,\n",
       "  0.024081376515358174],\n",
       " 'ranks': [38, 30, 45, 5]}"
      ]
     },
     "execution_count": 9,
     "metadata": {},
     "output_type": "execute_result"
    }
   ],
   "source": [
    "info"
   ]
  },
  {
   "cell_type": "code",
   "execution_count": 10,
   "metadata": {},
   "outputs": [
    {
     "data": {
      "text/plain": [
       "[Interaction(t=1, uid=4, recs=[70, 43, 52, 68], rewards=[0, 0, 0, 0], probs=[0.0, 0.0, 0.003521918207098402, 0.009632973490254167], best_ps=[0.024736618144550387, 0.024495944963471093, 0.024194837019405876, 0.024081376515358174], ranks=[38, 30, 45, 5])]"
      ]
     },
     "execution_count": 10,
     "metadata": {},
     "output_type": "execute_result"
    }
   ],
   "source": [
    "env.interactions"
   ]
  },
  {
   "cell_type": "code",
   "execution_count": null,
   "metadata": {
    "collapsed": true
   },
   "outputs": [],
   "source": []
  }
 ],
 "metadata": {
  "kernelspec": {
   "display_name": "Python 3",
   "language": "python",
   "name": "python3"
  },
  "language_info": {
   "codemirror_mode": {
    "name": "ipython",
    "version": 3
   },
   "file_extension": ".py",
   "mimetype": "text/x-python",
   "name": "python",
   "nbconvert_exporter": "python",
   "pygments_lexer": "ipython3",
   "version": "3.6.3"
  }
 },
 "nbformat": 4,
 "nbformat_minor": 2
}
