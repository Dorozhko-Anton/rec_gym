{
 "cells": [
  {
   "cell_type": "code",
   "execution_count": 1,
   "metadata": {},
   "outputs": [],
   "source": [
    "%load_ext autoreload\n",
    "%autoreload 2"
   ]
  },
  {
   "cell_type": "code",
   "execution_count": 2,
   "metadata": {},
   "outputs": [],
   "source": [
    "import gym\n",
    "import rec_gym\n",
    "from rec_gym.wrappers import StatsWrapper, FlattenObservationsWrapper\n",
    "from copy import deepcopy\n",
    "from rec_gym.runner import run_experiment"
   ]
  },
  {
   "cell_type": "code",
   "execution_count": null,
   "metadata": {},
   "outputs": [],
   "source": []
  },
  {
   "cell_type": "code",
   "execution_count": 3,
   "metadata": {},
   "outputs": [
    {
     "data": {
      "text/plain": [
       "<matplotlib.image.AxesImage at 0x7fc232c64470>"
      ]
     },
     "execution_count": 3,
     "metadata": {},
     "output_type": "execute_result"
    },
    {
     "data": {
      "image/png": "[encoded data removed]",
      "text/plain": [
       "<matplotlib.figure.Figure at 0x7fc23d848588>"
      ]
     },
     "metadata": {
      "needs_background": "light"
     },
     "output_type": "display_data"
    }
   ],
   "source": [
    "import gym\n",
    "import rec_gym\n",
    "from rec_gym.wrappers import StatsWrapper, FlattenObservationsWrapper\n",
    "from rec_gym.envs import GeneratedRecEnv\n",
    "\n",
    "env = StatsWrapper(GeneratedRecEnv(\n",
    "    n_items = 400,\n",
    "    n_users = 5,\n",
    "    n_rec = 4,\n",
    "    embedding_dimension = 2,\n",
    "    user_change_prob = 0.05,\n",
    "    reward_noise = 0.05,\n",
    "    user_initial_n_clusters = 4,\n",
    "    user_init_sigma  = 2,\n",
    "    user_cluster_sigma = 4,\n",
    "    user_ar_coef = 0.9,\n",
    "    user_drift_sigma = 0.3,\n",
    "    initial_n_clusters = 5,\n",
    "    cluster_var = 4,\n",
    "    in_cluster_var = 1,\n",
    "    new_items_interval = 100,\n",
    "    new_items_size = 0.2,\n",
    "    click_prob_type = 'normal',\n",
    "    user_preference_type = 'static'\n",
    "))\n",
    "\n",
    "import matplotlib.pylab as plt\n",
    "%matplotlib inline\n",
    "plt.figure(figsize=(10, 10))\n",
    "plt.imshow(env.render(mode='rgb_array'))"
   ]
  },
  {
   "cell_type": "code",
   "execution_count": null,
   "metadata": {},
   "outputs": [],
   "source": []
  },
  {
   "cell_type": "code",
   "execution_count": 4,
   "metadata": {},
   "outputs": [
    {
     "name": "stderr",
     "output_type": "stream",
     "text": [
      "/home/anton/anaconda3/envs/datascience/lib/python3.6/site-packages/gym/logger.py:30: UserWarning: \u001b[33mWARN: <class 'rec_gym.wrappers.stats_wrapper.StatsWrapper'> doesn't implement 'reset' method, which is required for wrappers derived directly from Wrapper. Deprecated default implementation is used.\u001b[0m\n",
      "  warnings.warn(colorize('%s: %s'%('WARN', msg % args), 'yellow'))\n"
     ]
    }
   ],
   "source": [
    "obs = env.reset()"
   ]
  },
  {
   "cell_type": "code",
   "execution_count": 5,
   "metadata": {},
   "outputs": [
    {
     "data": {
      "text/plain": [
       "NDiscreteTuple(Discrete(400), Discrete(400), Discrete(400), Discrete(400))"
      ]
     },
     "execution_count": 5,
     "metadata": {},
     "output_type": "execute_result"
    }
   ],
   "source": [
    "env.action_space"
   ]
  },
  {
   "cell_type": "code",
   "execution_count": 6,
   "metadata": {},
   "outputs": [],
   "source": [
    "a = env.action_space.sample()"
   ]
  },
  {
   "cell_type": "code",
   "execution_count": 7,
   "metadata": {},
   "outputs": [],
   "source": [
    "obs, reward, done, info = env.step(a)"
   ]
  },
  {
   "cell_type": "code",
   "execution_count": 8,
   "metadata": {},
   "outputs": [
    {
     "data": {
      "text/plain": [
       "{'rewards': [0, 0, 0, 0],\n",
       " 'recs': [322, 304, 116, 282],\n",
       " 'probs': [0.0, 0.0, 0.0, 0.0],\n",
       " 'best_ps': [0.024866938029262889,\n",
       "  0.024734640447772911,\n",
       "  0.024645215056494089,\n",
       "  0.024611722756859793],\n",
       " 'ranks': [138, 38, 344, 261]}"
      ]
     },
     "execution_count": 8,
     "metadata": {},
     "output_type": "execute_result"
    }
   ],
   "source": [
    "info"
   ]
  },
  {
   "cell_type": "code",
   "execution_count": 9,
   "metadata": {},
   "outputs": [
    {
     "data": {
      "text/plain": [
       "[Interaction(t=1, uid=2, recs=[322, 304, 116, 282], rewards=[0, 0, 0, 0], probs=[0.0, 0.0, 0.0, 0.0], best_ps=[0.024866938029262889, 0.024734640447772911, 0.024645215056494089, 0.024611722756859793], ranks=[138, 38, 344, 261])]"
      ]
     },
     "execution_count": 9,
     "metadata": {},
     "output_type": "execute_result"
    }
   ],
   "source": [
    "env.interactions"
   ]
  },
  {
   "cell_type": "code",
   "execution_count": null,
   "metadata": {},
   "outputs": [],
   "source": []
  }
 ],
 "metadata": {
  "kernelspec": {
   "display_name": "datascience",
   "language": "python",
   "name": "datascience"
  },
  "language_info": {
   "codemirror_mode": {
    "name": "ipython",
    "version": 3
   },
   "file_extension": ".py",
   "mimetype": "text/x-python",
   "name": "python",
   "nbconvert_exporter": "python",
   "pygments_lexer": "ipython3",
   "version": "3.7.2"
  }
 },
 "nbformat": 4,
 "nbformat_minor": 2
}
