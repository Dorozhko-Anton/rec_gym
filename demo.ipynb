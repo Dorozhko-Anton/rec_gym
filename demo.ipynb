{
 "cells": [
  {
   "cell_type": "code",
   "execution_count": 1,
   "metadata": {},
   "outputs": [],
   "source": [
    "%load_ext autoreload\n",
    "%autoreload 2"
   ]
  },
  {
   "cell_type": "code",
   "execution_count": 2,
   "metadata": {},
   "outputs": [],
   "source": [
    "import gym, rec_gym\n",
    "import numpy as np\n",
    "from rec_gym.envs import PrimEnv1"
   ]
  },
  {
   "cell_type": "code",
   "execution_count": 3,
   "metadata": {},
   "outputs": [],
   "source": [
    "import gin"
   ]
  },
  {
   "cell_type": "code",
   "execution_count": 4,
   "metadata": {},
   "outputs": [],
   "source": [
    "gin.parse_config(\"\"\"\n",
    "PrimEnv1.n_items = 100\n",
    "PrimEnv1.n_users = 10\n",
    "PrimEnv1.n_rec   = 4\n",
    "PrimEnv1.embedding_dimension = 2\n",
    "PrimEnv1.cluster_var = 16\n",
    "PrimEnv1.in_cluster_var = 4\n",
    "PrimEnv1.user_change_prob = 0.05\n",
    "PrimEnv1.reward_noise = 0.3\n",
    "PrimEnv1.user_init_sigma = 4\n",
    "PrimEnv1.user_ar_coef = 1\n",
    "PrimEnv1.user_drift_sigma = 0\n",
    "PrimEnv1.seed = 53\n",
    "PrimEnv1.user_type = 'drifting'\n",
    "\"\"\")"
   ]
  },
  {
   "cell_type": "code",
   "execution_count": 5,
   "metadata": {},
   "outputs": [],
   "source": [
    "env = gym.make('prim-gym-v1')"
   ]
  },
  {
   "cell_type": "code",
   "execution_count": 6,
   "metadata": {},
   "outputs": [
    {
     "name": "stdout",
     "output_type": "stream",
     "text": [
      "Action: [0, 1, 2, 3] - Observation: (<rec_gym.envs.prim_env_v1.User object at 0x7f317147e400>, {0: <rec_gym.envs.prim_env_v1.Item object at 0x7f317056d630>, 1: <rec_gym.envs.prim_env_v1.Item object at 0x7f317056d6a0>, 2: <rec_gym.envs.prim_env_v1.Item object at 0x7f317056d828>, 3: <rec_gym.envs.prim_env_v1.Item object at 0x7f317056d7f0>, 4: <rec_gym.envs.prim_env_v1.Item object at 0x7f317056d748>, 5: <rec_gym.envs.prim_env_v1.Item object at 0x7f317056d860>, 6: <rec_gym.envs.prim_env_v1.Item object at 0x7f317056d898>, 7: <rec_gym.envs.prim_env_v1.Item object at 0x7f317056d8d0>, 8: <rec_gym.envs.prim_env_v1.Item object at 0x7f317056d908>, 9: <rec_gym.envs.prim_env_v1.Item object at 0x7f317056d940>, 10: <rec_gym.envs.prim_env_v1.Item object at 0x7f317056d978>, 11: <rec_gym.envs.prim_env_v1.Item object at 0x7f317056d9b0>, 12: <rec_gym.envs.prim_env_v1.Item object at 0x7f317056d9e8>, 13: <rec_gym.envs.prim_env_v1.Item object at 0x7f317056da20>, 14: <rec_gym.envs.prim_env_v1.Item object at 0x7f317056da58>, 15: <rec_gym.envs.prim_env_v1.Item object at 0x7f317056da90>, 16: <rec_gym.envs.prim_env_v1.Item object at 0x7f317056dac8>, 17: <rec_gym.envs.prim_env_v1.Item object at 0x7f317056db00>, 18: <rec_gym.envs.prim_env_v1.Item object at 0x7f317056db38>, 19: <rec_gym.envs.prim_env_v1.Item object at 0x7f317056db70>, 20: <rec_gym.envs.prim_env_v1.Item object at 0x7f317056dba8>, 21: <rec_gym.envs.prim_env_v1.Item object at 0x7f317056dbe0>, 22: <rec_gym.envs.prim_env_v1.Item object at 0x7f317056dc18>, 23: <rec_gym.envs.prim_env_v1.Item object at 0x7f317056dc50>, 24: <rec_gym.envs.prim_env_v1.Item object at 0x7f317056dc88>, 25: <rec_gym.envs.prim_env_v1.Item object at 0x7f317056dcc0>, 26: <rec_gym.envs.prim_env_v1.Item object at 0x7f317056dcf8>, 27: <rec_gym.envs.prim_env_v1.Item object at 0x7f317056dd30>, 28: <rec_gym.envs.prim_env_v1.Item object at 0x7f317056dd68>, 29: <rec_gym.envs.prim_env_v1.Item object at 0x7f317056dda0>, 30: <rec_gym.envs.prim_env_v1.Item object at 0x7f317056ddd8>, 31: <rec_gym.envs.prim_env_v1.Item object at 0x7f317056de10>, 32: <rec_gym.envs.prim_env_v1.Item object at 0x7f317056de48>, 33: <rec_gym.envs.prim_env_v1.Item object at 0x7f317056de80>, 34: <rec_gym.envs.prim_env_v1.Item object at 0x7f317056deb8>, 35: <rec_gym.envs.prim_env_v1.Item object at 0x7f317056def0>, 36: <rec_gym.envs.prim_env_v1.Item object at 0x7f317056df28>, 37: <rec_gym.envs.prim_env_v1.Item object at 0x7f317056df60>, 38: <rec_gym.envs.prim_env_v1.Item object at 0x7f317056df98>, 39: <rec_gym.envs.prim_env_v1.Item object at 0x7f317056dfd0>, 40: <rec_gym.envs.prim_env_v1.Item object at 0x7f3170589048>, 41: <rec_gym.envs.prim_env_v1.Item object at 0x7f3170589080>, 42: <rec_gym.envs.prim_env_v1.Item object at 0x7f31705890b8>, 43: <rec_gym.envs.prim_env_v1.Item object at 0x7f31705890f0>, 44: <rec_gym.envs.prim_env_v1.Item object at 0x7f3170589128>, 45: <rec_gym.envs.prim_env_v1.Item object at 0x7f3170589160>, 46: <rec_gym.envs.prim_env_v1.Item object at 0x7f3170589198>, 47: <rec_gym.envs.prim_env_v1.Item object at 0x7f31705891d0>, 48: <rec_gym.envs.prim_env_v1.Item object at 0x7f3170589208>, 49: <rec_gym.envs.prim_env_v1.Item object at 0x7f3170589240>, 50: <rec_gym.envs.prim_env_v1.Item object at 0x7f3170589278>, 51: <rec_gym.envs.prim_env_v1.Item object at 0x7f31705892b0>, 52: <rec_gym.envs.prim_env_v1.Item object at 0x7f31705892e8>, 53: <rec_gym.envs.prim_env_v1.Item object at 0x7f3170589320>, 54: <rec_gym.envs.prim_env_v1.Item object at 0x7f3170589358>, 55: <rec_gym.envs.prim_env_v1.Item object at 0x7f3170589390>, 56: <rec_gym.envs.prim_env_v1.Item object at 0x7f31705893c8>, 57: <rec_gym.envs.prim_env_v1.Item object at 0x7f3170589400>, 58: <rec_gym.envs.prim_env_v1.Item object at 0x7f3170589438>, 59: <rec_gym.envs.prim_env_v1.Item object at 0x7f3170589470>, 60: <rec_gym.envs.prim_env_v1.Item object at 0x7f31705894a8>, 61: <rec_gym.envs.prim_env_v1.Item object at 0x7f31705894e0>, 62: <rec_gym.envs.prim_env_v1.Item object at 0x7f3170589518>, 63: <rec_gym.envs.prim_env_v1.Item object at 0x7f3170589550>, 64: <rec_gym.envs.prim_env_v1.Item object at 0x7f3170589588>, 65: <rec_gym.envs.prim_env_v1.Item object at 0x7f31705895c0>, 66: <rec_gym.envs.prim_env_v1.Item object at 0x7f31705895f8>, 67: <rec_gym.envs.prim_env_v1.Item object at 0x7f3170589630>, 68: <rec_gym.envs.prim_env_v1.Item object at 0x7f3170589668>, 69: <rec_gym.envs.prim_env_v1.Item object at 0x7f31705896a0>, 70: <rec_gym.envs.prim_env_v1.Item object at 0x7f31705896d8>, 71: <rec_gym.envs.prim_env_v1.Item object at 0x7f3170589710>, 72: <rec_gym.envs.prim_env_v1.Item object at 0x7f3170589748>, 73: <rec_gym.envs.prim_env_v1.Item object at 0x7f3170589780>, 74: <rec_gym.envs.prim_env_v1.Item object at 0x7f31705897b8>, 75: <rec_gym.envs.prim_env_v1.Item object at 0x7f31705897f0>, 76: <rec_gym.envs.prim_env_v1.Item object at 0x7f3170589828>, 77: <rec_gym.envs.prim_env_v1.Item object at 0x7f3170589860>, 78: <rec_gym.envs.prim_env_v1.Item object at 0x7f3170589898>, 79: <rec_gym.envs.prim_env_v1.Item object at 0x7f31705898d0>, 80: <rec_gym.envs.prim_env_v1.Item object at 0x7f3170589908>, 81: <rec_gym.envs.prim_env_v1.Item object at 0x7f3170589940>, 82: <rec_gym.envs.prim_env_v1.Item object at 0x7f3170589978>, 83: <rec_gym.envs.prim_env_v1.Item object at 0x7f31705899b0>, 84: <rec_gym.envs.prim_env_v1.Item object at 0x7f31705899e8>, 85: <rec_gym.envs.prim_env_v1.Item object at 0x7f3170589a20>, 86: <rec_gym.envs.prim_env_v1.Item object at 0x7f3170589a58>, 87: <rec_gym.envs.prim_env_v1.Item object at 0x7f3170589a90>, 88: <rec_gym.envs.prim_env_v1.Item object at 0x7f3170589ac8>, 89: <rec_gym.envs.prim_env_v1.Item object at 0x7f3170589b00>, 90: <rec_gym.envs.prim_env_v1.Item object at 0x7f3170589b38>, 91: <rec_gym.envs.prim_env_v1.Item object at 0x7f3170589b70>, 92: <rec_gym.envs.prim_env_v1.Item object at 0x7f3170589ba8>, 93: <rec_gym.envs.prim_env_v1.Item object at 0x7f3170589be0>, 94: <rec_gym.envs.prim_env_v1.Item object at 0x7f3170589c18>, 95: <rec_gym.envs.prim_env_v1.Item object at 0x7f3170589c50>, 96: <rec_gym.envs.prim_env_v1.Item object at 0x7f3170589c88>, 97: <rec_gym.envs.prim_env_v1.Item object at 0x7f3170589cc0>, 98: <rec_gym.envs.prim_env_v1.Item object at 0x7f3170589cf8>, 99: <rec_gym.envs.prim_env_v1.Item object at 0x7f3170589d30>}) - Reward: 0\n"
     ]
    }
   ],
   "source": [
    "\n",
    "init_observation = env.reset()\n",
    "init_users, init_items = init_observation\n",
    "\n",
    "item_list = list(init_items.values())\n",
    "\n",
    "rec = [i.id for i in item_list[:4]]\n",
    "\n",
    "observation, reward, done, info = env.step(rec)\n",
    "\n",
    "users, items = observation\n",
    "print(f\"Action: {rec} - Observation: ({users}, {items}) - Reward: {reward}\")"
   ]
  },
  {
   "cell_type": "code",
   "execution_count": 7,
   "metadata": {},
   "outputs": [
    {
     "data": {
      "text/plain": [
       "defaultdict(list, {4: [[0, 1, 2, 3]]})"
      ]
     },
     "execution_count": 7,
     "metadata": {},
     "output_type": "execute_result"
    }
   ],
   "source": [
    "env.recommendations"
   ]
  },
  {
   "cell_type": "code",
   "execution_count": 8,
   "metadata": {},
   "outputs": [
    {
     "data": {
      "text/plain": [
       "defaultdict(list,\n",
       "            {4: [[3.4383783850741673e-08,\n",
       "               0.0003509309913883173,\n",
       "               6.196572684136255e-05,\n",
       "               6.537084299912441e-06]]})"
      ]
     },
     "execution_count": 8,
     "metadata": {},
     "output_type": "execute_result"
    }
   ],
   "source": [
    "env.ps"
   ]
  },
  {
   "cell_type": "code",
   "execution_count": 9,
   "metadata": {},
   "outputs": [
    {
     "data": {
      "text/plain": [
       "defaultdict(list, {4: [[0, 0, 0, 0]]})"
      ]
     },
     "execution_count": 9,
     "metadata": {},
     "output_type": "execute_result"
    }
   ],
   "source": [
    "env.rewards"
   ]
  },
  {
   "cell_type": "code",
   "execution_count": 10,
   "metadata": {
    "scrolled": false
   },
   "outputs": [],
   "source": [
    "img = env.render(mode='rgb_array')"
   ]
  },
  {
   "cell_type": "code",
   "execution_count": 11,
   "metadata": {
    "collapsed": true
   },
   "outputs": [],
   "source": [
    "import matplotlib.pylab as plt\n",
    "%matplotlib inline"
   ]
  },
  {
   "cell_type": "code",
   "execution_count": 12,
   "metadata": {},
   "outputs": [
    {
     "data": {
      "text/plain": [
       "(500, 500, 3)"
      ]
     },
     "execution_count": 12,
     "metadata": {},
     "output_type": "execute_result"
    }
   ],
   "source": [
    "img.shape"
   ]
  },
  {
   "cell_type": "code",
   "execution_count": 13,
   "metadata": {},
   "outputs": [
    {
     "data": {
      "text/plain": [
       "<matplotlib.image.AxesImage at 0x7f316e178128>"
      ]
     },
     "execution_count": 13,
     "metadata": {},
     "output_type": "execute_result"
    },
    {
     "data": {
      "image/png": "[encoded data removed]",
      "text/plain": [
       "<Figure size 720x720 with 1 Axes>"
      ]
     },
     "metadata": {},
     "output_type": "display_data"
    }
   ],
   "source": [
    "plt.figure(figsize=(10, 10))\n",
    "plt.imshow(img)"
   ]
  },
  {
   "cell_type": "code",
   "execution_count": 14,
   "metadata": {},
   "outputs": [
    {
     "data": {
      "application/vnd.jupyter.widget-view+json": {
       "model_id": "8f32175b31b9402faee6fe11a526262d",
       "version_major": 2,
       "version_minor": 0
      },
      "text/plain": [
       "HBox(children=(IntProgress(value=0, max=1000), HTML(value='')))"
      ]
     },
     "metadata": {},
     "output_type": "display_data"
    },
    {
     "name": "stdout",
     "output_type": "stream",
     "text": [
      "\n"
     ]
    }
   ],
   "source": [
    "#record sessions\n",
    "from tqdm import tqdm_notebook\n",
    "\n",
    "import gym.wrappers\n",
    "env = gym.make(\"prim-gym-v1\")\n",
    "env = gym.wrappers.Monitor(env,directory=\"logs/videos\",force=True)\n",
    "\n",
    "user, items = env.reset()\n",
    "\n",
    "for i in tqdm_notebook(range(1000)):\n",
    "    \n",
    "\n",
    "    item_list = list(items.values())\n",
    "\n",
    "    rec = [i.id for i in np.random.choice(item_list, env.unwrapped.n_rec)]\n",
    "    \n",
    "    observation, reward, done, info = env.step(rec)\n",
    "    \n",
    "    user, items = observation\n",
    "    \n",
    "env.close()\n"
   ]
  },
  {
   "cell_type": "code",
   "execution_count": 63,
   "metadata": {},
   "outputs": [
    {
     "data": {
      "application/vnd.jupyter.widget-view+json": {
       "model_id": "f6a7fc4c9db544008916f7b5b78beda2",
       "version_major": 2,
       "version_minor": 0
      },
      "text/plain": [
       "interactive(children=(IntSlider(value=0, continuous_update=False, description='Time:', max=1000), Output()), _…"
      ]
     },
     "metadata": {},
     "output_type": "display_data"
    }
   ],
   "source": [
    "from agents.utils import data_exploring_widget\n",
    "data_exploring_widget(env)"
   ]
  },
  {
   "cell_type": "code",
   "execution_count": null,
   "metadata": {
    "collapsed": true
   },
   "outputs": [],
   "source": []
  },
  {
   "cell_type": "code",
   "execution_count": null,
   "metadata": {
    "collapsed": true
   },
   "outputs": [],
   "source": []
  },
  {
   "cell_type": "code",
   "execution_count": 15,
   "metadata": {},
   "outputs": [
    {
     "name": "stdout",
     "output_type": "stream",
     "text": [
      "openaigym.episode_batch.2.21846.stats.json\r\n",
      "openaigym.manifest.2.21846.manifest.json\r\n",
      "openaigym.video.2.21846.video000000.meta.json\r\n",
      "openaigym.video.2.21846.video000000.mp4\r\n"
     ]
    }
   ],
   "source": [
    "!ls logs/videos/videos/"
   ]
  },
  {
   "cell_type": "code",
   "execution_count": 16,
   "metadata": {
    "scrolled": false
   },
   "outputs": [
    {
     "data": {
      "text/html": [
       "\n",
       "<video width=\"640\" height=\"480\" controls>\n",
       "  <source src=\"logs/videos/videos/openaigym.video.2.21846.video000000.mp4\" type=\"video/mp4\">\n",
       "</video>\n"
      ],
      "text/plain": [
       "<IPython.core.display.HTML object>"
      ]
     },
     "execution_count": 16,
     "metadata": {},
     "output_type": "execute_result"
    }
   ],
   "source": [
    "#show video\n",
    "from IPython.display import HTML\n",
    "import os\n",
    "\n",
    "video_names = list(filter(lambda s:s.endswith(\".mp4\"),os.listdir(\"logs/videos/videos/\")))\n",
    "\n",
    "HTML(\"\"\"\n",
    "<video width=\"640\" height=\"480\" controls>\n",
    "  <source src=\"{}\" type=\"video/mp4\">\n",
    "</video>\n",
    "\"\"\".format(\"logs/videos/videos/\"+video_names[-1]))"
   ]
  },
  {
   "cell_type": "markdown",
   "metadata": {},
   "source": [
    "# Lines are last 5 recommendations  \n",
    "# reward :yellow - 1, black - 0 "
   ]
  }
 ],
 "metadata": {
  "kernelspec": {
   "display_name": "Python 3",
   "language": "python",
   "name": "python3"
  },
  "language_info": {
   "codemirror_mode": {
    "name": "ipython",
    "version": 3
   },
   "file_extension": ".py",
   "mimetype": "text/x-python",
   "name": "python",
   "nbconvert_exporter": "python",
   "pygments_lexer": "ipython3",
   "version": "3.6.3"
  }
 },
 "nbformat": 4,
 "nbformat_minor": 2
}
