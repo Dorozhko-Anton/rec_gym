{
 "cells": [
  {
   "cell_type": "code",
   "execution_count": 2,
   "metadata": {
    "collapsed": true
   },
   "outputs": [],
   "source": [
    "%load_ext autoreload\n",
    "%autoreload 2"
   ]
  },
  {
   "cell_type": "code",
   "execution_count": 3,
   "metadata": {},
   "outputs": [
    {
     "name": "stderr",
     "output_type": "stream",
     "text": [
      "/home/anton/anaconda3/lib/python3.6/site-packages/h5py/__init__.py:36: FutureWarning: Conversion of the second argument of issubdtype from `float` to `np.floating` is deprecated. In future, it will be treated as `np.float64 == np.dtype(float).type`.\n",
      "  from ._conv import register_converters as _register_converters\n"
     ]
    }
   ],
   "source": [
    "import gym, rec_gym\n",
    "import numpy as np\n",
    "import tensorflow as tf\n",
    "\n",
    "from rec_gym.runner import run_experiment\n",
    "import gin\n",
    "from rec_gym.envs import prim_env_v1, prim_env_v2\n",
    "\n",
    "import pickle"
   ]
  },
  {
   "cell_type": "code",
   "execution_count": 4,
   "metadata": {
    "collapsed": true
   },
   "outputs": [],
   "source": [
    "gin.parse_config(\"\"\"\n",
    "PrimEnv1.n_items = 100\n",
    "PrimEnv1.n_users = 10\n",
    "PrimEnv1.n_rec   = 4\n",
    "PrimEnv1.embedding_dimension = 2\n",
    "PrimEnv1.cluster_var = 16\n",
    "PrimEnv1.in_cluster_var = 4\n",
    "PrimEnv1.user_change_prob = 0.05\n",
    "PrimEnv1.reward_noise = 0\n",
    "PrimEnv1.user_init_sigma = 4\n",
    "PrimEnv1.user_ar_coef = 1\n",
    "PrimEnv1.user_drift_sigma = 0\n",
    "PrimEnv1.seed = 53\n",
    "PrimEnv1.user_type = 'drifting'\n",
    "\n",
    "PrimEnv2.n_items = 100\n",
    "PrimEnv2.n_users = 10\n",
    "PrimEnv2.n_rec   = 4\n",
    "PrimEnv2.embedding_dimension = 2\n",
    "PrimEnv2.cluster_var = 16\n",
    "PrimEnv2.in_cluster_var = 4\n",
    "PrimEnv2.user_change_prob = 0.05\n",
    "PrimEnv2.reward_noise = 0\n",
    "PrimEnv2.user_init_sigma = 4\n",
    "PrimEnv2.user_ar_coef = 1\n",
    "PrimEnv2.user_drift_sigma = 0\n",
    "PrimEnv2.seed = 53\n",
    "PrimEnv2.user_type = 'none'\n",
    "PrimEnv2.new_items_interval = 1000\n",
    "PrimEnv2.new_items_size = 0.\n",
    "PrimEnv2.return_items_objects = False\n",
    "\n",
    "\n",
    "PrimEnv3.n_items = 100\n",
    "PrimEnv3.n_users = 10\n",
    "PrimEnv3.n_rec   = 4\n",
    "PrimEnv3.embedding_dimension = 2\n",
    "PrimEnv3.cluster_var = 16\n",
    "PrimEnv3.in_cluster_var = 4\n",
    "PrimEnv3.user_change_prob = 0.05\n",
    "PrimEnv3.reward_noise = 0\n",
    "PrimEnv3.user_init_sigma = 4\n",
    "PrimEnv3.user_ar_coef = 1\n",
    "PrimEnv3.user_drift_sigma = 0\n",
    "PrimEnv3.seed = 53\n",
    "PrimEnv3.user_type = 'none'\n",
    "PrimEnv3.new_items_interval = 1000\n",
    "PrimEnv3.new_items_size = 0.\n",
    "PrimEnv3.return_items_objects = False\n",
    "PrimEnv3.user_graph_connectivity = 0.1\n",
    "PrimEnv3.broadcast_std = 1\n",
    "\n",
    "\n",
    "\"\"\")\n",
    "\n",
    "tf.reset_default_graph()\n",
    "sess = tf.InteractiveSession()\n",
    "\n",
    "def make_env():\n",
    "    env = gym.make('prim-gym-v3')\n",
    "    return env"
   ]
  },
  {
   "cell_type": "code",
   "execution_count": 5,
   "metadata": {},
   "outputs": [
    {
     "name": "stderr",
     "output_type": "stream",
     "text": [
      "Using TensorFlow backend.\n"
     ]
    }
   ],
   "source": [
    "from agents.ddpg import DDPGAgent "
   ]
  },
  {
   "cell_type": "code",
   "execution_count": 6,
   "metadata": {
    "collapsed": true
   },
   "outputs": [],
   "source": [
    "env = make_env()\n",
    "\n",
    "state_dim = env.embedding_dimension\n",
    "action_dim = env.embedding_dimension\n",
    "action_size = env.n_rec\n",
    "\n",
    "agent = DDPGAgent(action_size = action_size,\n",
    "                 state_dim = state_dim,\n",
    "                 action_dim = action_dim,\n",
    "                 gamma = .9,\n",
    "                 sess = sess,\n",
    "                 optimizer = tf.train.AdamOptimizer(\n",
    "                     learning_rate=0.001\n",
    "                 ),\n",
    "                 max_tf_checkpoints_to_keep = 3,\n",
    "                 experience_size = 1000,\n",
    "                 batch_size = 64)"
   ]
  },
  {
   "cell_type": "code",
   "execution_count": 7,
   "metadata": {},
   "outputs": [
    {
     "name": "stderr",
     "output_type": "stream",
     "text": [
      "  0%|          | 0/1000 [00:00<?, ?it/s]/home/anton/anaconda3/lib/python3.6/site-packages/numpy/core/fromnumeric.py:2957: RuntimeWarning: Mean of empty slice.\n",
      "  out=out, **kwargs)\n",
      "/home/anton/anaconda3/lib/python3.6/site-packages/numpy/core/_methods.py:80: RuntimeWarning: invalid value encountered in double_scalars\n",
      "  ret = ret.dtype.type(ret / rcount)\n",
      "/media/anton/0b9d5a44-bb63-4de1-9cfe-0da47b81e88a/TPT/3A/PRIM Vente Privee/rec_gym/rec_gym/envs/prim_env_v3.py:190: RuntimeWarning: invalid value encountered in less\n",
      "  p=[1 - p, p]\n",
      "100%|██████████| 1000/1000 [00:34<00:00, 28.92it/s]\n",
      "100%|██████████| 200/200 [00:07<00:00, 26.63it/s]\n"
     ]
    }
   ],
   "source": [
    "sess.run(tf.global_variables_initializer())\n",
    "run_experiment(env, agent, t_train=1000, t_test=200)"
   ]
  },
  {
   "cell_type": "code",
   "execution_count": null,
   "metadata": {
    "collapsed": true
   },
   "outputs": [],
   "source": [
    "with open('./logs/ddpg_no_random_init_env_finished.npy', 'wb') as f:\n",
    "    pickle.dump(file=f, obj=env)"
   ]
  },
  {
   "cell_type": "code",
   "execution_count": 8,
   "metadata": {
    "scrolled": false
   },
   "outputs": [
    {
     "data": {
      "application/vnd.jupyter.widget-view+json": {
       "model_id": "b4970e1f02a14d9a84587a195b8aba1c",
       "version_major": 2,
       "version_minor": 0
      },
      "text/plain": [
       "interactive(children=(IntSlider(value=0, continuous_update=False, description='Time:', max=1200), Output()), _…"
      ]
     },
     "metadata": {},
     "output_type": "display_data"
    }
   ],
   "source": [
    "from agents.utils import data_exploring_widget\n",
    "data_exploring_widget(env)"
   ]
  },
  {
   "cell_type": "code",
   "execution_count": 8,
   "metadata": {
    "collapsed": true
   },
   "outputs": [],
   "source": [
    "from agents.baselines import RandomAgent\n",
    "\n",
    "env = make_env()\n",
    "\n",
    "state_dim = env.embedding_dimension\n",
    "action_dim = env.embedding_dimension\n",
    "action_size = env.n_rec\n",
    "\n",
    "agent = RandomAgent(action_size = action_size)"
   ]
  },
  {
   "cell_type": "code",
   "execution_count": 9,
   "metadata": {},
   "outputs": [
    {
     "name": "stderr",
     "output_type": "stream",
     "text": [
      "  0%|          | 0/1000 [00:00<?, ?it/s]/home/anton/anaconda3/lib/python3.6/site-packages/numpy/core/fromnumeric.py:2957: RuntimeWarning: Mean of empty slice.\n",
      "  out=out, **kwargs)\n",
      "/home/anton/anaconda3/lib/python3.6/site-packages/numpy/core/_methods.py:80: RuntimeWarning: invalid value encountered in double_scalars\n",
      "  ret = ret.dtype.type(ret / rcount)\n",
      "/media/anton/0b9d5a44-bb63-4de1-9cfe-0da47b81e88a/TPT/3A/PRIM Vente Privee/rec_gym/rec_gym/envs/prim_env_v3.py:190: RuntimeWarning: invalid value encountered in less\n",
      "  p=[1 - p, p]\n",
      "100%|██████████| 1000/1000 [00:00<00:00, 2014.61it/s]\n",
      "100%|██████████| 200/200 [00:00<00:00, 2063.98it/s]\n"
     ]
    }
   ],
   "source": [
    "sess.run(tf.global_variables_initializer())\n",
    "run_experiment(env, agent, t_train=1000, t_test=200)"
   ]
  },
  {
   "cell_type": "code",
   "execution_count": 10,
   "metadata": {},
   "outputs": [
    {
     "data": {
      "application/vnd.jupyter.widget-view+json": {
       "model_id": "517c4dd608c24f81bad3646afaa3c99a",
       "version_major": 2,
       "version_minor": 0
      },
      "text/plain": [
       "interactive(children=(IntSlider(value=0, continuous_update=False, description='Time:', max=1200), Output()), _…"
      ]
     },
     "metadata": {},
     "output_type": "display_data"
    }
   ],
   "source": [
    "from agents.utils import data_exploring_widget\n",
    "data_exploring_widget(env)"
   ]
  },
  {
   "cell_type": "code",
   "execution_count": 11,
   "metadata": {
    "collapsed": true
   },
   "outputs": [],
   "source": [
    "from agents.dqn import Qagent\n",
    "\n",
    "env = make_env()\n",
    "\n",
    "state_dim = env.embedding_dimension\n",
    "action_dim = env.embedding_dimension\n",
    "action_size = env.n_rec\n",
    "\n",
    "agent = Qagent(sess=sess,\n",
    "                 state_dim=(state_dim,),\n",
    "                 action_dim=(action_dim,),\n",
    "                 epsilon=0.4,\n",
    "                 action_size=action_size,\n",
    "                 logdir='./logs/',\n",
    "                 replay_size=1000,\n",
    "                 batch_size=2)"
   ]
  },
  {
   "cell_type": "code",
   "execution_count": 12,
   "metadata": {},
   "outputs": [
    {
     "name": "stderr",
     "output_type": "stream",
     "text": [
      "  0%|          | 0/1000 [00:00<?, ?it/s]/home/anton/anaconda3/lib/python3.6/site-packages/numpy/core/fromnumeric.py:2957: RuntimeWarning: Mean of empty slice.\n",
      "  out=out, **kwargs)\n",
      "/home/anton/anaconda3/lib/python3.6/site-packages/numpy/core/_methods.py:80: RuntimeWarning: invalid value encountered in double_scalars\n",
      "  ret = ret.dtype.type(ret / rcount)\n",
      "/media/anton/0b9d5a44-bb63-4de1-9cfe-0da47b81e88a/TPT/3A/PRIM Vente Privee/rec_gym/rec_gym/envs/prim_env_v3.py:190: RuntimeWarning: invalid value encountered in less\n",
      "  p=[1 - p, p]\n",
      "100%|██████████| 1000/1000 [00:03<00:00, 296.23it/s]\n",
      "100%|██████████| 200/200 [00:00<00:00, 307.58it/s]\n"
     ]
    }
   ],
   "source": [
    "sess.run(tf.global_variables_initializer())\n",
    "run_experiment(env, agent, t_train=1000, t_test=200)"
   ]
  },
  {
   "cell_type": "code",
   "execution_count": 13,
   "metadata": {},
   "outputs": [
    {
     "data": {
      "application/vnd.jupyter.widget-view+json": {
       "model_id": "b6261fc3ba154025bc10055ee7f1bc05",
       "version_major": 2,
       "version_minor": 0
      },
      "text/plain": [
       "interactive(children=(IntSlider(value=0, continuous_update=False, description='Time:', max=1200), Output()), _…"
      ]
     },
     "metadata": {},
     "output_type": "display_data"
    }
   ],
   "source": [
    "from agents.utils import data_exploring_widget\n",
    "data_exploring_widget(env)"
   ]
  },
  {
   "cell_type": "code",
   "execution_count": null,
   "metadata": {
    "collapsed": true
   },
   "outputs": [],
   "source": []
  }
 ],
 "metadata": {
  "kernelspec": {
   "display_name": "Python 3",
   "language": "python",
   "name": "python3"
  },
  "language_info": {
   "codemirror_mode": {
    "name": "ipython",
    "version": 3
   },
   "file_extension": ".py",
   "mimetype": "text/x-python",
   "name": "python",
   "nbconvert_exporter": "python",
   "pygments_lexer": "ipython3",
   "version": "3.6.3"
  }
 },
 "nbformat": 4,
 "nbformat_minor": 2
}
