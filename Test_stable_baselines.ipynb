{
 "cells": [
  {
   "cell_type": "code",
   "execution_count": 1,
   "metadata": {},
   "outputs": [
    {
     "ename": "ModuleNotFoundError",
     "evalue": "No module named 'stable_baselines'",
     "output_type": "error",
     "traceback": [
      "\u001b[0;31m---------------------------------------------------------------------------\u001b[0m",
      "\u001b[0;31mModuleNotFoundError\u001b[0m                       Traceback (most recent call last)",
      "\u001b[0;32m<ipython-input-1-106254e37d2a>\u001b[0m in \u001b[0;36m<module>\u001b[0;34m\u001b[0m\n\u001b[1;32m      2\u001b[0m \u001b[0;34m\u001b[0m\u001b[0m\n\u001b[1;32m      3\u001b[0m \u001b[0;31m# from stable_baselines.common.policies import MlpPolicy\u001b[0m\u001b[0;34m\u001b[0m\u001b[0;34m\u001b[0m\u001b[0m\n\u001b[0;32m----> 4\u001b[0;31m \u001b[0;32mfrom\u001b[0m \u001b[0mstable_baselines\u001b[0m\u001b[0;34m.\u001b[0m\u001b[0mcommon\u001b[0m\u001b[0;34m.\u001b[0m\u001b[0mvec_env\u001b[0m \u001b[0;32mimport\u001b[0m \u001b[0mDummyVecEnv\u001b[0m\u001b[0;34m\u001b[0m\u001b[0m\n\u001b[0m\u001b[1;32m      5\u001b[0m \u001b[0;32mfrom\u001b[0m \u001b[0mstable_baselines\u001b[0m \u001b[0;32mimport\u001b[0m \u001b[0mPPO2\u001b[0m\u001b[0;34m,\u001b[0m \u001b[0mDDPG\u001b[0m\u001b[0;34m\u001b[0m\u001b[0m\n\u001b[1;32m      6\u001b[0m \u001b[0;32mfrom\u001b[0m \u001b[0mstable_baselines\u001b[0m\u001b[0;34m.\u001b[0m\u001b[0mddpg\u001b[0m\u001b[0;34m.\u001b[0m\u001b[0mpolicies\u001b[0m \u001b[0;32mimport\u001b[0m \u001b[0mMlpPolicy\u001b[0m\u001b[0;34m\u001b[0m\u001b[0m\n",
      "\u001b[0;31mModuleNotFoundError\u001b[0m: No module named 'stable_baselines'"
     ]
    }
   ],
   "source": [
    "import gym\n",
    "\n",
    "# from stable_baselines.common.policies import MlpPolicy\n",
    "from stable_baselines.common.vec_env import DummyVecEnv\n",
    "from stable_baselines import PPO2, DDPG\n",
    "from stable_baselines.ddpg.policies import MlpPolicy\n",
    "\n",
    "env = gym.make('MountainCarContinuous-v0')\n",
    "env = DummyVecEnv([lambda: env])  # The algorithms require a vectorized environment to run\n",
    "\n",
    "model = DDPG(MlpPolicy, env, verbose=1)\n",
    "model.learn(total_timesteps=10000)\n"
   ]
  },
  {
   "cell_type": "code",
   "execution_count": 1,
   "metadata": {},
   "outputs": [
    {
     "ename": "ModuleNotFoundError",
     "evalue": "No module named 'gym'",
     "output_type": "error",
     "traceback": [
      "\u001b[0;31m---------------------------------------------------------------------------\u001b[0m",
      "\u001b[0;31mModuleNotFoundError\u001b[0m                       Traceback (most recent call last)",
      "\u001b[0;32m<ipython-input-1-a537f91ddd85>\u001b[0m in \u001b[0;36m<module>\u001b[0;34m\u001b[0m\n\u001b[0;32m----> 1\u001b[0;31m \u001b[0;32mimport\u001b[0m \u001b[0mgym\u001b[0m\u001b[0;34m\u001b[0m\u001b[0m\n\u001b[0m\u001b[1;32m      2\u001b[0m \u001b[0;32mimport\u001b[0m \u001b[0mrec_gym\u001b[0m\u001b[0;34m\u001b[0m\u001b[0m\n\u001b[1;32m      3\u001b[0m \u001b[0;32mfrom\u001b[0m \u001b[0mrec_gym\u001b[0m\u001b[0;34m.\u001b[0m\u001b[0mwrappers\u001b[0m \u001b[0;32mimport\u001b[0m \u001b[0mStatsWrapper\u001b[0m\u001b[0;34m,\u001b[0m \u001b[0mFlattenObservationsWrapper\u001b[0m\u001b[0;34m\u001b[0m\u001b[0m\n\u001b[1;32m      4\u001b[0m \u001b[0;32mfrom\u001b[0m \u001b[0mrec_gym\u001b[0m\u001b[0;34m.\u001b[0m\u001b[0menvs\u001b[0m \u001b[0;32mimport\u001b[0m \u001b[0mGeneratedRecEnv\u001b[0m\u001b[0;34m\u001b[0m\u001b[0m\n\u001b[1;32m      5\u001b[0m \u001b[0;34m\u001b[0m\u001b[0m\n",
      "\u001b[0;31mModuleNotFoundError\u001b[0m: No module named 'gym'"
     ]
    }
   ],
   "source": [
    "import gym\n",
    "import rec_gym\n",
    "from rec_gym.wrappers import StatsWrapper, FlattenObservationsWrapper\n",
    "from rec_gym.envs import GeneratedRecEnv\n",
    "\n",
    "env = StatsWrapper(GeneratedRecEnv(\n",
    "     n_items = 100,\n",
    "    n_users = 10,\n",
    "    n_rec = 4,\n",
    "    embedding_dimension = 2,\n",
    "    user_change_prob = 0.05,\n",
    "    reward_noise = 0.05,\n",
    "    user_initial_n_clusters = 2,\n",
    "    user_init_sigma  = 2,\n",
    "    user_cluster_sigma = 4,\n",
    "    user_ar_coef = 0.9,\n",
    "    user_drift_sigma = 0.3,\n",
    "    initial_n_clusters = 5,\n",
    "    cluster_var = 4,\n",
    "    in_cluster_var = 2,\n",
    "    new_items_interval = 100,\n",
    "    new_items_size = 0.2,\n",
    "    click_prob_type = 'normal',\n",
    "    user_preference_type = 'static'\n",
    "))\n",
    "\n",
    "import matplotlib.pylab as plt\n",
    "%matplotlib inline\n",
    "plt.figure(figsize=(10, 10))\n",
    "plt.imshow(env.render(mode='rgb_array'))"
   ]
  },
  {
   "cell_type": "code",
   "execution_count": 2,
   "metadata": {},
   "outputs": [],
   "source": [
    "from rec_gym.wrappers import BaselinesWrapper, EmbBaselinesWrapper\n",
    "from copy import deepcopy"
   ]
  },
  {
   "cell_type": "code",
   "execution_count": 53,
   "metadata": {},
   "outputs": [
    {
     "name": "stderr",
     "output_type": "stream",
     "text": [
      "/home/anton/anaconda3/lib/python3.6/site-packages/gym/envs/registration.py:14: PkgResourcesDeprecationWarning: Parameters to load are deprecated.  Call .resolve and .require separately.\n",
      "  result = entry_point.load(False)\n"
     ]
    }
   ],
   "source": [
    "base_env = StatsWrapper(GeneratedRecEnv(\n",
    "    n_items = 100,\n",
    "    n_users = 10,\n",
    "    n_rec = 4,\n",
    "    embedding_dimension = 2,\n",
    "    user_change_prob = 0.05,\n",
    "    reward_noise = 0.05,\n",
    "    user_initial_n_clusters = 2,\n",
    "    user_init_sigma  = 2,\n",
    "    user_cluster_sigma = 4,\n",
    "    user_ar_coef = 0.9,\n",
    "    user_drift_sigma = 0.3,\n",
    "    initial_n_clusters = 5,\n",
    "    cluster_var = 4,\n",
    "    in_cluster_var = 2,\n",
    "    new_items_interval = 100,\n",
    "    new_items_size = 0.2,\n",
    "    click_prob_type = 'normal',\n",
    "    user_preference_type = 'static'\n",
    "))\n",
    "\n",
    "base_env = StatsWrapper(gym.make('MovieLens-v2'))"
   ]
  },
  {
   "cell_type": "code",
   "execution_count": 63,
   "metadata": {},
   "outputs": [],
   "source": [
    "env = EmbBaselinesWrapper(deepcopy(base_env))"
   ]
  },
  {
   "cell_type": "code",
   "execution_count": 64,
   "metadata": {},
   "outputs": [],
   "source": [
    "import gym\n",
    "\n",
    "# from stable_baselines.common.policies import MlpPolicy\n",
    "from stable_baselines.common.vec_env import DummyVecEnv\n",
    "from stable_baselines import PPO2, DDPG\n",
    "from stable_baselines.ddpg.policies import MlpPolicy\n"
   ]
  },
  {
   "cell_type": "code",
   "execution_count": 65,
   "metadata": {},
   "outputs": [
    {
     "data": {
      "text/plain": [
       "Box(20,)"
      ]
     },
     "execution_count": 65,
     "metadata": {},
     "output_type": "execute_result"
    }
   ],
   "source": [
    "env.observation_space"
   ]
  },
  {
   "cell_type": "code",
   "execution_count": 66,
   "metadata": {},
   "outputs": [
    {
     "data": {
      "text/plain": [
       "array([ 0.08596605,  0.17283795, -0.46947306, -0.14694378,  0.01643797,\n",
       "       -0.30502802, -0.19198352,  1.24402049,  0.462464  ,  0.22504422,\n",
       "        1.22652677, -0.14916421,  0.10802123,  0.17108861, -0.21589524,\n",
       "        0.56100609, -0.37801832, -0.30370337, -0.2369187 , -0.13166487])"
      ]
     },
     "execution_count": 66,
     "metadata": {},
     "output_type": "execute_result"
    }
   ],
   "source": [
    "env.reset()"
   ]
  },
  {
   "cell_type": "code",
   "execution_count": 67,
   "metadata": {
    "scrolled": false
   },
   "outputs": [
    {
     "name": "stdout",
     "output_type": "stream",
     "text": [
      "setting up target updates ...\n",
      "  target/pi/fc0/kernel:0 <- model/pi/fc0/kernel:0\n",
      "  target/pi/fc0/bias:0 <- model/pi/fc0/bias:0\n",
      "  target/pi/fc1/kernel:0 <- model/pi/fc1/kernel:0\n",
      "  target/pi/fc1/bias:0 <- model/pi/fc1/bias:0\n",
      "  target/pi/pi/kernel:0 <- model/pi/pi/kernel:0\n",
      "  target/pi/pi/bias:0 <- model/pi/pi/bias:0\n",
      "  target/qf/fc0/kernel:0 <- model/qf/fc0/kernel:0\n",
      "  target/qf/fc0/bias:0 <- model/qf/fc0/bias:0\n",
      "  target/qf/fc1/kernel:0 <- model/qf/fc1/kernel:0\n",
      "  target/qf/fc1/bias:0 <- model/qf/fc1/bias:0\n",
      "  target/qf/qf/kernel:0 <- model/qf/qf/kernel:0\n",
      "  target/qf/qf/bias:0 <- model/qf/qf/bias:0\n",
      "setting up actor optimizer\n",
      "  actor shapes: [[20, 64], [64], [64, 64], [64], [64, 20], [20]]\n",
      "  actor params: 6804\n",
      "setting up critic optimizer\n",
      "  critic shapes: [[20, 64], [64], [84, 64], [64], [64, 1], [1]]\n",
      "  critic params: 6849\n",
      "Using agent with the following configuration:\n",
      "dict_items([('policy', <class 'stable_baselines.ddpg.policies.MlpPolicy'>), ('env', <EmbBaselinesWrapper<StatsWrapper<MovieLens<MovieLens-v2>>>>), ('verbose', 2), ('_requires_vec_env', False), ('policy_kwargs', {}), ('observation_space', Box(20,)), ('action_space', Box(20,)), ('n_envs', 1), ('_vectorize_action', False), ('num_timesteps', 0), ('replay_buffer', None), ('gamma', 0.99), ('tau', 0.001), ('memory_policy', <class 'stable_baselines.ddpg.memory.Memory'>), ('normalize_observations', False), ('normalize_returns', False), ('action_noise', None), ('param_noise', None), ('return_range', (-inf, inf)), ('observation_range', (-5.0, 5.0)), ('actor_lr', 0.0001), ('critic_lr', 0.001), ('clip_norm', None), ('enable_popart', False), ('reward_scale', 1.0), ('batch_size', 32), ('critic_l2_reg', 0.0), ('eval_env', None), ('render', False), ('render_eval', False), ('nb_eval_steps', 100), ('param_noise_adaption_interval', 50), ('nb_train_steps', 2), ('nb_rollout_steps', 5), ('memory_limit', 100), ('tensorboard_log', None), ('full_tensorboard_log', False), ('graph', <tensorflow.python.framework.ops.Graph object at 0x7f01c448d9e8>), ('stats_sample', None), ('memory', <stable_baselines.ddpg.memory.Memory object at 0x7f01c448d8d0>), ('policy_tf', <stable_baselines.ddpg.policies.MlpPolicy object at 0x7f01c447f160>), ('target_init_updates', <tf.Operation 'loss/group_deps' type=NoOp>), ('target_soft_updates', <tf.Operation 'loss/group_deps_1' type=NoOp>), ('critic_loss', <tf.Tensor 'Adam_mpi/Mean_1:0' shape=() dtype=float32>), ('critic_grads', <tf.Tensor 'Adam_mpi/concat_2:0' shape=(6849,) dtype=float32>), ('critic_optimizer', <stable_baselines.common.mpi_adam.MpiAdam object at 0x7f01c41911d0>), ('sess', <tensorflow.python.client.session.Session object at 0x7f01c448d940>), ('stats_ops', [<tf.Tensor 'loss/Mean_1:0' shape=() dtype=float32>, <tf.Tensor 'loss/Sqrt:0' shape=() dtype=float32>, <tf.Tensor 'loss/Mean_4:0' shape=() dtype=float32>, <tf.Tensor 'loss/Sqrt_1:0' shape=() dtype=float32>, <tf.Tensor 'loss/Mean_7:0' shape=() dtype=float32>, <tf.Tensor 'loss/Sqrt_2:0' shape=() dtype=float32>]), ('stats_names', ['reference_Q_mean', 'reference_Q_std', 'reference_actor_Q_mean', 'reference_actor_Q_std', 'reference_action_mean', 'reference_action_std']), ('perturbed_actor_tf', None), ('perturb_policy_ops', None), ('perturb_adaptive_policy_ops', None), ('adaptive_policy_distance', None), ('actor_loss', <tf.Tensor 'Adam_mpi/Neg:0' shape=() dtype=float32>), ('actor_grads', <tf.Tensor 'Adam_mpi/concat:0' shape=(6804,) dtype=float32>), ('actor_optimizer', <stable_baselines.common.mpi_adam.MpiAdam object at 0x7f01c41cc4a8>), ('old_std', None), ('old_mean', None), ('renormalize_q_outputs_op', None), ('obs_rms', None), ('ret_rms', None), ('target_policy', <stable_baselines.ddpg.policies.MlpPolicy object at 0x7f01c447f2b0>), ('actor_tf', <tf.Tensor 'model/pi/Tanh:0' shape=(?, 20) dtype=float32>), ('normalized_critic_tf', <tf.Tensor 'model/qf/qf/BiasAdd:0' shape=(?, 1) dtype=float32>), ('critic_tf', <tf.Tensor 'loss/clip_by_value:0' shape=(?, 1) dtype=float32>), ('normalized_critic_with_actor_tf', <tf.Tensor 'model/qf_1/qf/BiasAdd:0' shape=(?, 1) dtype=float32>), ('critic_with_actor_tf', <tf.Tensor 'loss/clip_by_value_1:0' shape=(?, 1) dtype=float32>), ('target_q', <tf.Tensor 'loss/add:0' shape=(?, 1) dtype=float32>), ('obs_train', <tf.Tensor 'input/input/Ob:0' shape=(?, 20) dtype=float64>), ('action_train_ph', <tf.Tensor 'input/input/action_ph:0' shape=(?, 20) dtype=float64>), ('obs_target', <tf.Tensor 'input/input_1/Ob:0' shape=(?, 20) dtype=float64>), ('action_target', <tf.Tensor 'input/input_1/action_ph:0' shape=(?, 20) dtype=float64>), ('obs_noise', None), ('action_noise_ph', None), ('obs_adapt_noise', None), ('action_adapt_noise', None), ('terminals1', <tf.Tensor 'input/terminals1:0' shape=(?, 1) dtype=float32>), ('rewards', <tf.Tensor 'input/rewards:0' shape=(?, 1) dtype=float32>), ('actions', <tf.Tensor 'input/actions:0' shape=(?, 20) dtype=float32>), ('critic_target', <tf.Tensor 'input/critic_target:0' shape=(?, 1) dtype=float32>), ('param_noise_stddev', <tf.Tensor 'input/param_noise_stddev:0' shape=() dtype=float32>), ('param_noise_actor', None), ('adaptive_param_noise_actor', None), ('params', [<tf.Variable 'model/pi/fc0/kernel:0' shape=(20, 64) dtype=float32_ref>, <tf.Variable 'model/pi/fc0/bias:0' shape=(64,) dtype=float32_ref>, <tf.Variable 'model/pi/fc1/kernel:0' shape=(64, 64) dtype=float32_ref>, <tf.Variable 'model/pi/fc1/bias:0' shape=(64,) dtype=float32_ref>, <tf.Variable 'model/pi/pi/kernel:0' shape=(64, 20) dtype=float32_ref>, <tf.Variable 'model/pi/pi/bias:0' shape=(20,) dtype=float32_ref>, <tf.Variable 'model/qf/fc0/kernel:0' shape=(20, 64) dtype=float32_ref>, <tf.Variable 'model/qf/fc0/bias:0' shape=(64,) dtype=float32_ref>, <tf.Variable 'model/qf/fc1/kernel:0' shape=(84, 64) dtype=float32_ref>, <tf.Variable 'model/qf/fc1/bias:0' shape=(64,) dtype=float32_ref>, <tf.Variable 'model/qf/qf/kernel:0' shape=(64, 1) dtype=float32_ref>, <tf.Variable 'model/qf/qf/bias:0' shape=(1,) dtype=float32_ref>, <tf.Variable 'target/pi/fc0/kernel:0' shape=(20, 64) dtype=float32_ref>, <tf.Variable 'target/pi/fc0/bias:0' shape=(64,) dtype=float32_ref>, <tf.Variable 'target/pi/fc1/kernel:0' shape=(64, 64) dtype=float32_ref>, <tf.Variable 'target/pi/fc1/bias:0' shape=(64,) dtype=float32_ref>, <tf.Variable 'target/pi/pi/kernel:0' shape=(64, 20) dtype=float32_ref>, <tf.Variable 'target/pi/pi/bias:0' shape=(20,) dtype=float32_ref>, <tf.Variable 'target/qf/fc0/kernel:0' shape=(20, 64) dtype=float32_ref>, <tf.Variable 'target/qf/fc0/bias:0' shape=(64,) dtype=float32_ref>, <tf.Variable 'target/qf/fc1/kernel:0' shape=(84, 64) dtype=float32_ref>, <tf.Variable 'target/qf/fc1/bias:0' shape=(64,) dtype=float32_ref>, <tf.Variable 'target/qf/qf/kernel:0' shape=(64, 1) dtype=float32_ref>, <tf.Variable 'target/qf/qf/bias:0' shape=(1,) dtype=float32_ref>]), ('summary', <tf.Tensor 'Merge/MergeSummary:0' shape=() dtype=string>), ('episode_reward', None), ('tb_seen_steps', []), ('target_params', [<tf.Variable 'model/pi/fc0/kernel:0' shape=(20, 64) dtype=float32_ref>, <tf.Variable 'model/pi/fc0/bias:0' shape=(64,) dtype=float32_ref>, <tf.Variable 'model/pi/fc1/kernel:0' shape=(64, 64) dtype=float32_ref>, <tf.Variable 'model/pi/fc1/bias:0' shape=(64,) dtype=float32_ref>, <tf.Variable 'model/pi/pi/kernel:0' shape=(64, 20) dtype=float32_ref>, <tf.Variable 'model/pi/pi/bias:0' shape=(20,) dtype=float32_ref>, <tf.Variable 'model/qf/fc0/kernel:0' shape=(20, 64) dtype=float32_ref>, <tf.Variable 'model/qf/fc0/bias:0' shape=(64,) dtype=float32_ref>, <tf.Variable 'model/qf/fc1/kernel:0' shape=(84, 64) dtype=float32_ref>, <tf.Variable 'model/qf/fc1/bias:0' shape=(64,) dtype=float32_ref>, <tf.Variable 'model/qf/qf/kernel:0' shape=(64, 1) dtype=float32_ref>, <tf.Variable 'model/qf/qf/bias:0' shape=(1,) dtype=float32_ref>, <tf.Variable 'target/pi/fc0/kernel:0' shape=(20, 64) dtype=float32_ref>, <tf.Variable 'target/pi/fc0/bias:0' shape=(64,) dtype=float32_ref>, <tf.Variable 'target/pi/fc1/kernel:0' shape=(64, 64) dtype=float32_ref>, <tf.Variable 'target/pi/fc1/bias:0' shape=(64,) dtype=float32_ref>, <tf.Variable 'target/pi/pi/kernel:0' shape=(64, 20) dtype=float32_ref>, <tf.Variable 'target/pi/pi/bias:0' shape=(20,) dtype=float32_ref>, <tf.Variable 'target/qf/fc0/kernel:0' shape=(20, 64) dtype=float32_ref>, <tf.Variable 'target/qf/fc0/bias:0' shape=(64,) dtype=float32_ref>, <tf.Variable 'target/qf/fc1/kernel:0' shape=(84, 64) dtype=float32_ref>, <tf.Variable 'target/qf/fc1/bias:0' shape=(64,) dtype=float32_ref>, <tf.Variable 'target/qf/qf/kernel:0' shape=(64, 1) dtype=float32_ref>, <tf.Variable 'target/qf/qf/bias:0' shape=(1,) dtype=float32_ref>])])\n"
     ]
    },
    {
     "name": "stdout",
     "output_type": "stream",
     "text": [
      "--------------------------------------\n",
      "| reference_Q_mean        | 1.43     |\n",
      "| reference_Q_std         | 0.328    |\n",
      "| reference_action_mean   | -0.0284  |\n",
      "| reference_action_std    | 0.156    |\n",
      "| reference_actor_Q_mean  | 1.47     |\n",
      "| reference_actor_Q_std   | 0.336    |\n",
      "| rollout/Q_mean          | 0.8      |\n",
      "| rollout/actions_mean    | -0.0261  |\n",
      "| rollout/actions_std     | 0.158    |\n",
      "| rollout/episode_steps   | 1.04     |\n",
      "| rollout/episodes        | 482      |\n",
      "| rollout/return          | 0.904    |\n",
      "| rollout/return_history  | 1.24     |\n",
      "| total/duration          | 2.81     |\n",
      "| total/episodes          | 482      |\n",
      "| total/epochs            | 1        |\n",
      "| total/steps             | 497      |\n",
      "| total/steps_per_second  | 177      |\n",
      "| train/loss_actor        | -1.46    |\n",
      "| train/loss_critic       | 0.478    |\n",
      "| train/param_noise_di... | 0        |\n",
      "--------------------------------------\n",
      "\n",
      "--------------------------------------\n",
      "| reference_Q_mean        | 0.731    |\n",
      "| reference_Q_std         | 0.828    |\n",
      "| reference_action_mean   | 0.127    |\n",
      "| reference_action_std    | 0.493    |\n",
      "| reference_actor_Q_mean  | 0.926    |\n",
      "| reference_actor_Q_std   | 0.896    |\n",
      "| rollout/Q_mean          | 0.902    |\n",
      "| rollout/actions_mean    | 0.00484  |\n",
      "| rollout/actions_std     | 0.261    |\n",
      "| rollout/episode_steps   | 1.04     |\n",
      "| rollout/episodes        | 960      |\n",
      "| rollout/return          | 0.896    |\n",
      "| rollout/return_history  | 0.878    |\n",
      "| total/duration          | 5.28     |\n",
      "| total/episodes          | 960      |\n",
      "| total/epochs            | 1        |\n",
      "| total/steps             | 997      |\n",
      "| total/steps_per_second  | 189      |\n",
      "| train/loss_actor        | -0.964   |\n",
      "| train/loss_critic       | 0.207    |\n",
      "| train/param_noise_di... | 0        |\n",
      "--------------------------------------\n",
      "\n",
      "--------------------------------------\n",
      "| reference_Q_mean        | 0.754    |\n",
      "| reference_Q_std         | 0.788    |\n",
      "| reference_action_mean   | 0.261    |\n",
      "| reference_action_std    | 0.694    |\n",
      "| reference_actor_Q_mean  | 0.863    |\n",
      "| reference_actor_Q_std   | 0.712    |\n",
      "| rollout/Q_mean          | 0.951    |\n",
      "| rollout/actions_mean    | 0.0637   |\n",
      "| rollout/actions_std     | 0.415    |\n",
      "| rollout/episode_steps   | 1.03     |\n",
      "| rollout/episodes        | 1.45e+03 |\n",
      "| rollout/return          | 0.946    |\n",
      "| rollout/return_history  | 1.05     |\n",
      "| total/duration          | 7.65     |\n",
      "| total/episodes          | 1.45e+03 |\n",
      "| total/epochs            | 1        |\n",
      "| total/steps             | 1497     |\n",
      "| total/steps_per_second  | 196      |\n",
      "| train/loss_actor        | -0.916   |\n",
      "| train/loss_critic       | 0.17     |\n",
      "| train/param_noise_di... | 0        |\n",
      "--------------------------------------\n",
      "\n",
      "--------------------------------------\n",
      "| reference_Q_mean        | 1.22     |\n",
      "| reference_Q_std         | 0.881    |\n",
      "| reference_action_mean   | 0.0307   |\n",
      "| reference_action_std    | 0.839    |\n",
      "| reference_actor_Q_mean  | 1.3      |\n",
      "| reference_actor_Q_std   | 0.743    |\n",
      "| rollout/Q_mean          | 1        |\n",
      "| rollout/actions_mean    | 0.0777   |\n",
      "| rollout/actions_std     | 0.518    |\n",
      "| rollout/episode_steps   | 1.03     |\n",
      "| rollout/episodes        | 1.94e+03 |\n",
      "| rollout/return          | 1        |\n",
      "| rollout/return_history  | 1.19     |\n",
      "| total/duration          | 9.86     |\n",
      "| total/episodes          | 1.94e+03 |\n",
      "| total/epochs            | 1        |\n",
      "| total/steps             | 1997     |\n",
      "| total/steps_per_second  | 203      |\n",
      "| train/loss_actor        | -1.02    |\n",
      "| train/loss_critic       | 0.188    |\n",
      "| train/param_noise_di... | 0        |\n",
      "--------------------------------------\n",
      "\n",
      "--------------------------------------\n",
      "| reference_Q_mean        | 1.22     |\n",
      "| reference_Q_std         | 0.92     |\n",
      "| reference_action_mean   | -0.0905  |\n",
      "| reference_action_std    | 0.799    |\n",
      "| reference_actor_Q_mean  | 1.15     |\n",
      "| reference_actor_Q_std   | 0.796    |\n",
      "| rollout/Q_mean          | 1.06     |\n",
      "| rollout/actions_mean    | 0.059    |\n",
      "| rollout/actions_std     | 0.593    |\n",
      "| rollout/episode_steps   | 1.03     |\n",
      "| rollout/episodes        | 2.43e+03 |\n",
      "| rollout/return          | 1.05     |\n",
      "| rollout/return_history  | 1.05     |\n",
      "| total/duration          | 12       |\n",
      "| total/episodes          | 2.43e+03 |\n",
      "| total/epochs            | 1        |\n",
      "| total/steps             | 2497     |\n",
      "| total/steps_per_second  | 208      |\n",
      "| train/loss_actor        | -1.23    |\n",
      "| train/loss_critic       | 0.137    |\n",
      "| train/param_noise_di... | 0        |\n",
      "--------------------------------------\n",
      "\n",
      "--------------------------------------\n",
      "| reference_Q_mean        | 0.309    |\n",
      "| reference_Q_std         | 0.87     |\n",
      "| reference_action_mean   | -0.0871  |\n",
      "| reference_action_std    | 0.485    |\n",
      "| reference_actor_Q_mean  | 0.491    |\n",
      "| reference_actor_Q_std   | 0.779    |\n",
      "| rollout/Q_mean          | 0.982    |\n",
      "| rollout/actions_mean    | 0.0366   |\n",
      "| rollout/actions_std     | 0.605    |\n",
      "| rollout/episode_steps   | 1.03     |\n",
      "| rollout/episodes        | 2.92e+03 |\n",
      "| rollout/return          | 0.95     |\n",
      "| rollout/return_history  | 0.567    |\n",
      "| total/duration          | 14.1     |\n",
      "| total/episodes          | 2.92e+03 |\n",
      "| total/epochs            | 1        |\n",
      "| total/steps             | 2997     |\n",
      "| total/steps_per_second  | 213      |\n",
      "| train/loss_actor        | -0.669   |\n",
      "| train/loss_critic       | 0.203    |\n",
      "| train/param_noise_di... | 0        |\n",
      "--------------------------------------\n",
      "\n",
      "--------------------------------------\n",
      "| reference_Q_mean        | 0.345    |\n",
      "| reference_Q_std         | 0.8      |\n",
      "| reference_action_mean   | -0.062   |\n",
      "| reference_action_std    | 0.777    |\n",
      "| reference_actor_Q_mean  | 0.58     |\n",
      "| reference_actor_Q_std   | 0.749    |\n",
      "| rollout/Q_mean          | 0.937    |\n",
      "| rollout/actions_mean    | 0.0206   |\n",
      "| rollout/actions_std     | 0.618    |\n",
      "| rollout/episode_steps   | 1.03     |\n",
      "| rollout/episodes        | 3.41e+03 |\n",
      "| rollout/return          | 0.902    |\n",
      "| rollout/return_history  | 0.614    |\n",
      "| total/duration          | 16.4     |\n",
      "| total/episodes          | 3.41e+03 |\n",
      "| total/epochs            | 1        |\n",
      "| total/steps             | 3497     |\n",
      "| total/steps_per_second  | 213      |\n",
      "| train/loss_actor        | -0.377   |\n",
      "| train/loss_critic       | 0.261    |\n",
      "| train/param_noise_di... | 0        |\n",
      "--------------------------------------\n",
      "\n",
      "--------------------------------------\n",
      "| reference_Q_mean        | -0.559   |\n",
      "| reference_Q_std         | 0.684    |\n",
      "| reference_action_mean   | 0.0146   |\n",
      "| reference_action_std    | 0.488    |\n",
      "| reference_actor_Q_mean  | -0.641   |\n",
      "| reference_actor_Q_std   | 0.659    |\n",
      "| rollout/Q_mean          | 0.773    |\n",
      "| rollout/actions_mean    | 0.0122   |\n",
      "| rollout/actions_std     | 0.628    |\n",
      "| rollout/episode_steps   | 1.02     |\n",
      "| rollout/episodes        | 3.90e+03 |\n",
      "| rollout/return          | 0.717    |\n",
      "| rollout/return_history  | -0.694   |\n",
      "| total/duration          | 18.5     |\n",
      "| total/episodes          | 3.90e+03 |\n",
      "| total/epochs            | 1        |\n",
      "| total/steps             | 3997     |\n",
      "| total/steps_per_second  | 216      |\n",
      "| train/loss_actor        | 0.493    |\n",
      "| train/loss_critic       | 0.655    |\n",
      "| train/param_noise_di... | 0        |\n",
      "--------------------------------------\n",
      "\n"
     ]
    },
    {
     "data": {
      "text/plain": [
       "<stable_baselines.ddpg.ddpg.DDPG at 0x7f01c448dcc0>"
      ]
     },
     "execution_count": 67,
     "metadata": {},
     "output_type": "execute_result"
    }
   ],
   "source": [
    "model = DDPG(MlpPolicy, env, verbose=2, batch_size=32, nb_train_steps=2, nb_rollout_steps=5, memory_limit=100)\n",
    "model.learn(total_timesteps=4000)"
   ]
  },
  {
   "cell_type": "code",
   "execution_count": null,
   "metadata": {
    "collapsed": true
   },
   "outputs": [],
   "source": []
  },
  {
   "cell_type": "code",
   "execution_count": 68,
   "metadata": {},
   "outputs": [],
   "source": [
    "from collections import defaultdict\n",
    "# [EnvId][Agent] = Interactions\n",
    "results = defaultdict(dict)\n",
    "results['GeneratedRecEnv']['DDPG'] = env.env.interactions"
   ]
  },
  {
   "cell_type": "code",
   "execution_count": 69,
   "metadata": {},
   "outputs": [
    {
     "name": "stderr",
     "output_type": "stream",
     "text": [
      "100%|██████████| 4000/4000 [00:01<00:00, 2218.25it/s]\n",
      "0it [00:00, ?it/s]\n"
     ]
    }
   ],
   "source": [
    "from agents.baselines import RandomAgent, DotProdAgent, MFAgent, DotProdAgent\n",
    "from rec_gym.runner import run_experiment\n",
    "def prepare_random_agent_and_env(base_env):\n",
    "    env = deepcopy(base_env)\n",
    "    wrapped = FlattenObservationsWrapper(env)\n",
    "    action_size = env.unwrapped.n_rec\n",
    "    agent = RandomAgent(action_size = action_size)    \n",
    "    return agent, wrapped, env\n",
    "\n",
    "agent, wrapped, statenv = prepare_random_agent_and_env(base_env)\n",
    "run_experiment(wrapped, agent, t_train=4000, t_test=0)\n",
    "results['GeneratedRecEnv']['Random2'] = statenv.interactions"
   ]
  },
  {
   "cell_type": "code",
   "execution_count": 72,
   "metadata": {},
   "outputs": [
    {
     "name": "stderr",
     "output_type": "stream",
     "text": [
      "100%|██████████| 4000/4000 [00:02<00:00, 1491.49it/s]\n",
      "0it [00:00, ?it/s]\n"
     ]
    }
   ],
   "source": [
    "def prepare_dotprod_agent_and_env(base_env):\n",
    "    env = deepcopy(base_env)\n",
    "    wrapped = FlattenObservationsWrapper(env)\n",
    "    unwrapped = env.unwrapped\n",
    "\n",
    "    state_dim = unwrapped.embedding_dimension\n",
    "    action_dim = unwrapped.embedding_dimension\n",
    "    action_size = unwrapped.n_rec\n",
    "\n",
    "    agent = DotProdAgent(n_rec=action_size)\n",
    "    return agent, wrapped, env\n",
    "\n",
    "agent, wrapped, statenv = prepare_dotprod_agent_and_env(base_env)\n",
    "run_experiment(wrapped, agent, t_train=4000, t_test=0)\n",
    "results['GeneratedRecEnv']['DorProd'] = statenv.interactions"
   ]
  },
  {
   "cell_type": "code",
   "execution_count": 77,
   "metadata": {},
   "outputs": [
    {
     "name": "stderr",
     "output_type": "stream",
     "text": [
      "Using TensorFlow backend.\n",
      "/home/anton/anaconda3/lib/python3.6/site-packages/tensorflow/python/client/session.py:1702: UserWarning: An interactive session is already active. This can cause out-of-memory errors in some cases. You must explicitly call `InteractiveSession.close()` to release resources held by the other session(s).\n",
      "  warnings.warn('An interactive session is already active. This can '\n",
      "  2%|▏         | 61/4000 [00:00<00:06, 605.44it/s]/media/anton/0b9d5a44-bb63-4de1-9cfe-0da47b81e88a/TPT/3A/PRIM Vente Privee/rec_gym/agents/utils.py:275: RuntimeWarning: divide by zero encountered in double_scalars\n",
      "  max_weight = (p_min * n) ** (-self.PER_b)\n",
      "100%|██████████| 4000/4000 [05:40<00:00, 14.22it/s]\n",
      "0it [00:00, ?it/s]\n"
     ]
    }
   ],
   "source": [
    "import tensorflow as tf\n",
    "from agents.ddpg import DDPGAgent\n",
    "def prepare_ddpg_agent_and_env(base_env):\n",
    "    env = deepcopy(base_env)\n",
    "    wrapped = FlattenObservationsWrapper(env)\n",
    "    unwrapped = env.unwrapped\n",
    "\n",
    "    state_dim = unwrapped.embedding_dimension\n",
    "    action_dim = unwrapped.embedding_dimension\n",
    "    action_size = unwrapped.n_rec\n",
    "\n",
    "\n",
    "    tf.reset_default_graph()\n",
    "    sess = tf.InteractiveSession()\n",
    "    agent = DDPGAgent(action_size = action_size,\n",
    "                     state_dim = state_dim,\n",
    "                     action_dim = action_dim,\n",
    "                     gamma = .9,\n",
    "                     sess = sess,\n",
    "                     optimizer = tf.train.AdamOptimizer(\n",
    "                         learning_rate=0.01\n",
    "                     ),\n",
    "                     max_tf_checkpoints_to_keep = 3,\n",
    "                     experience_size = 300,\n",
    "                     per = True,\n",
    "                     batch_size = 64, \n",
    "                     start_steps = 400)\n",
    "    sess.run(tf.global_variables_initializer())\n",
    "    return agent, wrapped, env\n",
    "\n",
    "agent, wrapped, statenv = prepare_ddpg_agent_and_env(base_env)\n",
    "run_experiment(wrapped, agent, t_train=4000, t_test=0)\n",
    "results['GeneratedRecEnv']['DDPG_my'] = statenv.interactions"
   ]
  },
  {
   "cell_type": "code",
   "execution_count": 70,
   "metadata": {},
   "outputs": [],
   "source": [
    "import numpy as np\n",
    "import matplotlib.pylab as plt\n",
    "import seaborn as sns\n",
    "%matplotlib inline\n",
    "\n",
    "import seaborn"
   ]
  },
  {
   "cell_type": "code",
   "execution_count": 78,
   "metadata": {},
   "outputs": [
    {
     "data": {
      "image/png": "[encoded data removed]",
      "text/plain": [
       "<Figure size 720x576 with 1 Axes>"
      ]
     },
     "metadata": {},
     "output_type": "display_data"
    }
   ],
   "source": [
    "for envid, res in results.items():\n",
    "    \n",
    "    plt.figure(figsize=(10, 8))\n",
    "    \n",
    "    for agent_name, interactions in res.items():\n",
    "        rewards = []\n",
    "        for i in interactions:\n",
    "            rewards.extend(i.rewards)\n",
    "        \n",
    "        plt.plot(np.cumsum(rewards), label=agent_name)\n",
    "    \n",
    "    plt.legend()\n",
    "    plt.title(envid)"
   ]
  },
  {
   "cell_type": "code",
   "execution_count": 42,
   "metadata": {},
   "outputs": [
    {
     "data": {
      "image/png": "[encoded data removed]",
      "text/plain": [
       "<Figure size 720x576 with 1 Axes>"
      ]
     },
     "metadata": {},
     "output_type": "display_data"
    }
   ],
   "source": [
    "\n",
    "\n",
    "for envid, res in results.items():\n",
    "    \n",
    "    plt.figure(figsize=(10, 8))\n",
    "    \n",
    "    for agent_name, interactions in res.items():\n",
    "        rewards = []\n",
    "        for i in interactions:\n",
    "            rewards.extend(i.rewards)\n",
    "        \n",
    "        plt.plot(np.cumsum(rewards), label=agent_name)\n",
    "    \n",
    "    plt.legend()\n",
    "    plt.title(envid)"
   ]
  },
  {
   "cell_type": "code",
   "execution_count": 64,
   "metadata": {},
   "outputs": [
    {
     "data": {
      "image/png": "[encoded data removed]",
      "text/plain": [
       "<Figure size 720x576 with 1 Axes>"
      ]
     },
     "metadata": {},
     "output_type": "display_data"
    }
   ],
   "source": [
    "\n",
    "\n",
    "for envid, res in results.items():\n",
    "    \n",
    "    plt.figure(figsize=(10, 8))\n",
    "    \n",
    "    for agent_name, interactions in res.items():\n",
    "        rewards = []\n",
    "        for i in interactions:\n",
    "            rewards.extend(i.rewards)\n",
    "        \n",
    "        plt.plot(np.cumsum(rewards), label=agent_name)\n",
    "    \n",
    "    plt.legend()\n",
    "    plt.title(envid)"
   ]
  },
  {
   "cell_type": "code",
   "execution_count": null,
   "metadata": {
    "collapsed": true
   },
   "outputs": [],
   "source": []
  }
 ],
 "metadata": {
  "kernelspec": {
   "display_name": "datascience",
   "language": "python",
   "name": "datascience"
  },
  "language_info": {
   "codemirror_mode": {
    "name": "ipython",
    "version": 3
   },
   "file_extension": ".py",
   "mimetype": "text/x-python",
   "name": "python",
   "nbconvert_exporter": "python",
   "pygments_lexer": "ipython3",
   "version": "3.6.0"
  }
 },
 "nbformat": 4,
 "nbformat_minor": 2
}
