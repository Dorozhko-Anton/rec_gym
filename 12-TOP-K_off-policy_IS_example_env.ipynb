{
 "cells": [
  {
   "cell_type": "code",
   "execution_count": 1,
   "metadata": {},
   "outputs": [],
   "source": [
    "import numpy as np\n",
    "from IPython.display import clear_output\n",
    "import matplotlib.pylab as plt\n",
    "from time import sleep\n",
    "%matplotlib inline"
   ]
  },
  {
   "cell_type": "code",
   "execution_count": 2,
   "metadata": {},
   "outputs": [],
   "source": [
    "import gym \n",
    "from collections import namedtuple, defaultdict\n",
    "import pandas as pd\n",
    "import numpy as np\n",
    "from gym.utils import seeding\n",
    "from gym.spaces import Discrete\n",
    "\n",
    "class ISTestEnv(gym.Env):\n",
    "    def __init__(self):\n",
    "        self.n_items = 10\n",
    "        self.rewards = list(range(1, self.n_items+1))\n",
    "        \n",
    "        self.action_space = Discrete(self.n_items)\n",
    "        self.observation_space = None\n",
    "       \n",
    "    \n",
    "    def seed(self, seed=None):\n",
    "        self.np_random, seed = seeding.np_random(seed)\n",
    "        return [seed]\n",
    "\n",
    "    def step(self, action):\n",
    "        assert self.action_space.contains(action)\n",
    "        observation = None\n",
    "        reward = self.rewards[action]\n",
    "        done = None\n",
    "        info = None\n",
    "        return observation, reward, done, info\n",
    "\n",
    "    def reset(self):\n",
    "        observation = None\n",
    "        return observation \n",
    "\n",
    "    \n",
    "class Top2TestEnv(gym.Env):\n",
    "    def __init__(self):\n",
    "        self.n_items = 10\n",
    "        self.rewards = np.ones(shape=(self.n_items))\n",
    "        self.rewards[-1] = 10\n",
    "        self.rewards[-2] = 9\n",
    "        \n",
    "        self.action_space = Discrete(self.n_items)\n",
    "        self.observation_space = None\n",
    "       \n",
    "    \n",
    "    def seed(self, seed=None):\n",
    "        self.np_random, seed = seeding.np_random(seed)\n",
    "        return [seed]\n",
    "\n",
    "    def step(self, action):\n",
    "        assert self.action_space.contains(action)\n",
    "        observation = None\n",
    "        reward = self.rewards[action]\n",
    "        done = None\n",
    "        info = None\n",
    "        return observation, reward, done, info\n",
    "\n",
    "    def reset(self):\n",
    "        observation = None\n",
    "        return observation     \n"
   ]
  },
  {
   "cell_type": "code",
   "execution_count": 3,
   "metadata": {},
   "outputs": [
    {
     "data": {
      "text/plain": [
       "(None, 10.0, None, None)"
      ]
     },
     "execution_count": 3,
     "metadata": {},
     "output_type": "execute_result"
    }
   ],
   "source": [
    "env = Top2TestEnv()\n",
    "#env = ISTestEnv()\n",
    "env.reset()\n",
    "env.step(9)"
   ]
  },
  {
   "cell_type": "code",
   "execution_count": 4,
   "metadata": {},
   "outputs": [
    {
     "data": {
      "text/plain": [
       "array([ 0.1,  0.1,  0.1,  0.1,  0.1,  0.1,  0.1,  0.1,  0.1,  0.1])"
      ]
     },
     "execution_count": 4,
     "metadata": {},
     "output_type": "execute_result"
    }
   ],
   "source": [
    "theta = np.zeros(env.action_space.n)\n",
    "\n",
    "pi = np.exp(theta)\n",
    "pi = pi / np.sum(pi)\n",
    "\n",
    "pi"
   ]
  },
  {
   "cell_type": "code",
   "execution_count": 5,
   "metadata": {},
   "outputs": [],
   "source": [
    "def grad_pi(pi, a):\n",
    "    \n",
    "    grad = []\n",
    "    for i in range(len(pi)):\n",
    "        grad.append(int(i==a) - pi[a])\n",
    "    \n",
    "    return grad\n",
    "\n",
    "def compute_rewards_to_go(rewards, gamma):\n",
    "    rewards_to_go = [rewards[-1]]\n",
    "    for k in range(2, len(rewards)+1):\n",
    "        rewards_to_go = [rewards[-k] + gamma * rewards_to_go[0]] + rewards_to_go\n",
    "    return rewards_to_go"
   ]
  },
  {
   "cell_type": "code",
   "execution_count": 6,
   "metadata": {},
   "outputs": [
    {
     "data": {
      "image/png": "[encoded data removed]",
      "text/plain": [
       "<matplotlib.figure.Figure at 0x7f0ed45407f0>"
      ]
     },
     "metadata": {
      "needs_background": "light"
     },
     "output_type": "display_data"
    }
   ],
   "source": [
    "lr = 0.0001\n",
    "N = 10000\n",
    "rollout_size = 5\n",
    "gamma = 0.9\n",
    "theta = np.zeros(env.action_space.n)\n",
    "\n",
    "b = np.ones_like(theta) / len(theta)\n",
    "#b = [ (10-i)/55 for i in range(len(theta))]\n",
    "\n",
    "IScorrection = True\n",
    "TopKcorrection = True\n",
    "K = 2\n",
    "\n",
    "for n in range(N):\n",
    "    \n",
    "    actions = []\n",
    "    rewards = []\n",
    "    probas = []\n",
    "    \n",
    "    for i in range(rollout_size):\n",
    "        a = np.random.choice(list(range(len(theta))), p=b)\n",
    "        _, r, _, _ = env.step(a)\n",
    "        \n",
    "        actions.append(a)\n",
    "        rewards.append(r)\n",
    "        probas.append(b[a])\n",
    "        \n",
    "        \n",
    "    pi = np.exp(theta)\n",
    "    pi = pi / np.sum(pi)\n",
    "     \n",
    "    rewards_to_go = compute_rewards_to_go(rewards, gamma)  \n",
    "    grad = np.zeros_like(theta)\n",
    "    for j, a in enumerate(actions):\n",
    "        delta = np.multiply(grad_pi(pi, a), rewards_to_go[j]) \n",
    "        \n",
    "        if IScorrection:\n",
    "            delta = delta * pi[a] / b[a]\n",
    "        \n",
    "        if TopKcorrection:\n",
    "            lambdaK = K*(1 - pi[a])**(K-1)\n",
    "            delta = delta * lambdaK\n",
    "        \n",
    "        grad += delta \n",
    "    \n",
    "    theta = theta + lr*grad\n",
    "    \n",
    "    if n % 100 == 0:\n",
    "        clear_output(wait=True)\n",
    "        plt.clf()\n",
    "        plt.bar(range(len(theta)), b, label = 'behaviour policy')\n",
    "        \n",
    "        plt.bar(range(len(theta)), np.exp(theta), alpha=0.5, label = 'learned policy')\n",
    "        plt.title('policy on %d iter, lr %.1e' % (n, lr))\n",
    "        \n",
    "        plt.legend()\n",
    "        plt.show();\n",
    "    \n",
    "    "
   ]
  }
 ],
 "metadata": {
  "kernelspec": {
   "display_name": "datascience",
   "language": "python",
   "name": "datascience"
  },
  "language_info": {
   "codemirror_mode": {
    "name": "ipython",
    "version": 3
   },
   "file_extension": ".py",
   "mimetype": "text/x-python",
   "name": "python",
   "nbconvert_exporter": "python",
   "pygments_lexer": "ipython3",
   "version": "3.6.0"
  }
 },
 "nbformat": 4,
 "nbformat_minor": 2
}
