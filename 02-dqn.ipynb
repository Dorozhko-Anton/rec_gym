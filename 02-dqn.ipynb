{
 "cells": [
  {
   "cell_type": "code",
   "execution_count": 1,
   "metadata": {
    "collapsed": true
   },
   "outputs": [],
   "source": [
    "import gym, rec_gym\n",
    "from rec_gym import env_1_args\n",
    "import numpy as np"
   ]
  },
  {
   "cell_type": "code",
   "execution_count": 2,
   "metadata": {},
   "outputs": [
    {
     "data": {
      "text/plain": [
       "{'K': 4,\n",
       " 'num_items': 100,\n",
       " 'num_users': 20,\n",
       " 'embedding_dimension': 2,\n",
       " 'cluster_var': 16,\n",
       " 'in_cluster_var': 0.5,\n",
       " 'active_user_change_proba': 0.1,\n",
       " 'noise_sigma': 0,\n",
       " 'user_init_sigma': 5,\n",
       " 'user_drift_autoreg_coef': 1,\n",
       " 'user_drift_sigma': 0,\n",
       " 'user_type': 'drifting',\n",
       " 'seed': 42,\n",
       " 'action_is_items': True}"
      ]
     },
     "execution_count": 2,
     "metadata": {},
     "output_type": "execute_result"
    }
   ],
   "source": [
    "env_1_args['user_drift_sigma'] = 0\n",
    "env_1_args['noise_sigma'] = 0\n",
    "env_1_args['user_drift_autoreg_coef'] = 1\n",
    "env_1_args"
   ]
  },
  {
   "cell_type": "code",
   "execution_count": 3,
   "metadata": {
    "collapsed": true
   },
   "outputs": [],
   "source": [
    "%load_ext autoreload\n",
    "%autoreload 2"
   ]
  },
  {
   "cell_type": "code",
   "execution_count": 4,
   "metadata": {},
   "outputs": [
    {
     "name": "stderr",
     "output_type": "stream",
     "text": [
      "/home/anton/anaconda3/lib/python3.6/site-packages/h5py/__init__.py:36: FutureWarning: Conversion of the second argument of issubdtype from `float` to `np.floating` is deprecated. In future, it will be treated as `np.float64 == np.dtype(float).type`.\n",
      "  from ._conv import register_converters as _register_converters\n"
     ]
    }
   ],
   "source": [
    "import tensorflow as tf\n",
    "\n",
    "tf.reset_default_graph()\n",
    "sess = tf.InteractiveSession()"
   ]
  },
  {
   "cell_type": "code",
   "execution_count": 5,
   "metadata": {
    "collapsed": true
   },
   "outputs": [],
   "source": [
    "from agents.utils import ReplayBuffer"
   ]
  },
  {
   "cell_type": "code",
   "execution_count": 6,
   "metadata": {
    "collapsed": true
   },
   "outputs": [],
   "source": [
    "printt = None"
   ]
  },
  {
   "cell_type": "code",
   "execution_count": 7,
   "metadata": {},
   "outputs": [
    {
     "name": "stderr",
     "output_type": "stream",
     "text": [
      "Using TensorFlow backend.\n"
     ]
    }
   ],
   "source": [
    "import keras\n",
    "from keras.models import Sequential, Model\n",
    "from keras.layers import Dense, InputLayer, Activation, activations, Input, concatenate\n",
    "\n",
    "\n",
    "def softmax(x):\n",
    "    \"\"\"Compute softmax values for each sets of scores in x.\"\"\"\n",
    "    e_x = np.exp(x - np.max(x))\n",
    "    return e_x / e_x.sum()\n",
    "\n",
    "class Qagent(object):\n",
    "    def __init__(self, sess, state_dim, action_dim, epsilon=0.4, action_size=4, logdir='./logs/'):\n",
    "        self._state_dim = state_dim\n",
    "        self._action_dim = action_dim\n",
    "        self._action_size = action_size\n",
    "        \n",
    "        self._logdir = logdir\n",
    "        \n",
    "        self._sess = sess\n",
    "        \n",
    "        self.epsilon = epsilon\n",
    "        self.gamma = 0.9\n",
    "        self.lr = 1e-4\n",
    "        self.optimizer = tf.train.RMSPropOptimizer(self.lr)\n",
    "        \n",
    "        self.state, self.action, self.agent, self.weights = self._create_network('agent')\n",
    "        \n",
    "        self.qvalues = self.agent(tf.concat([self.state, self.action], axis=-1))\n",
    "        \n",
    "        self.target_state, self.target_action, self.target, self.target_weights = self._create_network('target')\n",
    "        self.target_qvalues = self.target(tf.concat([self.target_state, self.target_action], axis=-1))\n",
    "        \n",
    "        self.train_op, self.td_loss = self._create_train_op()\n",
    "        self.target_update_op = self._create_target_update_op()\n",
    "        \n",
    "        self.merged = tf.summary.merge_all()\n",
    "        self.train_writer = tf.summary.FileWriter(self._logdir,\n",
    "                                                  self._sess.graph)\n",
    "        self.summary = None\n",
    "           \n",
    "        \n",
    "    def _create_network(self, name):\n",
    "        \n",
    "        with tf.variable_scope(name_or_scope=name):\n",
    "            state_ph = tf.placeholder('float32', \n",
    "                                      shape=(None,) + self._state_dim, \n",
    "                                      name='state')\n",
    "            action_ph = tf.placeholder('float32', \n",
    "                                       shape=(None,) + self._action_dim, \n",
    "                                       name='action')\n",
    "\n",
    "            net = Sequential(\n",
    "                layers = [\n",
    "                    InputLayer(input_shape=(self._state_dim[0] + self._action_dim[0], )),\n",
    "                    Dense(200, activation='relu'),\n",
    "                    Dense(100, activation='relu'),\n",
    "                    Dense(1)\n",
    "                ]\n",
    "            )\n",
    "            weights = tf.get_collection(tf.GraphKeys.TRAINABLE_VARIABLES, scope=name)\n",
    "        \n",
    "            return state_ph, action_ph, net, weights\n",
    "        \n",
    "    def _create_train_op(self):\n",
    "\n",
    "        with tf.variable_scope(name_or_scope='train') as train_scope:\n",
    "        \n",
    "            # s a r s' A \n",
    "            self.s_ph = tf.placeholder(tf.float32, shape=(None,) + self._state_dim)\n",
    "            self.a_ph = tf.placeholder(tf.float32, shape=(None, self._action_size) + self._action_dim)\n",
    "            self.r_ph = tf.placeholder(tf.float32, shape=[None])\n",
    "            self.done_ph = tf.placeholder(tf.float32, shape=[None])\n",
    "            self.next_s_ph = tf.placeholder(tf.float32, shape=(None,) + self._state_dim)\n",
    "            # pool of actions at time T (ot T+1?)\n",
    "            self.next_as_ph =  tf.placeholder(tf.float32, \n",
    "                                              shape=(None, None,) + self._action_dim)\n",
    "            \n",
    "            \n",
    "            repeat_current_state = tf.expand_dims(self.s_ph, 1)\n",
    "            repeat_current_state = tf.tile(repeat_current_state, multiples=[1, self._action_size, 1])            \n",
    "            current_qvalue = self.agent(tf.concat([repeat_current_state, self.a_ph], axis=-1))\n",
    "            \n",
    "            current_qvalue = tf.squeeze(current_qvalue)\n",
    "            current_qvalue = tf.reduce_sum(current_qvalue, axis=-1)\n",
    "            \n",
    "                           \n",
    "            repeat_states = tf.expand_dims(self.next_s_ph, 1)\n",
    "            repeat_states = tf.tile(repeat_states, multiples=[1, tf.shape(self.next_as_ph)[1], 1])\n",
    "            \n",
    "            next_qvalues = self.target(tf.concat([repeat_states,\n",
    "                                                  self.next_as_ph], axis=-1))\n",
    "            next_qvalues = tf.squeeze(next_qvalues, axis=-1)\n",
    "            \n",
    "            k_max_next_qvalues, _ = tf.nn.top_k(next_qvalues, k=self._action_size)\n",
    "            # should sum but not over batches\n",
    "            next_max_qvalue = tf.reduce_sum(k_max_next_qvalues, axis=-1)\n",
    "                        \n",
    "            reference = self.r_ph + self.gamma * next_max_qvalue\n",
    "            \n",
    "            td_loss = (current_qvalue - reference) ** 2\n",
    "            td_loss = tf.reduce_mean(td_loss)\n",
    "            \n",
    "            global printt\n",
    "            if printt is None:\n",
    "#                 ()\n",
    "#                 (?,)\n",
    "#                 (?, 1, 1)\n",
    "                print(next_max_qvalue.shape)\n",
    "                print(reference.shape)\n",
    "                print(current_qvalue.shape)\n",
    "                printt=2\n",
    "            \n",
    "            tf.summary.histogram('next_max_qvalue', next_max_qvalue)\n",
    "            tf.summary.histogram('topk', k_max_next_qvalues)\n",
    "            tf.summary.histogram('target', reference)\n",
    "            tf.summary.histogram('qvalue', current_qvalue)\n",
    "            \n",
    "            tf.summary.scalar('td_loss', td_loss)\n",
    "            # Op to calculate every variable gradient\n",
    "            grads = tf.gradients(td_loss, self.weights)\n",
    "            grads = list(zip(grads, self.weights))\n",
    "            # Summarize all gradients\n",
    "            for grad, var in grads:\n",
    "                print(var.name)\n",
    "                tf.summary.histogram(var.name + '/gradient', grad)\n",
    "            \n",
    "            \n",
    "        return self.optimizer.minimize(td_loss, var_list=self.weights), td_loss\n",
    "    \n",
    "    def _create_target_update_op(self):\n",
    "        \"\"\" assign target_network.weights variables to their respective agent.weights values. \"\"\"\n",
    "        assigns = []\n",
    "        for w_agent, w_target in zip(self.weights, self.target_weights):\n",
    "            assigns.append(tf.assign(w_target, w_agent, validate_shape=True))\n",
    "        return assigns\n",
    "        \n",
    "        \n",
    "    \n",
    "    def rank_action(self, state, actions):\n",
    "        \n",
    "        qvalues = self._sess.run(self.qvalues, {self.state : np.repeat(state.reshape(-1, self._state_dim[0]), \n",
    "                                                                     actions.shape[0], axis=0), \n",
    "                                                 self.action : actions})\n",
    "        return qvalues\n",
    "    \n",
    "    # add rank_actions target\n",
    "    # action for environement is an array of items \n",
    "    # action for q function is an item \n",
    "    def target_rank_action(self, state, actions):\n",
    "        return self._sess.run(self.target_qvalues, {\n",
    "            self.target_state : np.repeat(state.reshape(-1, self._state_dim[0]), \n",
    "                                          actions.shape[0], axis=0),\n",
    "            self.target_action : actions,\n",
    "        })\n",
    "        \n",
    "        \n",
    "    def sample_action(self, state, actions):\n",
    "        \n",
    "        qvalues = self.rank_action(state, actions).reshape(-1)\n",
    "        \n",
    "        if np.random.rand() > self.epsilon:\n",
    "            idxs = qvalues.argsort()[::-1][:self._action_size]\n",
    "        else:\n",
    "            idxs = np.random.choice(range(actions.shape[0]), size=self._action_size, \n",
    "                                     p=softmax(qvalues))\n",
    "            \n",
    "        return actions[idxs]\n",
    "        \n",
    "        \n",
    "    def train(self, batch):\n",
    "        s, a, r, next_s, actions, done = batch\n",
    "        \n",
    "#         print(s.shape)\n",
    "#         print(a.shape)\n",
    "#         print(r.shape)\n",
    "#         print(next_s.shape)\n",
    "#         print(actions.shape)      \n",
    "#         print(self.next_as_ph.shape)\n",
    "        \n",
    "        _, loss, self.summary = self._sess.run([self.train_op, self.td_loss, self.merged], {\n",
    "                                    self.s_ph : s,\n",
    "                                    self.a_ph : a,\n",
    "                                    self.r_ph : r,\n",
    "                                    self.done_ph : done,\n",
    "                                    self.next_s_ph : next_s,\n",
    "                                    self.next_as_ph : actions\n",
    "                                })\n",
    "        return loss\n",
    "        \n",
    "    \n",
    "    def update_target_weights(self):\n",
    "        self._sess.run(self.target_update_op)\n",
    "        \n",
    "    def write_summary(self, step): \n",
    "        if self.summary:\n",
    "            self.train_writer.add_summary(self.summary, global_step=step)"
   ]
  },
  {
   "cell_type": "code",
   "execution_count": 8,
   "metadata": {
    "collapsed": true
   },
   "outputs": [],
   "source": [
    "def make_env():\n",
    "    env = gym.make('prim-gym-v1')\n",
    "    env.init_gym(env_1_args)\n",
    "    return env"
   ]
  },
  {
   "cell_type": "code",
   "execution_count": 9,
   "metadata": {
    "collapsed": true
   },
   "outputs": [],
   "source": [
    "def play_and_record(agent, env, exp_replay, n_steps=1, greedy=False):\n",
    "    # initial state\n",
    "    s = env.reset()\n",
    "    \n",
    "    rewards = []\n",
    "    # Play the game for n_steps as per instructions above\n",
    "    for _ in range(n_steps):\n",
    "        \n",
    "        (user, items) = s\n",
    "        \n",
    "        actions = items\n",
    "        action = agent.sample_action(user, actions)\n",
    "        \n",
    "        next_s, r, done, _ = env.step(action)\n",
    "            \n",
    "        rewards.append(r)\n",
    "        \n",
    "        (next_user, next_items) = next_s\n",
    "        \n",
    "        exp_replay.add(user, action, r, \n",
    "                       next_user, next_items, done)\n",
    "         \n",
    "        if done:\n",
    "            s = env.reset()\n",
    "        else:\n",
    "            s = next_s\n",
    "\n",
    "    return np.mean(rewards)\n",
    "\n",
    "\n",
    "def evaluate(env, agent, n_games=1, greedy=False, t_max=10000):\n",
    "    \"\"\" Plays n_games full games. If greedy, picks actions as argmax(qvalues). Returns mean reward. \"\"\"\n",
    "    rewards = []\n",
    "    \n",
    "    for _ in range(n_games):\n",
    "        (user, items) = env.reset()\n",
    "        \n",
    "        s = user\n",
    "        actions = items\n",
    "        \n",
    "        reward = 0\n",
    "        for _ in range(t_max):\n",
    "            \n",
    "            action = agent.sample_action(s, actions)\n",
    "            \n",
    "            obs, r, done, _ = env.step(action)\n",
    "            \n",
    "            (next_user, next_items) = obs\n",
    "            \n",
    "            s = next_user\n",
    "            actions = next_items\n",
    "            \n",
    "            reward += r\n",
    "            if done: break\n",
    "                \n",
    "        rewards.append(reward)\n",
    "    return np.mean(rewards)"
   ]
  },
  {
   "cell_type": "code",
   "execution_count": 10,
   "metadata": {
    "collapsed": true
   },
   "outputs": [],
   "source": [
    "from tqdm import trange\n",
    "from IPython.display import clear_output\n",
    "import matplotlib.pyplot as plt\n",
    "from pandas import DataFrame\n",
    "moving_average = lambda x, span=100, **kw: DataFrame({'x':np.asarray(x)}).x.ewm(span=span, **kw).mean().values\n",
    "%matplotlib inline"
   ]
  },
  {
   "cell_type": "code",
   "execution_count": 11,
   "metadata": {
    "scrolled": true
   },
   "outputs": [
    {
     "name": "stdout",
     "output_type": "stream",
     "text": [
      "(100, 2)\n",
      "(?,)\n",
      "(?,)\n",
      "<unknown>\n",
      "agent/dense_1/kernel:0\n",
      "INFO:tensorflow:Summary name agent/dense_1/kernel:0/gradient is illegal; using agent/dense_1/kernel_0/gradient instead.\n",
      "agent/dense_1/bias:0\n",
      "INFO:tensorflow:Summary name agent/dense_1/bias:0/gradient is illegal; using agent/dense_1/bias_0/gradient instead.\n",
      "agent/dense_2/kernel:0\n",
      "INFO:tensorflow:Summary name agent/dense_2/kernel:0/gradient is illegal; using agent/dense_2/kernel_0/gradient instead.\n",
      "agent/dense_2/bias:0\n",
      "INFO:tensorflow:Summary name agent/dense_2/bias:0/gradient is illegal; using agent/dense_2/bias_0/gradient instead.\n",
      "agent/dense_3/kernel:0\n",
      "INFO:tensorflow:Summary name agent/dense_3/kernel:0/gradient is illegal; using agent/dense_3/kernel_0/gradient instead.\n",
      "agent/dense_3/bias:0\n",
      "INFO:tensorflow:Summary name agent/dense_3/bias:0/gradient is illegal; using agent/dense_3/bias_0/gradient instead.\n"
     ]
    },
    {
     "data": {
      "text/plain": [
       "0.082"
      ]
     },
     "execution_count": 11,
     "metadata": {},
     "output_type": "execute_result"
    }
   ],
   "source": [
    "mean_rw_history = []\n",
    "td_loss_history = []\n",
    "\n",
    "env = make_env()\n",
    "\n",
    "state_dim = tuple([env_1_args['embedding_dimension']])\n",
    "action_dim = tuple([env_1_args['embedding_dimension']])\n",
    "\n",
    "# n_actions = env_1_args['num_items']\n",
    "\n",
    "agent = Qagent(sess, state_dim, action_dim, epsilon=0.5, action_size=5, logdir='./logs/run_diff_ctr')\n",
    "\n",
    "sess.run(tf.global_variables_initializer())\n",
    "agent.update_target_weights()\n",
    "\n",
    "exp_replay = ReplayBuffer(10**3)\n",
    "play_and_record(agent, env, exp_replay, n_steps=500)"
   ]
  },
  {
   "cell_type": "code",
   "execution_count": 12,
   "metadata": {
    "scrolled": false
   },
   "outputs": [
    {
     "name": "stdout",
     "output_type": "stream",
     "text": [
      "buffer size = 1000, epsilon = 0.09334\n"
     ]
    },
    {
     "data": {
      "image/png": "[encoded data removed]",
      "text/plain": [
       "<Figure size 432x288 with 1 Axes>"
      ]
     },
     "metadata": {},
     "output_type": "display_data"
    },
    {
     "data": {
      "image/png": "[encoded data removed]",
      "text/plain": [
       "<Figure size 864x288 with 1 Axes>"
      ]
     },
     "metadata": {},
     "output_type": "display_data"
    },
    {
     "name": "stderr",
     "output_type": "stream",
     "text": [
      "  8%|▊         | 83152/1000000 [41:09<7:33:48, 33.67it/s]"
     ]
    },
    {
     "ename": "KeyboardInterrupt",
     "evalue": "",
     "output_type": "error",
     "traceback": [
      "\u001b[0;31m---------------------------------------------------------------------------\u001b[0m",
      "\u001b[0;31mKeyboardInterrupt\u001b[0m                         Traceback (most recent call last)",
      "\u001b[0;32m<ipython-input-12-01c65dd80314>\u001b[0m in \u001b[0;36m<module>\u001b[0;34m()\u001b[0m\n\u001b[1;32m      4\u001b[0m \u001b[0;34m\u001b[0m\u001b[0m\n\u001b[1;32m      5\u001b[0m     \u001b[0;31m# play\u001b[0m\u001b[0;34m\u001b[0m\u001b[0;34m\u001b[0m\u001b[0m\n\u001b[0;32m----> 6\u001b[0;31m     \u001b[0mplay_and_record\u001b[0m\u001b[0;34m(\u001b[0m\u001b[0magent\u001b[0m\u001b[0;34m,\u001b[0m \u001b[0menv\u001b[0m\u001b[0;34m,\u001b[0m \u001b[0mexp_replay\u001b[0m\u001b[0;34m,\u001b[0m \u001b[0;36m10\u001b[0m\u001b[0;34m)\u001b[0m\u001b[0;34m\u001b[0m\u001b[0m\n\u001b[0m\u001b[1;32m      7\u001b[0m \u001b[0;34m\u001b[0m\u001b[0m\n\u001b[1;32m      8\u001b[0m     \u001b[0;31m# train\u001b[0m\u001b[0;34m\u001b[0m\u001b[0;34m\u001b[0m\u001b[0m\n",
      "\u001b[0;32m<ipython-input-9-28a7f85c0ec5>\u001b[0m in \u001b[0;36mplay_and_record\u001b[0;34m(agent, env, exp_replay, n_steps, greedy)\u001b[0m\n\u001b[1;32m     10\u001b[0m \u001b[0;34m\u001b[0m\u001b[0m\n\u001b[1;32m     11\u001b[0m         \u001b[0mactions\u001b[0m \u001b[0;34m=\u001b[0m \u001b[0mitems\u001b[0m\u001b[0;34m\u001b[0m\u001b[0m\n\u001b[0;32m---> 12\u001b[0;31m         \u001b[0maction\u001b[0m \u001b[0;34m=\u001b[0m \u001b[0magent\u001b[0m\u001b[0;34m.\u001b[0m\u001b[0msample_action\u001b[0m\u001b[0;34m(\u001b[0m\u001b[0muser\u001b[0m\u001b[0;34m,\u001b[0m \u001b[0mactions\u001b[0m\u001b[0;34m)\u001b[0m\u001b[0;34m\u001b[0m\u001b[0m\n\u001b[0m\u001b[1;32m     13\u001b[0m \u001b[0;34m\u001b[0m\u001b[0m\n\u001b[1;32m     14\u001b[0m         \u001b[0mnext_s\u001b[0m\u001b[0;34m,\u001b[0m \u001b[0mr\u001b[0m\u001b[0;34m,\u001b[0m \u001b[0mdone\u001b[0m\u001b[0;34m,\u001b[0m \u001b[0m_\u001b[0m \u001b[0;34m=\u001b[0m \u001b[0menv\u001b[0m\u001b[0;34m.\u001b[0m\u001b[0mstep\u001b[0m\u001b[0;34m(\u001b[0m\u001b[0maction\u001b[0m\u001b[0;34m)\u001b[0m\u001b[0;34m\u001b[0m\u001b[0m\n",
      "\u001b[0;32m<ipython-input-7-1c9a63885ce9>\u001b[0m in \u001b[0;36msample_action\u001b[0;34m(self, state, actions)\u001b[0m\n\u001b[1;32m    157\u001b[0m     \u001b[0;32mdef\u001b[0m \u001b[0msample_action\u001b[0m\u001b[0;34m(\u001b[0m\u001b[0mself\u001b[0m\u001b[0;34m,\u001b[0m \u001b[0mstate\u001b[0m\u001b[0;34m,\u001b[0m \u001b[0mactions\u001b[0m\u001b[0;34m)\u001b[0m\u001b[0;34m:\u001b[0m\u001b[0;34m\u001b[0m\u001b[0m\n\u001b[1;32m    158\u001b[0m \u001b[0;34m\u001b[0m\u001b[0m\n\u001b[0;32m--> 159\u001b[0;31m         \u001b[0mqvalues\u001b[0m \u001b[0;34m=\u001b[0m \u001b[0mself\u001b[0m\u001b[0;34m.\u001b[0m\u001b[0mrank_action\u001b[0m\u001b[0;34m(\u001b[0m\u001b[0mstate\u001b[0m\u001b[0;34m,\u001b[0m \u001b[0mactions\u001b[0m\u001b[0;34m)\u001b[0m\u001b[0;34m.\u001b[0m\u001b[0mreshape\u001b[0m\u001b[0;34m(\u001b[0m\u001b[0;34m-\u001b[0m\u001b[0;36m1\u001b[0m\u001b[0;34m)\u001b[0m\u001b[0;34m\u001b[0m\u001b[0m\n\u001b[0m\u001b[1;32m    160\u001b[0m \u001b[0;34m\u001b[0m\u001b[0m\n\u001b[1;32m    161\u001b[0m         \u001b[0;32mif\u001b[0m \u001b[0mnp\u001b[0m\u001b[0;34m.\u001b[0m\u001b[0mrandom\u001b[0m\u001b[0;34m.\u001b[0m\u001b[0mrand\u001b[0m\u001b[0;34m(\u001b[0m\u001b[0;34m)\u001b[0m \u001b[0;34m>\u001b[0m \u001b[0mself\u001b[0m\u001b[0;34m.\u001b[0m\u001b[0mepsilon\u001b[0m\u001b[0;34m:\u001b[0m\u001b[0;34m\u001b[0m\u001b[0m\n",
      "\u001b[0;32m<ipython-input-7-1c9a63885ce9>\u001b[0m in \u001b[0;36mrank_action\u001b[0;34m(self, state, actions)\u001b[0m\n\u001b[1;32m    141\u001b[0m         qvalues = self._sess.run(self.qvalues, {self.state : np.repeat(state.reshape(-1, self._state_dim[0]), \n\u001b[1;32m    142\u001b[0m                                                                      actions.shape[0], axis=0), \n\u001b[0;32m--> 143\u001b[0;31m                                                  self.action : actions})\n\u001b[0m\u001b[1;32m    144\u001b[0m         \u001b[0;32mreturn\u001b[0m \u001b[0mqvalues\u001b[0m\u001b[0;34m\u001b[0m\u001b[0m\n\u001b[1;32m    145\u001b[0m \u001b[0;34m\u001b[0m\u001b[0m\n",
      "\u001b[0;32m~/anaconda3/lib/python3.6/site-packages/tensorflow/python/client/session.py\u001b[0m in \u001b[0;36mrun\u001b[0;34m(self, fetches, feed_dict, options, run_metadata)\u001b[0m\n\u001b[1;32m    927\u001b[0m     \u001b[0;32mtry\u001b[0m\u001b[0;34m:\u001b[0m\u001b[0;34m\u001b[0m\u001b[0m\n\u001b[1;32m    928\u001b[0m       result = self._run(None, fetches, feed_dict, options_ptr,\n\u001b[0;32m--> 929\u001b[0;31m                          run_metadata_ptr)\n\u001b[0m\u001b[1;32m    930\u001b[0m       \u001b[0;32mif\u001b[0m \u001b[0mrun_metadata\u001b[0m\u001b[0;34m:\u001b[0m\u001b[0;34m\u001b[0m\u001b[0m\n\u001b[1;32m    931\u001b[0m         \u001b[0mproto_data\u001b[0m \u001b[0;34m=\u001b[0m \u001b[0mtf_session\u001b[0m\u001b[0;34m.\u001b[0m\u001b[0mTF_GetBuffer\u001b[0m\u001b[0;34m(\u001b[0m\u001b[0mrun_metadata_ptr\u001b[0m\u001b[0;34m)\u001b[0m\u001b[0;34m\u001b[0m\u001b[0m\n",
      "\u001b[0;32m~/anaconda3/lib/python3.6/site-packages/tensorflow/python/client/session.py\u001b[0m in \u001b[0;36m_run\u001b[0;34m(self, handle, fetches, feed_dict, options, run_metadata)\u001b[0m\n\u001b[1;32m   1135\u001b[0m     \u001b[0;31m# Create a fetch handler to take care of the structure of fetches.\u001b[0m\u001b[0;34m\u001b[0m\u001b[0;34m\u001b[0m\u001b[0m\n\u001b[1;32m   1136\u001b[0m     fetch_handler = _FetchHandler(\n\u001b[0;32m-> 1137\u001b[0;31m         self._graph, fetches, feed_dict_tensor, feed_handles=feed_handles)\n\u001b[0m\u001b[1;32m   1138\u001b[0m \u001b[0;34m\u001b[0m\u001b[0m\n\u001b[1;32m   1139\u001b[0m     \u001b[0;31m# Run request and get response.\u001b[0m\u001b[0;34m\u001b[0m\u001b[0;34m\u001b[0m\u001b[0m\n",
      "\u001b[0;32m~/anaconda3/lib/python3.6/site-packages/tensorflow/python/client/session.py\u001b[0m in \u001b[0;36m__init__\u001b[0;34m(self, graph, fetches, feeds, feed_handles)\u001b[0m\n\u001b[1;32m    469\u001b[0m     \"\"\"\n\u001b[1;32m    470\u001b[0m     \u001b[0;32mwith\u001b[0m \u001b[0mgraph\u001b[0m\u001b[0;34m.\u001b[0m\u001b[0mas_default\u001b[0m\u001b[0;34m(\u001b[0m\u001b[0;34m)\u001b[0m\u001b[0;34m:\u001b[0m\u001b[0;34m\u001b[0m\u001b[0m\n\u001b[0;32m--> 471\u001b[0;31m       \u001b[0mself\u001b[0m\u001b[0;34m.\u001b[0m\u001b[0m_fetch_mapper\u001b[0m \u001b[0;34m=\u001b[0m \u001b[0m_FetchMapper\u001b[0m\u001b[0;34m.\u001b[0m\u001b[0mfor_fetch\u001b[0m\u001b[0;34m(\u001b[0m\u001b[0mfetches\u001b[0m\u001b[0;34m)\u001b[0m\u001b[0;34m\u001b[0m\u001b[0m\n\u001b[0m\u001b[1;32m    472\u001b[0m     \u001b[0mself\u001b[0m\u001b[0;34m.\u001b[0m\u001b[0m_fetches\u001b[0m \u001b[0;34m=\u001b[0m \u001b[0;34m[\u001b[0m\u001b[0;34m]\u001b[0m\u001b[0;34m\u001b[0m\u001b[0m\n\u001b[1;32m    473\u001b[0m     \u001b[0mself\u001b[0m\u001b[0;34m.\u001b[0m\u001b[0m_targets\u001b[0m \u001b[0;34m=\u001b[0m \u001b[0;34m[\u001b[0m\u001b[0;34m]\u001b[0m\u001b[0;34m\u001b[0m\u001b[0m\n",
      "\u001b[0;32m~/anaconda3/lib/python3.6/site-packages/tensorflow/python/client/session.py\u001b[0m in \u001b[0;36mfor_fetch\u001b[0;34m(fetch)\u001b[0m\n\u001b[1;32m    260\u001b[0m       \u001b[0;31m# NOTE(touts): This is also the code path for namedtuples.\u001b[0m\u001b[0;34m\u001b[0m\u001b[0;34m\u001b[0m\u001b[0m\n\u001b[1;32m    261\u001b[0m       \u001b[0;32mreturn\u001b[0m \u001b[0m_ListFetchMapper\u001b[0m\u001b[0;34m(\u001b[0m\u001b[0mfetch\u001b[0m\u001b[0;34m)\u001b[0m\u001b[0;34m\u001b[0m\u001b[0m\n\u001b[0;32m--> 262\u001b[0;31m     \u001b[0;32melif\u001b[0m \u001b[0misinstance\u001b[0m\u001b[0;34m(\u001b[0m\u001b[0mfetch\u001b[0m\u001b[0;34m,\u001b[0m \u001b[0mcollections\u001b[0m\u001b[0;34m.\u001b[0m\u001b[0mMapping\u001b[0m\u001b[0;34m)\u001b[0m\u001b[0;34m:\u001b[0m\u001b[0;34m\u001b[0m\u001b[0m\n\u001b[0m\u001b[1;32m    263\u001b[0m       \u001b[0;32mreturn\u001b[0m \u001b[0m_DictFetchMapper\u001b[0m\u001b[0;34m(\u001b[0m\u001b[0mfetch\u001b[0m\u001b[0;34m)\u001b[0m\u001b[0;34m\u001b[0m\u001b[0m\n\u001b[1;32m    264\u001b[0m     \u001b[0;32melif\u001b[0m \u001b[0m_is_attrs_instance\u001b[0m\u001b[0;34m(\u001b[0m\u001b[0mfetch\u001b[0m\u001b[0;34m)\u001b[0m\u001b[0;34m:\u001b[0m\u001b[0;34m\u001b[0m\u001b[0m\n",
      "\u001b[0;32m~/anaconda3/lib/python3.6/abc.py\u001b[0m in \u001b[0;36m__instancecheck__\u001b[0;34m(cls, instance)\u001b[0m\n\u001b[1;32m    185\u001b[0m         \u001b[0;32mif\u001b[0m \u001b[0msubtype\u001b[0m \u001b[0;32mis\u001b[0m \u001b[0msubclass\u001b[0m\u001b[0;34m:\u001b[0m\u001b[0;34m\u001b[0m\u001b[0m\n\u001b[1;32m    186\u001b[0m             if (cls._abc_negative_cache_version ==\n\u001b[0;32m--> 187\u001b[0;31m                 \u001b[0mABCMeta\u001b[0m\u001b[0;34m.\u001b[0m\u001b[0m_abc_invalidation_counter\u001b[0m \u001b[0;32mand\u001b[0m\u001b[0;34m\u001b[0m\u001b[0m\n\u001b[0m\u001b[1;32m    188\u001b[0m                 subclass in cls._abc_negative_cache):\n\u001b[1;32m    189\u001b[0m                 \u001b[0;32mreturn\u001b[0m \u001b[0;32mFalse\u001b[0m\u001b[0;34m\u001b[0m\u001b[0m\n",
      "\u001b[0;31mKeyboardInterrupt\u001b[0m: "
     ]
    },
    {
     "name": "stderr",
     "output_type": "stream",
     "text": [
      "\r",
      "  8%|▊         | 83152/1000000 [41:20<7:35:46, 33.53it/s]"
     ]
    }
   ],
   "source": [
    "batch_size = 64\n",
    "\n",
    "for i in trange(10**6):\n",
    "    \n",
    "    # play\n",
    "    play_and_record(agent, env, exp_replay, 10)\n",
    "    \n",
    "    # train\n",
    "    batch = exp_replay.sample(batch_size)\n",
    "    loss_t = agent.train(batch) \n",
    "    td_loss_history.append(loss_t)\n",
    "    \n",
    "    # adjust agent parameters\n",
    "    if i % 500 == 0:\n",
    "        #load_weigths_into_target_network(agent, target_network)\n",
    "        #calling 'load_weights_into_target_network' repeatedly cause creating tf copy operator\n",
    "        #again and again, which bloat memory consumption along training step\n",
    "        #create'copy_step' once \n",
    "        if i % 2000 == 0:\n",
    "            agent.update_target_weights() \n",
    "        \n",
    "        agent.write_summary(step=i)\n",
    "        # TODO : epsilon scheduler in agent as function\n",
    "        agent.epsilon = max(agent.epsilon * 0.99, 0.01)\n",
    "        \n",
    "        mean_rw_history.append(evaluate(env, agent, n_games=3, t_max=1000))\n",
    "    \n",
    "    if i % 100 == 0:\n",
    "        clear_output(True)\n",
    "        print(\"buffer size = %i, epsilon = %.5f\" % (len(exp_replay), agent.epsilon))\n",
    "        \n",
    "        plt.subplot(1,2,1)\n",
    "        plt.title(\"mean reward per game\")\n",
    "        plt.plot(mean_rw_history)\n",
    "        plt.grid()\n",
    "\n",
    "        assert not np.isnan(loss_t)\n",
    "        plt.figure(figsize=[12, 4])\n",
    "        plt.subplot(1,2,2)\n",
    "        plt.title(\"TD loss history (moving average)\")\n",
    "        plt.plot(moving_average(np.array(td_loss_history), span=100, min_periods=100))\n",
    "        plt.grid()\n",
    "        plt.show()"
   ]
  },
  {
   "cell_type": "code",
   "execution_count": 21,
   "metadata": {
    "collapsed": true
   },
   "outputs": [],
   "source": [
    "import gym.wrappers\n",
    "env_monitor = gym.wrappers.Monitor(env,directory=\"./videos/run_diff_ctr/\",force=True)\n",
    "evaluate(env_monitor, agent, n_games=1, t_max=1000) \n",
    "env_monitor.close()"
   ]
  },
  {
   "cell_type": "code",
   "execution_count": 22,
   "metadata": {},
   "outputs": [
    {
     "data": {
      "text/html": [
       "\n",
       "<video width=\"640\" height=\"480\" controls>\n",
       "  <source src=\"./videos/run_gauss_kernel_ctr/openaigym.video.0.12120.video000000.mp4\" type=\"video/mp4\">\n",
       "</video>\n"
      ],
      "text/plain": [
       "<IPython.core.display.HTML object>"
      ]
     },
     "execution_count": 22,
     "metadata": {},
     "output_type": "execute_result"
    }
   ],
   "source": [
    "#show video\n",
    "from IPython.display import HTML\n",
    "import os\n",
    "\n",
    "video_names = list(filter(lambda s:s.endswith(\".mp4\"),os.listdir(\"./videos/run_diff_ctr/\")))\n",
    "\n",
    "HTML(\"\"\"\n",
    "<video width=\"640\" height=\"480\" controls>\n",
    "  <source src=\"{}\" type=\"video/mp4\">\n",
    "</video>\n",
    "\"\"\".format(\"./videos/run_gauss_kernel_ctr/\"+video_names[-1]))"
   ]
  },
  {
   "cell_type": "code",
   "execution_count": null,
   "metadata": {
    "collapsed": true
   },
   "outputs": [],
   "source": []
  }
 ],
 "metadata": {
  "kernelspec": {
   "display_name": "Python 3",
   "language": "python",
   "name": "python3"
  },
  "language_info": {
   "codemirror_mode": {
    "name": "ipython",
    "version": 3
   },
   "file_extension": ".py",
   "mimetype": "text/x-python",
   "name": "python",
   "nbconvert_exporter": "python",
   "pygments_lexer": "ipython3",
   "version": "3.6.3"
  }
 },
 "nbformat": 4,
 "nbformat_minor": 2
}
